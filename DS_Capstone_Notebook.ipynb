{
 "cells": [
  {
   "cell_type": "markdown",
   "metadata": {},
   "source": [
    "# INFRASTRUCTURE AND URBAN-RURAL DISPARITIES IN US TRAFFIC ACCIDENTS (2016–2023)"
   ]
  },
  {
   "cell_type": "markdown",
   "metadata": {},
   "source": [
    "\n",
    "- Author: Laura Rojas\n",
    "- Date:   June 2025\n",
    "- Dataset: US Accidents (2016-2023) - 7.7M records, 3GB"
   ]
  },
  {
   "cell_type": "markdown",
   "metadata": {},
   "source": [
    "## Overview\n",
    "\n",
    "This analysis identifies infrastructure factors that correlate with traffic accident severity in the U.S., it reveals that higher POI density and the presence of traffic controls are associated with lower severity levels. Additionally, traffic control effectiveness is especially notable during rush hours, suggesting strategic planning opportunities. While predictive modeling yielded limited accuracy, inferential tests strongly support key hypotheses. Results advocate for expanded urban infrastructure and targeted traffic interventions to reduce accident severity."
   ]
  },
  {
   "cell_type": "markdown",
   "metadata": {},
   "source": [
    "## Business Understanding and Context"
   ]
  },
  {
   "cell_type": "markdown",
   "metadata": {},
   "source": [
    "Traffic accidents are not only a matter of human behavior but are deeply intertwined with environmental context and infrastructural design. While weather and time are not controllable, infrastructure is and it is the domain where policy makers, urban planners and transportation agencies can intervene with measurable impact to improve not just indicators or metrics but people's life by ensuring safety on the roads.\n",
    "\n",
    "This project analyzes the US Accidents (2016–2023) dataset, a rich source of over 7 million accident records enriched with environmental, temporal, and contextual features. The primary business goal is to generate actionable insights to support data informed infrastructure planning and to highlight disparities between urban and rural settings in accident severity and outcomes.\n",
    "\n"
   ]
  },
  {
   "cell_type": "markdown",
   "metadata": {},
   "source": [
    "## Analytical Questions\n",
    "\n",
    "- Do accident severity patterns differ significantly between urban and rural areas?\n",
    "\n",
    "- How do interactions between urbanicity and infrastructure affect accident outcomes?, Is the lack of POIs in rural areas contributing to more severe accidents?\n",
    "\n",
    "- What role does the rush hour play, and how does it interact infrastructure factors?\n"
   ]
  },
  {
   "cell_type": "markdown",
   "metadata": {},
   "source": [
    "## Target Audience and Stakeholders\n",
    "- City and State Transportation Departments as entities in charge of identifying priority infrastructure interventions (signalization, lighting, road maintenance).\n",
    "\n",
    "- Urban Planners and Civil Engineers who can integrate data-driven accident prevention strategies into city design.\n",
    "\n",
    "- Public Policy Makers, Departems of Transit and other Public Agencies that play a role on designing equitable safety policies addressing rural–urban disparities.\n",
    "\n",
    "- Non-technical stakeholders (communities, city councils, public health officials) to raise awareness with analysis and results through accessible, interactive dashboards."
   ]
  },
  {
   "cell_type": "markdown",
   "metadata": {},
   "source": [
    "## Data Understanding\n",
    "\n",
    "This phase was our initial approach to the dataset. It was loaded using PySpark to optimize performance. We inspected the schema and a sample of the data to understand its structure, as well as the characteristics and formats of the fields."
   ]
  },
  {
   "cell_type": "code",
   "execution_count": 1,
   "metadata": {},
   "outputs": [],
   "source": [
    "# Load relevant imports here\n",
    "\n",
    "import numpy as np\n",
    "import pandas as pd\n",
    "import matplotlib.pyplot as plt\n",
    "import seaborn as sns\n",
    "from pyspark.sql import SparkSession, DataFrame as SparkDataFrame\n",
    "from pyspark.sql.functions import *\n",
    "from pyspark.sql import functions as F\n",
    "from pyspark.sql.functions import max as spark_max\n",
    "from pyspark.sql.types import *\n",
    "from pyspark.sql.types import DoubleType, FloatType\n",
    "from pyspark.ml import Pipeline\n",
    "from pyspark.ml.classification import LogisticRegression, RandomForestClassifier\n",
    "from pyspark.ml.evaluation import BinaryClassificationEvaluator, MulticlassClassificationEvaluator\n",
    "from pyspark.ml.feature import OneHotEncoder, StringIndexer, VectorAssembler\n",
    "from scipy import stats\n",
    "from scipy.stats import chi2_contingency, kruskal, mannwhitneyu, spearmanr\n",
    "from statsmodels.stats.contingency_tables import mcnemar"
   ]
  },
  {
   "cell_type": "code",
   "execution_count": 2,
   "metadata": {},
   "outputs": [
    {
     "name": "stderr",
     "output_type": "stream",
     "text": [
      "Setting default log level to \"WARN\".\n",
      "To adjust logging level use sc.setLogLevel(newLevel). For SparkR, use setLogLevel(newLevel).\n",
      "25/06/07 10:31:24 WARN NativeCodeLoader: Unable to load native-hadoop library for your platform... using builtin-java classes where applicable\n"
     ]
    }
   ],
   "source": [
    "\n",
    "# Create optimized Spark session for 3GB dataset\n",
    "spark = SparkSession.builder \\\n",
    "    .appName(\"US_Traffic_Accidents_Analysis\") \\\n",
    "    .config(\"spark.sql.shuffle.partitions\", \"8\") \\\n",
    "    .config(\"spark.driver.memory\", \"6g\") \\\n",
    "    .config(\"spark.executor.memory\", \"4g\") \\\n",
    "    .config(\"spark.sql.adaptive.enabled\", \"true\") \\\n",
    "    .config(\"spark.sql.adaptive.coalescePartitions.enabled\", \"true\") \\\n",
    "    .config(\"spark.serializer\", \"org.apache.spark.serializer.KryoSerializer\") \\\n",
    "    .getOrCreate()\n",
    "\n",
    "# line to fix error for timestamp with nanoseconds\n",
    "spark.conf.set(\"spark.sql.legacy.timeParserPolicy\", \"LEGACY\")"
   ]
  },
  {
   "cell_type": "code",
   "execution_count": 3,
   "metadata": {},
   "outputs": [],
   "source": [
    "# Set log level to reduce verbose output\n",
    "spark.sparkContext.setLogLevel(\"WARN\")"
   ]
  },
  {
   "cell_type": "code",
   "execution_count": 4,
   "metadata": {},
   "outputs": [
    {
     "name": "stderr",
     "output_type": "stream",
     "text": [
      "                                                                                \r"
     ]
    }
   ],
   "source": [
    "# Load CSV with optimized settings for large dataset\n",
    "df_accidents = spark.read \\\n",
    "    .option(\"header\", \"true\") \\\n",
    "    .option(\"inferSchema\", \"true\") \\\n",
    "    .option(\"multiline\", \"true\") \\\n",
    "    .option(\"escape\", '\"') \\\n",
    "    .option(\"timestampFormat\", \"yyyy-MM-dd HH:mm:ss\") \\\n",
    "    .csv(\"/Users/laurarojas/Documents/DataScience/DS_CapstoneProjects/Project_USTrafficAccidents/Data/US_Accidents_March23.csv\")"
   ]
  },
  {
   "cell_type": "code",
   "execution_count": 5,
   "metadata": {},
   "outputs": [
    {
     "name": "stderr",
     "output_type": "stream",
     "text": [
      "25/06/07 10:31:49 WARN SparkStringUtils: Truncated the string representation of a plan since it was too large. This behavior can be adjusted by setting 'spark.sql.debug.maxToStringFields'.\n"
     ]
    },
    {
     "data": {
      "text/plain": [
       "DataFrame[ID: string, Source: string, Severity: int, Start_Time: timestamp, End_Time: timestamp, Start_Lat: double, Start_Lng: double, End_Lat: double, End_Lng: double, Distance(mi): double, Description: string, Street: string, City: string, County: string, State: string, Zipcode: string, Country: string, Timezone: string, Airport_Code: string, Weather_Timestamp: timestamp, Temperature(F): double, Wind_Chill(F): double, Humidity(%): double, Pressure(in): double, Visibility(mi): double, Wind_Direction: string, Wind_Speed(mph): double, Precipitation(in): double, Weather_Condition: string, Amenity: boolean, Bump: boolean, Crossing: boolean, Give_Way: boolean, Junction: boolean, No_Exit: boolean, Railway: boolean, Roundabout: boolean, Station: boolean, Stop: boolean, Traffic_Calming: boolean, Traffic_Signal: boolean, Turning_Loop: boolean, Sunrise_Sunset: string, Civil_Twilight: string, Nautical_Twilight: string, Astronomical_Twilight: string]"
      ]
     },
     "execution_count": 5,
     "metadata": {},
     "output_type": "execute_result"
    }
   ],
   "source": [
    "# Cache the DataFrame for multiple operations (important for performance)\n",
    "df_accidents.cache()"
   ]
  },
  {
   "cell_type": "code",
   "execution_count": 6,
   "metadata": {},
   "outputs": [
    {
     "name": "stderr",
     "output_type": "stream",
     "text": [
      "                                                                                \r"
     ]
    },
    {
     "name": "stdout",
     "output_type": "stream",
     "text": [
      "Total records: 7,728,394\n",
      "Total columns: 46\n",
      "\n",
      "Dataset Schema:\n",
      "root\n",
      " |-- ID: string (nullable = true)\n",
      " |-- Source: string (nullable = true)\n",
      " |-- Severity: integer (nullable = true)\n",
      " |-- Start_Time: timestamp (nullable = true)\n",
      " |-- End_Time: timestamp (nullable = true)\n",
      " |-- Start_Lat: double (nullable = true)\n",
      " |-- Start_Lng: double (nullable = true)\n",
      " |-- End_Lat: double (nullable = true)\n",
      " |-- End_Lng: double (nullable = true)\n",
      " |-- Distance(mi): double (nullable = true)\n",
      " |-- Description: string (nullable = true)\n",
      " |-- Street: string (nullable = true)\n",
      " |-- City: string (nullable = true)\n",
      " |-- County: string (nullable = true)\n",
      " |-- State: string (nullable = true)\n",
      " |-- Zipcode: string (nullable = true)\n",
      " |-- Country: string (nullable = true)\n",
      " |-- Timezone: string (nullable = true)\n",
      " |-- Airport_Code: string (nullable = true)\n",
      " |-- Weather_Timestamp: timestamp (nullable = true)\n",
      " |-- Temperature(F): double (nullable = true)\n",
      " |-- Wind_Chill(F): double (nullable = true)\n",
      " |-- Humidity(%): double (nullable = true)\n",
      " |-- Pressure(in): double (nullable = true)\n",
      " |-- Visibility(mi): double (nullable = true)\n",
      " |-- Wind_Direction: string (nullable = true)\n",
      " |-- Wind_Speed(mph): double (nullable = true)\n",
      " |-- Precipitation(in): double (nullable = true)\n",
      " |-- Weather_Condition: string (nullable = true)\n",
      " |-- Amenity: boolean (nullable = true)\n",
      " |-- Bump: boolean (nullable = true)\n",
      " |-- Crossing: boolean (nullable = true)\n",
      " |-- Give_Way: boolean (nullable = true)\n",
      " |-- Junction: boolean (nullable = true)\n",
      " |-- No_Exit: boolean (nullable = true)\n",
      " |-- Railway: boolean (nullable = true)\n",
      " |-- Roundabout: boolean (nullable = true)\n",
      " |-- Station: boolean (nullable = true)\n",
      " |-- Stop: boolean (nullable = true)\n",
      " |-- Traffic_Calming: boolean (nullable = true)\n",
      " |-- Traffic_Signal: boolean (nullable = true)\n",
      " |-- Turning_Loop: boolean (nullable = true)\n",
      " |-- Sunrise_Sunset: string (nullable = true)\n",
      " |-- Civil_Twilight: string (nullable = true)\n",
      " |-- Nautical_Twilight: string (nullable = true)\n",
      " |-- Astronomical_Twilight: string (nullable = true)\n",
      "\n",
      "\n",
      "Sample Data (first 5 rows):\n",
      "+---+-------+--------+-------------------+-------------------+-----------------+------------------+-------+-------+------------+-------------------------------------------------------------------------------------+-------------------------+------------+----------+-----+----------+-------+----------+------------+-------------------+--------------+-------------+-----------+------------+--------------+--------------+---------------+-----------------+-----------------+-------+-----+--------+--------+--------+-------+-------+----------+-------+-----+---------------+--------------+------------+--------------+--------------+-----------------+---------------------+\n",
      "|ID |Source |Severity|Start_Time         |End_Time           |Start_Lat        |Start_Lng         |End_Lat|End_Lng|Distance(mi)|Description                                                                          |Street                   |City        |County    |State|Zipcode   |Country|Timezone  |Airport_Code|Weather_Timestamp  |Temperature(F)|Wind_Chill(F)|Humidity(%)|Pressure(in)|Visibility(mi)|Wind_Direction|Wind_Speed(mph)|Precipitation(in)|Weather_Condition|Amenity|Bump |Crossing|Give_Way|Junction|No_Exit|Railway|Roundabout|Station|Stop |Traffic_Calming|Traffic_Signal|Turning_Loop|Sunrise_Sunset|Civil_Twilight|Nautical_Twilight|Astronomical_Twilight|\n",
      "+---+-------+--------+-------------------+-------------------+-----------------+------------------+-------+-------+------------+-------------------------------------------------------------------------------------+-------------------------+------------+----------+-----+----------+-------+----------+------------+-------------------+--------------+-------------+-----------+------------+--------------+--------------+---------------+-----------------+-----------------+-------+-----+--------+--------+--------+-------+-------+----------+-------+-----+---------------+--------------+------------+--------------+--------------+-----------------+---------------------+\n",
      "|A-1|Source2|3       |2016-02-08 05:46:00|2016-02-08 11:00:00|39.865147        |-84.058723        |NULL   |NULL   |0.01        |Right lane blocked due to accident on I-70 Eastbound at Exit 41 OH-235 State Route 4.|I-70 E                   |Dayton      |Montgomery|OH   |45424     |US     |US/Eastern|KFFO        |2016-02-08 05:58:00|36.9          |NULL         |91.0       |29.68       |10.0          |Calm          |NULL           |0.02             |Light Rain       |false  |false|false   |false   |false   |false  |false  |false     |false  |false|false          |false         |false       |Night         |Night         |Night            |Night                |\n",
      "|A-2|Source2|2       |2016-02-08 06:07:59|2016-02-08 06:37:59|39.92805900000001|-82.831184        |NULL   |NULL   |0.01        |Accident on Brice Rd at Tussing Rd. Expect delays.                                   |Brice Rd                 |Reynoldsburg|Franklin  |OH   |43068-3402|US     |US/Eastern|KCMH        |2016-02-08 05:51:00|37.9          |NULL         |100.0      |29.65       |10.0          |Calm          |NULL           |0.0              |Light Rain       |false  |false|false   |false   |false   |false  |false  |false     |false  |false|false          |false         |false       |Night         |Night         |Night            |Day                  |\n",
      "|A-3|Source2|2       |2016-02-08 06:49:27|2016-02-08 07:19:27|39.063148        |-84.032608        |NULL   |NULL   |0.01        |Accident on OH-32 State Route 32 Westbound at Dela Palma Rd. Expect delays.          |State Route 32           |Williamsburg|Clermont  |OH   |45176     |US     |US/Eastern|KI69        |2016-02-08 06:56:00|36.0          |33.3         |100.0      |29.67       |10.0          |SW            |3.5            |NULL             |Overcast         |false  |false|false   |false   |false   |false  |false  |false     |false  |false|false          |true          |false       |Night         |Night         |Day              |Day                  |\n",
      "|A-4|Source2|3       |2016-02-08 07:23:34|2016-02-08 07:53:34|39.747753        |-84.20558199999998|NULL   |NULL   |0.01        |Accident on I-75 Southbound at Exits 52 52B US-35. Expect delays.                    |I-75 S                   |Dayton      |Montgomery|OH   |45417     |US     |US/Eastern|KDAY        |2016-02-08 07:38:00|35.1          |31.0         |96.0       |29.64       |9.0           |SW            |4.6            |NULL             |Mostly Cloudy    |false  |false|false   |false   |false   |false  |false  |false     |false  |false|false          |false         |false       |Night         |Day           |Day              |Day                  |\n",
      "|A-5|Source2|2       |2016-02-08 07:39:07|2016-02-08 08:09:07|39.627781        |-84.188354        |NULL   |NULL   |0.01        |Accident on McEwen Rd at OH-725 Miamisburg Centerville Rd. Expect delays.            |Miamisburg Centerville Rd|Dayton      |Montgomery|OH   |45459     |US     |US/Eastern|KMGY        |2016-02-08 07:53:00|36.0          |33.3         |89.0       |29.65       |6.0           |SW            |3.5            |NULL             |Mostly Cloudy    |false  |false|false   |false   |false   |false  |false  |false     |false  |false|false          |true          |false       |Day           |Day           |Day              |Day                  |\n",
      "+---+-------+--------+-------------------+-------------------+-----------------+------------------+-------+-------+------------+-------------------------------------------------------------------------------------+-------------------------+------------+----------+-----+----------+-------+----------+------------+-------------------+--------------+-------------+-----------+------------+--------------+--------------+---------------+-----------------+-----------------+-------+-----+--------+--------+--------+-------+-------+----------+-------+-----+---------------+--------------+------------+--------------+--------------+-----------------+---------------------+\n",
      "only showing top 5 rows\n",
      "\n"
     ]
    }
   ],
   "source": [
    "# Basic dataset inspection\n",
    "print(f\"Total records: {df_accidents.count():,}\")\n",
    "print(f\"Total columns: {len(df_accidents.columns)}\")\n",
    "\n",
    "# Display schema to understand data types\n",
    "print(\"\\nDataset Schema:\")\n",
    "df_accidents.printSchema()\n",
    "\n",
    "# Show sample data to understand structure\n",
    "print(\"\\nSample Data (first 5 rows):\")\n",
    "df_accidents.show(5, truncate=False)"
   ]
  },
  {
   "cell_type": "markdown",
   "metadata": {},
   "source": [
    "## Data Preparation\n",
    "In this phase, we carried out an initial exploration and assessed the quality of the information in the dataset. We checked each column for missing values, taking data types into account, and added percentages to identify which columns had the highest proportion of missing data in order to guide our decisions.\n",
    "\n",
    "A very conservative approach was implemented, aiming to preserve data integrity. Instead of massively deleting records, I focused on strategic imputation wherever possible.\n",
    "\n",
    "We identified severity as the key variable and noticed its distribution was skewed: 80% of accidents had severity level 2, 17% level 3, and only 3% level 4. Based on that, we created two new features:\n",
    "\n",
    "average_severity\n",
    "\n",
    "high_severity (a count of accidents with severity ≥ 3)"
   ]
  },
  {
   "cell_type": "code",
   "execution_count": 7,
   "metadata": {},
   "outputs": [
    {
     "name": "stdout",
     "output_type": "stream",
     "text": [
      "Missing values per column:\n",
      "  End_Lat: 3,402,762 (44.03%)\n",
      "  End_Lng: 3,402,762 (44.03%)\n",
      "  Description: 5 (0.00%)\n",
      "  Street: 10,869 (0.14%)\n",
      "  City: 253 (0.00%)\n",
      "  Zipcode: 1,915 (0.02%)\n",
      "  Timezone: 7,808 (0.10%)\n",
      "  Airport_Code: 22,635 (0.29%)\n",
      "  Weather_Timestamp: 120,228 (1.56%)\n",
      "  Temperature(F): 163,853 (2.12%)\n",
      "  Wind_Chill(F): 1,999,019 (25.87%)\n",
      "  Humidity(%): 174,144 (2.25%)\n",
      "  Pressure(in): 140,679 (1.82%)\n",
      "  Visibility(mi): 177,098 (2.29%)\n",
      "  Wind_Direction: 175,206 (2.27%)\n",
      "  Wind_Speed(mph): 571,233 (7.39%)\n",
      "  Precipitation(in): 2,203,586 (28.51%)\n",
      "  Weather_Condition: 173,459 (2.24%)\n",
      "  Sunrise_Sunset: 23,246 (0.30%)\n",
      "  Civil_Twilight: 23,246 (0.30%)\n",
      "  Nautical_Twilight: 23,246 (0.30%)\n",
      "  Astronomical_Twilight: 23,246 (0.30%)\n"
     ]
    }
   ],
   "source": [
    "# INITIAL DATA EXPLORATION AND QUALITY ASSESMENT\n",
    "# ================================================\n",
    "\n",
    "# Check for missing values in each column\n",
    "print(\"Missing values per column:\")\n",
    "missing_counts = []\n",
    "total_count = df_accidents.count()\n",
    "\n",
    "for field in df_accidents.schema.fields:\n",
    "    col_name = field.name\n",
    "    col_type = field.dataType\n",
    "    \n",
    "    # Start with isNull or empty string check\n",
    "    condition = (F.col(col_name).isNull() | (F.col(col_name) == \"\"))\n",
    "    \n",
    "    # If it is DoubleType or FloatType, also check for NaN\n",
    "    if isinstance(col_type, (DoubleType, FloatType)):\n",
    "        condition = condition | F.isnan(F.col(col_name))\n",
    "    \n",
    "    missing_count = df_accidents.filter(condition).count()\n",
    "    missing_pct = (missing_count / total_count) * 100 # percentage to identify columns with high missing values\n",
    "\n",
    "    if missing_pct > 0:\n",
    "        print(f\"  {col_name}: {missing_count:,} ({missing_pct:.2f}%)\")\n",
    "    missing_counts.append((col_name, missing_count, missing_pct))"
   ]
  },
  {
   "cell_type": "code",
   "execution_count": 8,
   "metadata": {},
   "outputs": [
    {
     "name": "stdout",
     "output_type": "stream",
     "text": [
      "Severity distribution:\n",
      "+--------+-------+\n",
      "|Severity|  count|\n",
      "+--------+-------+\n",
      "|       1|  67366|\n",
      "|       2|6156981|\n",
      "|       3|1299337|\n",
      "|       4| 204710|\n",
      "+--------+-------+\n",
      "\n",
      "Date range:\n",
      "+-------------------+-------------------+\n",
      "|    min(Start_Time)|    max(Start_Time)|\n",
      "+-------------------+-------------------+\n",
      "|2016-01-14 20:18:33|2023-03-31 23:30:00|\n",
      "+-------------------+-------------------+\n",
      "\n",
      "Geographic coverage:\n"
     ]
    },
    {
     "name": "stderr",
     "output_type": "stream",
     "text": [
      "[Stage 154:>                                                        (0 + 1) / 1]\r"
     ]
    },
    {
     "name": "stdout",
     "output_type": "stream",
     "text": [
      "+---------------------+--------------------+\n",
      "|count(DISTINCT State)|count(DISTINCT City)|\n",
      "+---------------------+--------------------+\n",
      "|                   49|               13678|\n",
      "+---------------------+--------------------+\n",
      "\n"
     ]
    },
    {
     "name": "stderr",
     "output_type": "stream",
     "text": [
      "                                                                                \r"
     ]
    }
   ],
   "source": [
    "# Check data range for important columns\n",
    "\n",
    "# Severity distribution (our target variable)\n",
    "print(\"Severity distribution:\")\n",
    "df_accidents.groupBy(\"Severity\").count().orderBy(\"Severity\").show()\n",
    "\n",
    "# Date range check\n",
    "print(\"Date range:\")\n",
    "df_accidents.select(\n",
    "    F.min(\"Start_Time\"),\n",
    "    F.max(\"Start_Time\")\n",
    ").show()\n",
    "\n",
    "# Geographic coverage\n",
    "print(\"Geographic coverage:\")\n",
    "df_accidents.select(\n",
    "    F.countDistinct(\"State\"),\n",
    "    F.countDistinct(\"City\")\n",
    ").show()\n"
   ]
  },
  {
   "cell_type": "markdown",
   "metadata": {},
   "source": [
    "For cleaning and preprocessing, the most impactful step was the removal of duplicates, which only affected about 7% of the dataset. \n",
    "During this stage, new features were created for temporal, spatial, environmental, and infrastructure related analysis."
   ]
  },
  {
   "cell_type": "code",
   "execution_count": 9,
   "metadata": {},
   "outputs": [
    {
     "name": "stdout",
     "output_type": "stream",
     "text": [
      "  Removed 0 records with invalid critical datetime/spatial info\n",
      "  Remaining records: 7,728,394\n"
     ]
    }
   ],
   "source": [
    "# DATA CLEANING AND PREPROCESSING\n",
    "# ========================================\n",
    "\n",
    "# Initial count\n",
    "initial_count = df_accidents.count()\n",
    "\n",
    "# Only focus on the truly critical fields for temporal and spatial analysis\n",
    "critical_columns = [\"Start_Time\", \"End_Time\", \"Start_Lat\", \"Start_Lng\", \"Severity\", \"Distance(mi)\", \"State\"]\n",
    "\n",
    "# Remove nulls and NaNs in core columns\n",
    "df_accidents_cleaned = df_accidents\n",
    "for c in critical_columns:\n",
    "    dtype = df_accidents.schema[c].dataType\n",
    "    condition = col(c).isNotNull()\n",
    "    if isinstance(dtype, (DoubleType, FloatType)):\n",
    "        condition = condition & (~isnan(col(c)))\n",
    "    df_accidents_cleaned = df_accidents_cleaned.filter(condition)\n",
    "\n",
    "# Ensure Start_Time is valid timestamp and extract hour\n",
    "df_accidents_cleaned = df_accidents_cleaned.withColumn(\"Start_Time\", to_timestamp(\"Start_Time\"))\n",
    "\n",
    "# drop rows where to_timestamp conversion failed (still null)\n",
    "df_accidents_cleaned = df_accidents_cleaned.filter(col(\"Start_Time\").isNotNull())\n",
    "\n",
    "# Add hour column\n",
    "df_accidents_cleaned = df_accidents_cleaned.withColumn(\"hour\", hour(\"Start_Time\"))\n",
    "\n",
    "# Final count\n",
    "final_count = df_accidents_cleaned.count()\n",
    "removed = initial_count - final_count\n",
    "\n",
    "print(f\"  Removed {removed:,} records with invalid critical datetime/spatial info\")\n",
    "print(f\"  Remaining records: {final_count:,}\")\n",
    "\n"
   ]
  },
  {
   "cell_type": "code",
   "execution_count": 10,
   "metadata": {},
   "outputs": [
    {
     "name": "stdout",
     "output_type": "stream",
     "text": [
      "  Current severity distribution:\n",
      "Severity 1: 67,366\n",
      "Severity 2: 6,156,981\n",
      "Severity 3: 1,299,337\n",
      "Severity 4: 204,710\n",
      "Removed -7,728,394 records with invalid severity\n",
      "Remaining records: 7,728,394\n"
     ]
    }
   ],
   "source": [
    "# Handle invalid severity values (should be 1-4)\n",
    "\n",
    "# Check current severity distribution\n",
    "severity_dist = df_accidents_cleaned.groupBy(\"Severity\").count().orderBy(\"Severity\").collect()\n",
    "print(\"  Current severity distribution:\")\n",
    "for row in severity_dist:\n",
    "    print(f\"Severity {row['Severity']}: {row['count']:,}\")\n",
    "\n",
    "# Filter to keep only valid severity values (1-4)\n",
    "df_accidents_cleaned = df_accidents_cleaned.filter(F.col(\"Severity\").between(1, 4))\n",
    "\n",
    "after_severity_clean = df_accidents_cleaned.count()\n",
    "removed_severity = removed - after_severity_clean\n",
    "\n",
    "print(f\"Removed {removed_severity:,} records with invalid severity\")\n",
    "print(f\"Remaining records: {after_severity_clean:,}\")"
   ]
  },
  {
   "cell_type": "code",
   "execution_count": 11,
   "metadata": {},
   "outputs": [
    {
     "name": "stderr",
     "output_type": "stream",
     "text": [
      "[Stage 177:>                                                        (0 + 1) / 1]\r"
     ]
    },
    {
     "name": "stdout",
     "output_type": "stream",
     "text": [
      "Filled missing Weather_Condition with 'Unknown'\n",
      "Filled missing Visibility with median: 10.0 miles\n"
     ]
    },
    {
     "name": "stderr",
     "output_type": "stream",
     "text": [
      "                                                                                \r"
     ]
    }
   ],
   "source": [
    "#Handle missing values in weather columns strategically\n",
    "\n",
    "# For temperature - fill with state/month average\n",
    "temp_avg_by_state_month = df_accidents_cleaned.filter(F.col(\"Temperature(F)\").isNotNull()) \\\n",
    "    .withColumn(\"month\", F.month(\"Start_Time\")) \\\n",
    "    .groupBy(\"State\", \"month\") \\\n",
    "    .agg(F.avg(\"Temperature(F)\"))\n",
    "\n",
    "# For weather condition - fill with 'Unknown'\n",
    "df_accidents_cleaned = df_accidents_cleaned.fillna({\"Weather_Condition\": \"Unknown\"})\n",
    "\n",
    "# For visibility - fill with median value\n",
    "visibility_median = df_accidents_cleaned.select(F.expr(\"percentile_approx(`Visibility(mi)`, 0.5)\")).collect()[0][0]\n",
    "df_accidents_cleaned = df_accidents_cleaned.fillna({\"Visibility(mi)\": visibility_median})\n",
    "\n",
    "print(f\"Filled missing Weather_Condition with 'Unknown'\")\n",
    "print(f\"Filled missing Visibility with median: {visibility_median:.1f} miles\")\n"
   ]
  },
  {
   "cell_type": "code",
   "execution_count": 12,
   "metadata": {},
   "outputs": [
    {
     "name": "stdout",
     "output_type": "stream",
     "text": [
      "\n",
      "Removing duplicate records...\n"
     ]
    },
    {
     "name": "stderr",
     "output_type": "stream",
     "text": [
      "[Stage 183:>                                                        (0 + 1) / 1]\r"
     ]
    },
    {
     "name": "stdout",
     "output_type": "stream",
     "text": [
      "\n",
      "CLEANING SUMMARY:\n",
      "Original records: 7,728,394\n",
      "Final records: 7,186,791\n",
      "Total removed: 541,603 (7.01%)\n",
      "Data quality score: 93.0%\n"
     ]
    },
    {
     "name": "stderr",
     "output_type": "stream",
     "text": [
      "                                                                                \r"
     ]
    }
   ],
   "source": [
    "# Remove duplicate records\n",
    "print(\"\\nRemoving duplicate records...\")\n",
    "\n",
    "before_dedup = df_accidents_cleaned.count()\n",
    "df_accidents_cleaned = df_accidents_cleaned.dropDuplicates([\"Start_Time\", \"Start_Lat\", \"Start_Lng\"])\n",
    "after_dedup = df_accidents_cleaned.count()\n",
    "removed_duplicates = before_dedup - after_dedup\n",
    "\n",
    "# Final data quality summary\n",
    "total_removed = initial_count - after_dedup\n",
    "removal_pct = (total_removed / initial_count) * 100\n",
    "\n",
    "print(f\"\\nCLEANING SUMMARY:\")\n",
    "print(f\"Original records: {initial_count:,}\")\n",
    "print(f\"Final records: {after_dedup:,}\")\n",
    "print(f\"Total removed: {total_removed:,} ({removal_pct:.2f}%)\")\n",
    "print(f\"Data quality score: {100-removal_pct:.1f}%\")\n"
   ]
  },
  {
   "cell_type": "code",
   "execution_count": 13,
   "metadata": {},
   "outputs": [],
   "source": [
    "# FEATURE ENGINEERING\n",
    "# Creating temporal, spatial, environmental and infrastructure features\n",
    "#=======================================================================\n",
    "\n",
    "df_features = df_accidents_cleaned \\\n",
    "    .withColumn(\"Start_Time_parsed\", F.to_timestamp(\"Start_Time\", \"yyyy-MM-dd HH:mm:ss\")) \\\n",
    "    .withColumn(\"End_Time_parsed\", F.to_timestamp(\"End_Time\", \"yyyy-MM-dd HH:mm:ss\")) \\\n",
    "    .drop(\"Start_Time\", \"End_Time\") \\\n",
    "    .withColumnRenamed(\"Start_Time_parsed\", \"Start_Time\") \\\n",
    "    .withColumnRenamed(\"End_Time_parsed\", \"End_Time\")"
   ]
  },
  {
   "cell_type": "code",
   "execution_count": 14,
   "metadata": {},
   "outputs": [],
   "source": [
    "# ====  TEMPORAL FEATURES  ====\n",
    "\n",
    "df_features = df_features \\\n",
    "    .withColumn(\"hour\", F.hour(\"Start_Time\")) \\\n",
    "    .withColumn(\"day_of_week\", F.dayofweek(\"Start_Time\")) \\\n",
    "    .withColumn(\"month\", F.month(\"Start_Time\")) \\\n",
    "    .withColumn(\"year\", F.year(\"Start_Time\")) \\\n",
    "    .withColumn(\"quarter\", F.quarter(\"Start_Time\")) \\\n",
    "    .withColumn(\"day_of_year\", F.dayofyear(\"Start_Time\"))\n",
    "\n",
    "# Rush hour indicators (based on traffic patterns)\n",
    "df_features = df_features \\\n",
    "    .withColumn(\"morning_rush\", F.when((F.col(\"hour\") >= 7) & (F.col(\"hour\") <= 9), 1).otherwise(0)) \\\n",
    "    .withColumn(\"evening_rush\", F.when((F.col(\"hour\") >= 17) & (F.col(\"hour\") <= 19), 1).otherwise(0)) \\\n",
    "    .withColumn(\"rush_hour\", F.when((F.col(\"morning_rush\") == 1) | (F.col(\"evening_rush\") == 1), 1).otherwise(0))\n",
    "\n",
    "# Weekend vs weekday\n",
    "df_features = df_features \\\n",
    "    .withColumn(\"is_weekend\", F.when(F.col(\"day_of_week\").isin([1, 7]), 1).otherwise(0))  # Sunday=1, Saturday=7\n",
    "\n",
    "# Time of day categories\n",
    "df_features = df_features \\\n",
    "    .withColumn(\"time_of_day\", \n",
    "                F.when((F.col(\"hour\") >= 6) & (F.col(\"hour\") < 12), \"Morning\")\n",
    "                .when((F.col(\"hour\") >= 12) & (F.col(\"hour\") < 18), \"Afternoon\")\n",
    "                .when((F.col(\"hour\") >= 18) & (F.col(\"hour\") < 22), \"Evening\")\n",
    "                .otherwise(\"Night\"))"
   ]
  },
  {
   "cell_type": "code",
   "execution_count": 15,
   "metadata": {},
   "outputs": [],
   "source": [
    "# ====  SPATIAL FEATURES  ====\n",
    "\n",
    "# Urban vs Rural classification, the idea is to simplify the approach using population-based city classification or region \n",
    "\n",
    "# Major metropolitan areas and large cities\n",
    "major_cities = [\n",
    "    \"New York\", \"Los Angeles\", \"Chicago\", \"Houston\", \"Phoenix\", \"Philadelphia\",\n",
    "    \"San Antonio\", \"San Diego\", \"Dallas\", \"San Jose\", \"Austin\", \"Jacksonville\",\n",
    "    \"Fort Worth\", \"Columbus\", \"Indianapolis\", \"Charlotte\", \"San Francisco\",\n",
    "    \"Seattle\", \"Denver\", \"Washington\", \"Boston\", \"El Paso\", \"Detroit\", \"Nashville\",\n",
    "    \"Portland\", \"Memphis\", \"Oklahoma City\", \"Las Vegas\", \"Louisville\", \"Baltimore\",\n",
    "    \"Milwaukee\", \"Albuquerque\", \"Tucson\", \"Fresno\", \"Sacramento\", \"Mesa\",\n",
    "    \"Kansas City\", \"Atlanta\", \"Miami\", \"Colorado Springs\", \"Raleigh\", \"Omaha\",\n",
    "    \"Long Beach\", \"Virginia Beach\", \"Oakland\", \"Minneapolis\", \"Tampa\", \"Tulsa\",\n",
    "    \"Arlington\", \"New Orleans\"\n",
    "]\n",
    "\n",
    "df_features = df_features \\\n",
    "    .withColumn(\"urban_rural\", \n",
    "                F.when(F.col(\"City\").isin(major_cities), \"Urban\")\n",
    "                .otherwise(\"Rural\"))\n",
    "\n",
    "# Geographic regions using simplified US regions\n",
    "northeast_states = [\"ME\", \"NH\", \"VT\", \"MA\", \"RI\", \"CT\", \"NY\", \"NJ\", \"PA\"]\n",
    "southeast_states = [\"DE\", \"MD\", \"DC\", \"VA\", \"WV\", \"KY\", \"TN\", \"NC\", \"SC\", \"GA\", \"FL\", \"AL\", \"MS\", \"AR\", \"LA\"]\n",
    "midwest_states = [\"OH\", \"MI\", \"IN\", \"WI\", \"IL\", \"MN\", \"IA\", \"MO\", \"ND\", \"SD\", \"NE\", \"KS\"]\n",
    "southwest_states = [\"TX\", \"OK\", \"NM\", \"AZ\"]\n",
    "west_states = [\"CO\", \"WY\", \"MT\", \"ID\", \"WA\", \"OR\", \"UT\", \"NV\", \"CA\", \"AK\", \"HI\"]\n",
    "\n",
    "df_features = df_features \\\n",
    "    .withColumn(\"region\",\n",
    "                F.when(F.col(\"State\").isin(northeast_states), \"Northeast\")\n",
    "                .when(F.col(\"State\").isin(southeast_states), \"Southeast\")\n",
    "                .when(F.col(\"State\").isin(midwest_states), \"Midwest\")\n",
    "                .when(F.col(\"State\").isin(southwest_states), \"Southwest\")\n",
    "                .when(F.col(\"State\").isin(west_states), \"West\")\n",
    "                .otherwise(\"Other\"))"
   ]
  },
  {
   "cell_type": "code",
   "execution_count": 16,
   "metadata": {},
   "outputs": [],
   "source": [
    "# ====  ENVIRONMENTAL FEATURES  ====\n",
    "\n",
    "# Weather severity scoring\n",
    "df_features = df_features \\\n",
    "    .withColumn(\"weather_severity\",\n",
    "                F.when(F.col(\"Weather_Condition\").rlike(\"(?i).*(snow|blizzard|ice|sleet).*\"), 4)\n",
    "                .when(F.col(\"Weather_Condition\").rlike(\"(?i).*(heavy rain|thunderstorm|tornado).*\"), 3)\n",
    "                .when(F.col(\"Weather_Condition\").rlike(\"(?i).*(rain|drizzle|fog|mist).*\"), 2)\n",
    "                .when(F.col(\"Weather_Condition\").rlike(\"(?i).*(cloudy|overcast).*\"), 1)\n",
    "                .otherwise(0))  # Clear conditions\n",
    "\n",
    "# Temperature categories\n",
    "df_features = df_features \\\n",
    "    .withColumn(\"temp_category\",\n",
    "                F.when(F.col(\"Temperature(F)\") < 32, \"Freezing\")\n",
    "                .when(F.col(\"Temperature(F)\") < 50, \"Cold\")\n",
    "                .when(F.col(\"Temperature(F)\") < 70, \"Mild\")\n",
    "                .when(F.col(\"Temperature(F)\") < 85, \"Warm\")\n",
    "                .otherwise(\"Hot\"))\n",
    "\n",
    "# Visibility categories\n",
    "df_features = df_features \\\n",
    "    .withColumn(\"visibility_category\",\n",
    "                F.when(F.col(\"Visibility(mi)\") < 1, \"Very_Poor\")\n",
    "                .when(F.col(\"Visibility(mi)\") < 5, \"Poor\")\n",
    "                .when(F.col(\"Visibility(mi)\") < 10, \"Moderate\")\n",
    "                .otherwise(\"Good\"))"
   ]
  },
  {
   "cell_type": "code",
   "execution_count": 17,
   "metadata": {},
   "outputs": [],
   "source": [
    "# ====  INFRASTRUCTURE FEATURES  ====\n",
    "\n",
    "# Count of nearby Points of Interest (POI)\n",
    "poi_columns = [\"Amenity\", \"Bump\", \"Crossing\", \"Give_Way\", \"Junction\", \n",
    "               \"No_Exit\", \"Railway\", \"Roundabout\", \"Station\", \"Stop\", \n",
    "               \"Traffic_Calming\", \"Traffic_Signal\", \"Turning_Loop\"]\n",
    "\n",
    "# Fill null POI values with False\n",
    "for col in poi_columns:\n",
    "    df_features = df_features.fillna({col: False})\n",
    "\n",
    "\n",
    "# Create POI count\n",
    "poi_expr = \" + \".join([f\"CAST({col} AS INT)\" for col in poi_columns if col in df_features.columns])\n",
    "df_features = df_features.withColumn(\"poi_count\", F.expr(poi_expr))\n",
    "\n",
    "\n",
    "# Traffic control presence\n",
    "df_features = df_features \\\n",
    "    .withColumn(\"has_traffic_control\", \n",
    "                F.when((F.col(\"Traffic_Signal\") == True) | \n",
    "                       (F.col(\"Stop\") == True) | \n",
    "                       (F.col(\"Traffic_Calming\") == True), 1).otherwise(0))"
   ]
  },
  {
   "cell_type": "code",
   "execution_count": 18,
   "metadata": {},
   "outputs": [
    {
     "name": "stdout",
     "output_type": "stream",
     "text": [
      "Total features created: 65\n"
     ]
    },
    {
     "data": {
      "text/plain": [
       "DataFrame[ID: string, Source: string, Severity: int, Start_Lat: double, Start_Lng: double, End_Lat: double, End_Lng: double, Distance(mi): double, Description: string, Street: string, City: string, County: string, State: string, Zipcode: string, Country: string, Timezone: string, Airport_Code: string, Weather_Timestamp: timestamp, Temperature(F): double, Wind_Chill(F): double, Humidity(%): double, Pressure(in): double, Visibility(mi): double, Wind_Direction: string, Wind_Speed(mph): double, Precipitation(in): double, Weather_Condition: string, Amenity: boolean, Bump: boolean, Crossing: boolean, Give_Way: boolean, Junction: boolean, No_Exit: boolean, Railway: boolean, Roundabout: boolean, Station: boolean, Stop: boolean, Traffic_Calming: boolean, Traffic_Signal: boolean, Turning_Loop: boolean, Sunrise_Sunset: string, Civil_Twilight: string, Nautical_Twilight: string, Astronomical_Twilight: string, hour: int, Start_Time: timestamp, End_Time: timestamp, day_of_week: int, month: int, year: int, quarter: int, day_of_year: int, morning_rush: int, evening_rush: int, rush_hour: int, is_weekend: int, time_of_day: string, urban_rural: string, region: string, weather_severity: int, temp_category: string, visibility_category: string, poi_count: int, has_traffic_control: int, high_severity: int]"
      ]
     },
     "execution_count": 18,
     "metadata": {},
     "output_type": "execute_result"
    }
   ],
   "source": [
    "# ====  TARGET VARIABLE ENGINEERING  ====\n",
    "\n",
    "# Binary severity classification (High severity: 3-4, Low severity: 1-2)\n",
    "df_features = df_features \\\n",
    "    .withColumn(\"high_severity\", F.when(F.col(\"Severity\") >= 3, 1).otherwise(0))\n",
    "\n",
    "\n",
    "print(f\"Total features created: {len(df_features.columns)}\")\n",
    "\n",
    "# Cache the feature-engineered dataset\n",
    "df_features.cache()"
   ]
  },
  {
   "cell_type": "markdown",
   "metadata": {},
   "source": [
    "### EDA and Visualizations\n",
    "In this phase, I carried out preliminary analyses within each category to identify early patterns that could offer clues about where to direct the deeper analysis. It was during this process that I gained clarity on the key questions and hypotheses to pursue in the project.\n",
    "\n",
    "For Temporal Patterns, the analyses included:\n",
    "\n",
    "- Accidents by hour of the day\n",
    "- Peak hour identification\n",
    "- Day-of-the-week patterns\n",
    "- Week vs. weekend comparisons\n",
    "\n",
    "For Spatial Patterns, the focus was on:\n",
    "\n",
    "- Accidents by state\n",
    "- Urban vs. rural comparison\n",
    "- Regional analysis\n",
    "\n",
    "Environmental Patterns\n",
    "This section focused on analyzing the impact of environmental conditions, including weather, temperature, and visibility, on accident severity.\n",
    "\n",
    "Infrastructure Patterns\n",
    "We summarized and clustered all Points of Interest (POIs) without analyzing their individual effects, aiming instead to understand the broader relationship between the mere presence of POIs and accident severity.\n",
    "\n",
    "We also examined the impact of traffic control on both average severity and the frequency of high-severity accidents.\n",
    "\n",
    "Severity Distribution by Traffic Control\n",
    "At this stage, the analysis started to truly take shape and sparked my interest in factors beyond time or weather, natural phenomena with limited actionable potential. Instead, the focus shifted toward elements that could be more directly influenced or managed.\n",
    "\n",
    "Key insights:\n",
    "\n",
    "- POI Impact\n",
    "Areas with 0 POIs had an average severity of 2.253\n",
    "Areas with 1 or more POIs had an average severity of 2.176\n",
    "This represents an 8.1% reduction in average severity, suggesting a potential protective effect of developed infrastructure or services.\n",
    "\n",
    "- Traffic Control Effectiveness\n",
    "Average severity was reduced by 7.2% in areas with traffic control measures.\n",
    "\n",
    "- High-Severity Accident Reduction\n",
    "The rate of high-severity accidents (severity ≥ 3) dropped by 60.4% in areas with traffic control.\n",
    "No control: 22.9%\n",
    "With control: 9.1%"
   ]
  },
  {
   "cell_type": "code",
   "execution_count": 19,
   "metadata": {},
   "outputs": [],
   "source": [
    "# EXPLORATORY DATA ANALYSIS AND VISUALIZATIONS\n",
    "# ===============================================\n",
    "\n",
    "import plotly.express as px\n",
    "import plotly.graph_objects as go\n",
    "from plotly.subplots import make_subplots\n",
    "\n",
    "# Set visualization style\n",
    "plt.style.use('seaborn-v0_8-darkgrid')\n",
    "sns.set_palette(\"husl\")\n"
   ]
  },
  {
   "cell_type": "code",
   "execution_count": 20,
   "metadata": {},
   "outputs": [
    {
     "name": "stdout",
     "output_type": "stream",
     "text": [
      "\n",
      "1. Accidents by Hour of Day:\n"
     ]
    },
    {
     "name": "stderr",
     "output_type": "stream",
     "text": [
      "                                                                                \r"
     ]
    },
    {
     "name": "stdout",
     "output_type": "stream",
     "text": [
      "+----+--------------+------------------+\n",
      "|hour|accident_count|      avg_severity|\n",
      "+----+--------------+------------------+\n",
      "|   0|         98789|2.2281326868376032|\n",
      "|   1|         84585|2.1975172902996984|\n",
      "|   2|         81784| 2.215690110535068|\n",
      "|   3|         73880|2.2410530590146185|\n",
      "|   4|        149067| 2.240730678151435|\n",
      "|   5|        213412|2.2255402695256126|\n",
      "|   6|        386223|2.2128770166458236|\n",
      "|   7|        563091|2.1926544732556548|\n",
      "|   8|        554546|2.1938576781727757|\n",
      "|   9|        345448| 2.229814617540122|\n",
      "|  10|        324846| 2.224333992107029|\n",
      "|  11|        334332| 2.220200279961236|\n",
      "|  12|        326454|2.2269140522094997|\n",
      "|  13|        361708|2.2194864365731473|\n",
      "|  14|        410412|2.2107735641258053|\n",
      "|  15|        483208|2.2114348272379596|\n",
      "|  16|        538083| 2.215282772360398|\n",
      "|  17|        534531| 2.219813256855075|\n",
      "|  18|        402478|2.2367707054795543|\n",
      "|  19|        274717|  2.24467724967876|\n",
      "+----+--------------+------------------+\n",
      "only showing top 20 rows\n",
      "\n",
      "   Top 3 peak hours: [(7, 563091), (8, 554546), (16, 538083)]\n",
      "\n",
      "2. Accidents by Day of Week:\n",
      "+-----------+--------------+------------------+\n",
      "|day_of_week|accident_count|      avg_severity|\n",
      "+-----------+--------------+------------------+\n",
      "|          1|        513815|2.2695756254683106|\n",
      "|          2|       1132197|2.2156117707430774|\n",
      "|          3|       1207313| 2.211432329478768|\n",
      "|          4|       1224942|2.2093837912325647|\n",
      "|          5|       1228130|2.2103458102969555|\n",
      "|          6|       1273461|2.2140764420740013|\n",
      "|          7|        606933|2.2537743045772762|\n",
      "+-----------+--------------+------------------+\n",
      "\n",
      "\n",
      "3. Weekend vs Weekday Analysis:\n",
      "+----------+--------------+------------------+-------------------+\n",
      "|is_weekend|accident_count|      avg_severity|high_severity_count|\n",
      "+----------+--------------+------------------+-------------------+\n",
      "|         0|       6066043|2.2121338407920947|            1208982|\n",
      "|         1|       1120748|2.2610185340504736|             257965|\n",
      "+----------+--------------+------------------+-------------------+\n",
      "\n"
     ]
    }
   ],
   "source": [
    "\n",
    "# ====  TEMPORAL PATTERNS  ====\n",
    "\n",
    "# Accidents by hour of day\n",
    "print(\"\\n1. Accidents by Hour of Day:\")\n",
    "hourly_accidents = df_features.groupBy(\"hour\") \\\n",
    "    .agg(F.count(\"*\").alias(\"accident_count\"),\n",
    "         F.avg(\"Severity\").alias(\"avg_severity\")) \\\n",
    "    .orderBy(\"hour\")\n",
    "\n",
    "hourly_accidents.show()\n",
    "\n",
    "\n",
    "# Peak hours identification\n",
    "peak_hours = hourly_accidents.orderBy(F.desc(\"accident_count\")).select(\"hour\", \"accident_count\").take(3)\n",
    "print(f\"   Top 3 peak hours: {[(row.hour, row.accident_count) for row in peak_hours]}\")\n",
    "\n",
    "\n",
    "# Day of week patterns\n",
    "print(\"\\n2. Accidents by Day of Week:\")\n",
    "dow_mapping = {1: \"Sunday\", 2: \"Monday\", 3: \"Tuesday\", 4: \"Wednesday\", \n",
    "               5: \"Thursday\", 6: \"Friday\", 7: \"Saturday\"}\n",
    "\n",
    "daily_accidents = df_features.groupBy(\"day_of_week\") \\\n",
    "    .agg(F.count(\"*\").alias(\"accident_count\"),\n",
    "         F.avg(\"Severity\").alias(\"avg_severity\")) \\\n",
    "    .orderBy(\"day_of_week\")\n",
    "\n",
    "daily_accidents.show()\n",
    "\n",
    "# Weekend vs Weekday comparison\n",
    "print(\"\\n3. Weekend vs Weekday Analysis:\")\n",
    "weekend_comparison = df_features.groupBy(\"is_weekend\") \\\n",
    "    .agg(F.count(\"*\").alias(\"accident_count\"),\n",
    "         F.avg(\"Severity\").alias(\"avg_severity\"),\n",
    "         F.sum(\"high_severity\").alias(\"high_severity_count\")) \\\n",
    "    .orderBy(\"is_weekend\")\n",
    "\n",
    "weekend_comparison.show()"
   ]
  },
  {
   "cell_type": "code",
   "execution_count": 21,
   "metadata": {},
   "outputs": [
    {
     "data": {
      "image/png": "[encoded data removed]",
      "text/plain": [
       "<Figure size 1600x1200 with 6 Axes>"
      ]
     },
     "metadata": {},
     "output_type": "display_data"
    }
   ],
   "source": [
    "# TEMPORAL PATTERNS VISUALIZATIONS \n",
    "\n",
    "# Convert hourly accidents to Pandas for visualization\n",
    "hourly_df = hourly_accidents.toPandas()\n",
    "\n",
    "# Create a comprehensive temporal analysis figure\n",
    "fig, axes = plt.subplots(2, 2, figsize=(16, 12))\n",
    "fig.suptitle('Temporal Patterns in Traffic Accidents', fontsize=16, fontweight='bold')\n",
    "\n",
    "# Hourly distribution with severity overlay\n",
    "ax1 = axes[0, 0]\n",
    "ax1_twin = ax1.twinx()\n",
    "\n",
    "bars = ax1.bar(hourly_df['hour'], hourly_df['accident_count'], \n",
    "                alpha=0.7, color='steelblue', label='Accident Count')\n",
    "line = ax1_twin.plot(hourly_df['hour'], hourly_df['avg_severity'], \n",
    "                     color='darkred', marker='o', linewidth=2, \n",
    "                     markersize=6, label='Avg Severity')\n",
    "\n",
    "ax1.set_xlabel('Hour of Day', fontsize=12)\n",
    "ax1.set_ylabel('Accident Count', fontsize=12, color='steelblue')\n",
    "ax1_twin.set_ylabel('Average Severity', fontsize=12, color='darkred')\n",
    "ax1.set_title('Accidents by Hour with Severity Overlay', fontsize=14)\n",
    "ax1.tick_params(axis='y', labelcolor='steelblue')\n",
    "ax1_twin.tick_params(axis='y', labelcolor='darkred')\n",
    "\n",
    "# Highlight rush hours\n",
    "for hour in [7, 8, 9, 17, 18, 19]:\n",
    "    ax1.axvspan(hour-0.5, hour+0.5, alpha=0.2, color='orange')\n",
    "\n",
    "# Day of week heatmap\n",
    "# Create a pivot table for day/hour analysis\n",
    "day_hour_pivot = df_features.groupBy(\"day_of_week\", \"hour\") \\\n",
    "    .agg(F.count(\"*\").alias(\"count\")) \\\n",
    "    .toPandas()\n",
    "\n",
    "day_hour_matrix = day_hour_pivot.pivot(index='day_of_week', \n",
    "                                       columns='hour', \n",
    "                                       values='count')\n",
    "\n",
    "ax2 = axes[0, 1]\n",
    "sns.heatmap(day_hour_matrix, cmap='YlOrRd', annot=False, \n",
    "            fmt='d', ax=ax2, cbar_kws={'label': 'Accident Count'})\n",
    "ax2.set_xlabel('Hour of Day', fontsize=12)\n",
    "ax2.set_ylabel('Day of Week', fontsize=12)\n",
    "ax2.set_yticklabels(['Sun', 'Mon', 'Tue', 'Wed', 'Thu', 'Fri', 'Sat'], rotation=0)\n",
    "ax2.set_title('Accident Heatmap: Day of Week vs Hour', fontsize=14)\n",
    "\n",
    "# Monthly trend with severity\n",
    "monthly_df = df_features.groupBy(\"year\", \"month\") \\\n",
    "    .agg(F.count(\"*\").alias(\"count\"),\n",
    "         F.avg(\"Severity\").alias(\"avg_severity\")) \\\n",
    "    .orderBy(\"year\", \"month\") \\\n",
    "    .toPandas()\n",
    "\n",
    "# Create month-year column\n",
    "monthly_df['month_year'] = pd.to_datetime(monthly_df[['year', 'month']].assign(day=1))\n",
    "\n",
    "ax3 = axes[1, 0]\n",
    "ax3.plot(monthly_df['month_year'], monthly_df['count'], \n",
    "         marker='o', markersize=4, linewidth=2, color='navy')\n",
    "ax3.set_xlabel('Month-Year', fontsize=12)\n",
    "ax3.set_ylabel('Accident Count', fontsize=12)\n",
    "ax3.set_title('Monthly Accident Trend (2016-2023)', fontsize=14)\n",
    "ax3.tick_params(axis='x', rotation=45)\n",
    "\n",
    "# Add trend line\n",
    "z = np.polyfit(range(len(monthly_df)), monthly_df['count'], 1)\n",
    "p = np.poly1d(z)\n",
    "ax3.plot(monthly_df['month_year'], p(range(len(monthly_df))), \n",
    "         \"--\", color='red', alpha=0.8, label=f'Trend: {z[0]:.1f}x + {z[1]:.0f}')\n",
    "ax3.legend()\n",
    "\n",
    "# Time of day distribution by severity\n",
    "time_severity_df = df_features.groupBy(\"time_of_day\", \"Severity\") \\\n",
    "    .count() \\\n",
    "    .toPandas()\n",
    "\n",
    "time_severity_pivot = time_severity_df.pivot(index='time_of_day', \n",
    "                                             columns='Severity', \n",
    "                                             values='count')\n",
    "\n",
    "ax4 = axes[1, 1]\n",
    "time_order = ['Morning', 'Afternoon', 'Evening', 'Night']\n",
    "time_severity_pivot = time_severity_pivot.reindex(time_order)\n",
    "\n",
    "time_severity_pivot.plot(kind='bar', stacked=True, ax=ax4, \n",
    "                        colormap='RdYlGn_r')\n",
    "ax4.set_xlabel('Time of Day', fontsize=12)\n",
    "ax4.set_ylabel('Accident Count', fontsize=12)\n",
    "ax4.set_title('Accident Severity Distribution by Time of Day', fontsize=14)\n",
    "ax4.tick_params(axis='x', rotation=45)\n",
    "ax4.legend(title='Severity', bbox_to_anchor=(1.05, 1), loc='upper left')\n",
    "\n",
    "plt.tight_layout()\n",
    "plt.show()"
   ]
  },
  {
   "cell_type": "code",
   "execution_count": 22,
   "metadata": {},
   "outputs": [
    {
     "name": "stdout",
     "output_type": "stream",
     "text": [
      "\n",
      "Top 10 States by Accident Count:\n",
      "+-----+--------------+------------------+-------------------+\n",
      "|State|accident_count|      avg_severity|high_severity_count|\n",
      "+-----+--------------+------------------+-------------------+\n",
      "|   CA|       1629140|  2.17616165584296|             283822|\n",
      "|   FL|        780896|2.1542446113182807|             115239|\n",
      "|   TX|        563542| 2.229659901125382|             126817|\n",
      "|   SC|        371783|2.1115032155854356|              44931|\n",
      "|   NY|        314278| 2.274184002698248|              77966|\n",
      "|   NC|        310600| 2.126709594333548|              36888|\n",
      "|   VA|        274114| 2.281857183507592|              65497|\n",
      "|   PA|        262921|2.2028403969253123|              42717|\n",
      "|   MN|        178611| 2.173220014444799|              30617|\n",
      "|   IL|        164704| 2.387227996891393|              61334|\n",
      "+-----+--------------+------------------+-------------------+\n",
      "only showing top 10 rows\n",
      "\n",
      "\n",
      "Urban vs Rural Accident Analysis:\n",
      "+-----------+--------------+------------------+-------------------+------------------+\n",
      "|urban_rural|accident_count|      avg_severity|high_severity_count|     avg_poi_count|\n",
      "+-----------+--------------+------------------+-------------------+------------------+\n",
      "|      Rural|       5136246|2.2205361659079412|            1023873|0.3448100032591897|\n",
      "|      Urban|       2050545|2.2178059979176266|             443074|0.6155592781431278|\n",
      "+-----------+--------------+------------------+-------------------+------------------+\n",
      "\n",
      "\n",
      "Regional Accident Distribution:\n",
      "+---------+--------------+------------------+-------------------+\n",
      "|   region|accident_count|      avg_severity|high_severity_count|\n",
      "+---------+--------------+------------------+-------------------+\n",
      "|Southeast|       2528221|2.2016900421284373|             468046|\n",
      "|     West|       2131141| 2.189552451010984|             386319|\n",
      "|  Midwest|        859618|2.3287309014003896|             256585|\n",
      "|Northeast|        854085| 2.261303031899635|             196388|\n",
      "|Southwest|        813726|2.1962712264324846|             159609|\n",
      "+---------+--------------+------------------+-------------------+\n",
      "\n",
      "Comprehensive Spatial Analysis (State + Region + Urban/Rural):\n",
      "+-----+---------+-----------+--------------+------------------+-------------------+-------------------+------------------+\n",
      "|State|region   |urban_rural|accident_count|avg_severity      |high_severity_count|avg_poi_count      |high_severity_rate|\n",
      "+-----+---------+-----------+--------------+------------------+-------------------+-------------------+------------------+\n",
      "|CA   |West     |Rural      |1259088       |2.1631307740205608|202248             |0.28405957327843645|16.06             |\n",
      "|FL   |Southeast|Rural      |558075        |2.1392214308112707|74822              |0.518822738879183  |13.41             |\n",
      "|TX   |Southwest|Urban      |459747        |2.2064157025494455|95149              |0.6113449353666256 |20.7              |\n",
      "|SC   |Southeast|Rural      |371783        |2.1115032155854356|44931              |0.2903763754663339 |12.09             |\n",
      "|CA   |West     |Urban      |370052        |2.2204987407175207|81574              |0.4207165479446132 |22.04             |\n",
      "|NY   |Northeast|Rural      |294761        |2.2786562672809496|74347              |0.4811694898578849 |25.22             |\n",
      "|VA   |Southeast|Rural      |260480        |2.2803363022113023|61428              |0.31723740786240784|23.58             |\n",
      "|PA   |Northeast|Rural      |242926        |2.1869128870520242|35549              |0.41422079151675817|14.63             |\n",
      "|FL   |Southeast|Urban      |222821        |2.191871502237222 |40417              |0.5807935517747429 |18.14             |\n",
      "|NC   |Southeast|Urban      |213258        |2.06369280402142  |16132              |0.8205835185549897 |7.56              |\n",
      "|IL   |Midwest  |Rural      |132648        |2.334004282009529 |42555              |0.655192690428804  |32.08             |\n",
      "|MI   |Midwest  |Rural      |131867        |2.3188439867442194|36737              |0.38427354834795663|27.86             |\n",
      "|MN   |Midwest  |Rural      |128541        |2.143425055040804 |18148              |0.21540986922460537|14.12             |\n",
      "|OR   |West     |Rural      |128335        |2.1022402306463555|9487               |0.1657303151907118 |7.39              |\n",
      "|NJ   |Northeast|Rural      |121437        |2.2512496191440827|25732              |0.26528158633694837|21.19             |\n",
      "|MD   |Southeast|Rural      |118365        |2.336957715540912 |31413              |0.3284247877328602 |26.54             |\n",
      "|LA   |Southeast|Rural      |116718        |2.131128017957813 |15543              |0.30981510992306244|13.32             |\n",
      "|TX   |Southwest|Rural      |103795        |2.3326171780914304|31668              |0.292885013728985  |30.51             |\n",
      "|AL   |Southeast|Rural      |97671         |2.2444942715852196|23018              |0.29775470712903523|23.57             |\n",
      "|NC   |Southeast|Rural      |97342         |2.264767520700212 |20756              |0.3218240841568901 |21.32             |\n",
      "+-----+---------+-----------+--------------+------------------+-------------------+-------------------+------------------+\n",
      "only showing top 20 rows\n",
      "\n",
      "\n",
      "Cross-Analysis: High Severity Patterns by Region and Urban/Rural:\n",
      "+---------+-----------+---------------+-----------------------+-------------------+------------------------+\n",
      "|   region|urban_rural|total_accidents|high_severity_accidents|      avg_poi_count|high_severity_percentage|\n",
      "+---------+-----------+---------------+-----------------------+-------------------+------------------------+\n",
      "|  Midwest|      Rural|         638039|                 179655| 0.3671029513869842|                   28.16|\n",
      "|  Midwest|      Urban|         221579|                  76930| 0.5099716128333461|                   34.72|\n",
      "|Northeast|      Rural|         808489|                 183887|0.40099617929248266|                   22.74|\n",
      "|Northeast|      Urban|          45596|                  12501| 0.8375076761119397|                   27.42|\n",
      "|Southeast|      Rural|        1859108|                 340049| 0.3645301940500498|                   18.29|\n",
      "|Southeast|      Urban|         669113|                 127997| 0.6058842078991142|                   19.13|\n",
      "|Southwest|      Rural|         180596|                  44367|0.40795477197723096|                   24.57|\n",
      "|Southwest|      Urban|         633130|                 115242| 0.7192377552793265|                    18.2|\n",
      "|     West|      Rural|        1650014|                 275915|0.27952853733362265|                   16.72|\n",
      "|     West|      Urban|         481127|                 110404| 0.5201745069389163|                   22.95|\n",
      "+---------+-----------+---------------+-----------------------+-------------------+------------------------+\n",
      "\n",
      "\n",
      "Top 5 Highest Risk State-Region-Urban/Rural combinations:\n",
      "+-----+---------+-----------+--------------+------------------+-------------------+\n",
      "|State|   region|urban_rural|accident_count|high_severity_rate|      avg_poi_count|\n",
      "+-----+---------+-----------+--------------+------------------+-------------------+\n",
      "|   IL|  Midwest|      Urban|         32056|             58.58| 1.0595832293486398|\n",
      "|   KY|Southeast|      Urban|         16049|             57.59| 0.2626331858682784|\n",
      "|   GA|Southeast|      Urban|         65947|             51.25|0.28127132394195337|\n",
      "|   RI|Northeast|      Rural|         16723|             46.56| 0.2853554984153561|\n",
      "|   OH|  Midwest|      Urban|         19101|             43.74| 0.3551122977854563|\n",
      "+-----+---------+-----------+--------------+------------------+-------------------+\n",
      "only showing top 5 rows\n",
      "\n"
     ]
    }
   ],
   "source": [
    "# ====  SPATIAL PATTERNS  ====\n",
    "\n",
    "# Accidents by State distribution\n",
    "print(\"\\nTop 10 States by Accident Count:\")\n",
    "state_accidents = df_features.groupBy(\"State\") \\\n",
    "    .agg(F.count(\"*\").alias(\"accident_count\"),\n",
    "         F.avg(\"Severity\").alias(\"avg_severity\"),\n",
    "         F.sum(\"high_severity\").alias(\"high_severity_count\")) \\\n",
    "    .orderBy(F.desc(\"accident_count\"))\n",
    "\n",
    "state_accidents.show(10)\n",
    "\n",
    "# Urban vs Rural comparison\n",
    "print(\"\\nUrban vs Rural Accident Analysis:\")\n",
    "urban_rural_analysis = df_features.groupBy(\"urban_rural\") \\\n",
    "    .agg(F.count(\"*\").alias(\"accident_count\"),\n",
    "         F.avg(\"Severity\").alias(\"avg_severity\"),\n",
    "         F.sum(\"high_severity\").alias(\"high_severity_count\"),\n",
    "         F.avg(\"poi_count\").alias(\"avg_poi_count\")) \\\n",
    "    .orderBy(\"urban_rural\")\n",
    "\n",
    "urban_rural_analysis.show()\n",
    "\n",
    "# Regional analysis\n",
    "print(\"\\nRegional Accident Distribution:\")\n",
    "regional_analysis = df_features.groupBy(\"region\") \\\n",
    "    .agg(F.count(\"*\").alias(\"accident_count\"),\n",
    "         F.avg(\"Severity\").alias(\"avg_severity\"),\n",
    "         F.sum(\"high_severity\").alias(\"high_severity_count\")) \\\n",
    "    .orderBy(F.desc(\"accident_count\"))\n",
    "\n",
    "regional_analysis.show()\n",
    "\n",
    "# Spatial summary \n",
    "spatial_summary = df_features.groupBy(\"State\", \"region\", \"urban_rural\") \\\n",
    "    .agg(F.count(\"*\").alias(\"accident_count\"),\n",
    "         F.avg(\"Severity\").alias(\"avg_severity\"),\n",
    "         F.sum(\"high_severity\").alias(\"high_severity_count\"),\n",
    "         F.avg(\"poi_count\").alias(\"avg_poi_count\")) \\\n",
    "    .withColumn(\"high_severity_rate\", \n",
    "                F.round(F.col(\"high_severity_count\") / F.col(\"accident_count\") * 100, 2)) \\\n",
    "    .orderBy(F.desc(\"accident_count\"))\n",
    "\n",
    "print(\"Comprehensive Spatial Analysis (State + Region + Urban/Rural):\")\n",
    "spatial_summary.show(20, truncate=False)\n",
    "\n",
    "# Cross-tabulation analysis including high severity - region- Urban/ rural\n",
    "print(\"\\nCross-Analysis: High Severity Patterns by Region and Urban/Rural:\")\n",
    "cross_analysis = df_features.groupBy(\"region\", \"urban_rural\") \\\n",
    "    .agg(F.count(\"*\").alias(\"total_accidents\"),\n",
    "         F.sum(\"high_severity\").alias(\"high_severity_accidents\"),\n",
    "         F.avg(\"poi_count\").alias(\"avg_poi_count\")) \\\n",
    "    .withColumn(\"high_severity_percentage\", \n",
    "                F.round(F.col(\"high_severity_accidents\") / F.col(\"total_accidents\") * 100, 2)) \\\n",
    "    .orderBy(\"region\", \"urban_rural\")\n",
    "\n",
    "cross_analysis.show()\n",
    "\n",
    "# Quick insight: Top risk combinations\n",
    "print(\"\\nTop 5 Highest Risk State-Region-Urban/Rural combinations:\")\n",
    "top_risk_combinations = spatial_summary.filter(F.col(\"accident_count\") >= 100) \\\n",
    "    .orderBy(F.desc(\"high_severity_rate\")) \\\n",
    "    .select(\"State\", \"region\", \"urban_rural\", \"accident_count\", \"high_severity_rate\", \"avg_poi_count\")\n",
    "\n",
    "top_risk_combinations.show(5)\n",
    "\n",
    "# Convert to Pandas DataFrames for saving\n",
    "spatial_summary_df = spatial_summary.toPandas()\n",
    "cross_analysis_df = cross_analysis.toPandas()\n",
    "top_risk_df = top_risk_combinations.toPandas()"
   ]
  },
  {
   "cell_type": "code",
   "execution_count": 23,
   "metadata": {},
   "outputs": [
    {
     "data": {
      "application/vnd.plotly.v1+json": {
       "config": {
        "plotlyServerURL": "https://plot.ly"
       },
       "data": [
        {
         "coloraxis": "coloraxis",
         "customdata": {
          "bdata": "3jw1ccdoAUAAAAAAuFIRQeqRSZnkOwFAAAAAAHAi/ED0SSTuV9YBQAAAAAAQ9v5AzrRCzFvkAEAAAAAAYPDlQB5n5WGHMQJAAAAAAOAI80AhBN5RgAMBQAAAAAAAA+JAVHbKVj5BAkAAAAAAIPvvQKTQOMlqnwFAAAAAAKDb5ECqbMgswWIBQAAAAABA5t1A9/P1/QoZA0AAAAAAwPLtQKDT6zuM4gBAAAAAAABfzEDaepZnn54BQAAAAACArd5A+hIroskkBEAAAAAAQJHxQHTXuYOQBQFAAAAAAMCi1UDPBL0XlLgCQAAAAABgE+dAub9cTXcLAUAAAAAAQKPSQD0VtUxMtgJAAAAAAEC14EBPYpZdpgQCQAAAAABAaNlA/MxXof3ZAkAAAAAAQOThQJ6ib49IywJAAAAAAIBL4EAvwZkKp/QBQAAAAACAetZA0iDrMvuEAUAAAAAAQBLQQA2ptnYFkwNAAAAAAAAu30AWdwul/54AQAAAAAAAWrxAW1dquT1NA0AAAAAAAGHbQJIweeGWBQNAAAAAAECe00AIvRdfjzMDQAAAAABAGdRAzuhN5k5XAkAAAAAAwFnSQIbSa6H02gNAAAAAAIDWyED383JTYKkDQAAAAACAjspA/vijxbxtAUAAAAAAAC2yQPhLd/JQSwBAAAAAAAAQgUD/aQwN32UDQAAAAACA08BAYxA6IRfdAUAAAAAAAOiwQHNve7COwgJAAAAAAACZt0BXO1OMBhYCQAAAAAAACqZANfWqT1EkAUAAAAAAACydQHfeUnKHswNAAAAAAABqvkA9cCFfqssCQAAAAAAAr7BABDstzCbjAUAAAAAAAKCeQIXQFUJXSAFAAAAAAAAQlEBJXbJC5e8BQAAAAAAA3KFAHWHL+1sDA0AAAAAAAGaqQF1K0Q8a8wBAAAAAAABYhUA1gEkQZfYCQAAAAAAAiIRAS+WqMkogAEAAAAAAAAA/QE6QT8DxoAFAAAAAAAAAe0DnGB0IcWQDQAAAAAAAAHNAb0qqQ2zgA0AAAAAAAIBNQA==",
          "dtype": "f8",
          "shape": "49, 2"
         },
         "geo": "geo",
         "hovertemplate": "State=%{location}<br>avg_severity=%{customdata[0]}<br>high_severity_count=%{customdata[1]}<br>accident_count=%{z}<extra></extra>",
         "locationmode": "USA-states",
         "locations": [
          "CA",
          "FL",
          "TX",
          "SC",
          "NY",
          "NC",
          "VA",
          "PA",
          "MN",
          "IL",
          "OR",
          "TN",
          "GA",
          "AZ",
          "MI",
          "LA",
          "MD",
          "NJ",
          "OH",
          "WA",
          "AL",
          "UT",
          "CO",
          "OK",
          "MO",
          "CT",
          "IN",
          "MA",
          "WI",
          "KY",
          "NE",
          "MT",
          "IA",
          "NV",
          "KS",
          "AR",
          "DC",
          "RI",
          "MS",
          "DE",
          "WV",
          "NH",
          "NM",
          "ID",
          "WY",
          "ND",
          "ME",
          "VT",
          "SD"
         ],
         "name": "",
         "type": "choropleth",
         "z": {
          "bdata": "1NsYAGDqCwBWmQgAR6wFAKbLBABIvQQAwi4EAAkDBACzuQIAYIMCAD6BAgD0agIAeGoCAJxmAgBSYgIAgioCAHHvAQDd3QEArsIBAN2UAQCVfQEAC2YBAIFEAQCtQwEAlyABAIr2AABq9AAAVO4AABCAAAB6ewAAS28AADplAACSXgAAaVEAAFlMAADqSQAAi0MAAFVBAABbNwAADjIAAOAxAAB+JwAA/yYAAK4lAAD5CwAApQsAAHUKAACTAwAA4wAAAA==",
          "dtype": "i4"
         }
        }
       ],
       "layout": {
        "coloraxis": {
         "colorbar": {
          "title": {
           "text": "accident_count"
          }
         },
         "colorscale": [
          [
           0,
           "rgb(255,245,240)"
          ],
          [
           0.125,
           "rgb(254,224,210)"
          ],
          [
           0.25,
           "rgb(252,187,161)"
          ],
          [
           0.375,
           "rgb(252,146,114)"
          ],
          [
           0.5,
           "rgb(251,106,74)"
          ],
          [
           0.625,
           "rgb(239,59,44)"
          ],
          [
           0.75,
           "rgb(203,24,29)"
          ],
          [
           0.875,
           "rgb(165,15,21)"
          ],
          [
           1,
           "rgb(103,0,13)"
          ]
         ]
        },
        "geo": {
         "center": {},
         "domain": {
          "x": [
           0,
           1
          ],
          "y": [
           0,
           1
          ]
         },
         "scope": "usa",
         "showcoastlines": false,
         "showframe": false
        },
        "height": 600,
        "legend": {
         "tracegroupgap": 0
        },
        "template": {
         "data": {
          "bar": [
           {
            "error_x": {
             "color": "#2a3f5f"
            },
            "error_y": {
             "color": "#2a3f5f"
            },
            "marker": {
             "line": {
              "color": "#E5ECF6",
              "width": 0.5
             },
             "pattern": {
              "fillmode": "overlay",
              "size": 10,
              "solidity": 0.2
             }
            },
            "type": "bar"
           }
          ],
          "barpolar": [
           {
            "marker": {
             "line": {
              "color": "#E5ECF6",
              "width": 0.5
             },
             "pattern": {
              "fillmode": "overlay",
              "size": 10,
              "solidity": 0.2
             }
            },
            "type": "barpolar"
           }
          ],
          "carpet": [
           {
            "aaxis": {
             "endlinecolor": "#2a3f5f",
             "gridcolor": "white",
             "linecolor": "white",
             "minorgridcolor": "white",
             "startlinecolor": "#2a3f5f"
            },
            "baxis": {
             "endlinecolor": "#2a3f5f",
             "gridcolor": "white",
             "linecolor": "white",
             "minorgridcolor": "white",
             "startlinecolor": "#2a3f5f"
            },
            "type": "carpet"
           }
          ],
          "choropleth": [
           {
            "colorbar": {
             "outlinewidth": 0,
             "ticks": ""
            },
            "type": "choropleth"
           }
          ],
          "contour": [
           {
            "colorbar": {
             "outlinewidth": 0,
             "ticks": ""
            },
            "colorscale": [
             [
              0,
              "#0d0887"
             ],
             [
              0.1111111111111111,
              "#46039f"
             ],
             [
              0.2222222222222222,
              "#7201a8"
             ],
             [
              0.3333333333333333,
              "#9c179e"
             ],
             [
              0.4444444444444444,
              "#bd3786"
             ],
             [
              0.5555555555555556,
              "#d8576b"
             ],
             [
              0.6666666666666666,
              "#ed7953"
             ],
             [
              0.7777777777777778,
              "#fb9f3a"
             ],
             [
              0.8888888888888888,
              "#fdca26"
             ],
             [
              1,
              "#f0f921"
             ]
            ],
            "type": "contour"
           }
          ],
          "contourcarpet": [
           {
            "colorbar": {
             "outlinewidth": 0,
             "ticks": ""
            },
            "type": "contourcarpet"
           }
          ],
          "heatmap": [
           {
            "colorbar": {
             "outlinewidth": 0,
             "ticks": ""
            },
            "colorscale": [
             [
              0,
              "#0d0887"
             ],
             [
              0.1111111111111111,
              "#46039f"
             ],
             [
              0.2222222222222222,
              "#7201a8"
             ],
             [
              0.3333333333333333,
              "#9c179e"
             ],
             [
              0.4444444444444444,
              "#bd3786"
             ],
             [
              0.5555555555555556,
              "#d8576b"
             ],
             [
              0.6666666666666666,
              "#ed7953"
             ],
             [
              0.7777777777777778,
              "#fb9f3a"
             ],
             [
              0.8888888888888888,
              "#fdca26"
             ],
             [
              1,
              "#f0f921"
             ]
            ],
            "type": "heatmap"
           }
          ],
          "histogram": [
           {
            "marker": {
             "pattern": {
              "fillmode": "overlay",
              "size": 10,
              "solidity": 0.2
             }
            },
            "type": "histogram"
           }
          ],
          "histogram2d": [
           {
            "colorbar": {
             "outlinewidth": 0,
             "ticks": ""
            },
            "colorscale": [
             [
              0,
              "#0d0887"
             ],
             [
              0.1111111111111111,
              "#46039f"
             ],
             [
              0.2222222222222222,
              "#7201a8"
             ],
             [
              0.3333333333333333,
              "#9c179e"
             ],
             [
              0.4444444444444444,
              "#bd3786"
             ],
             [
              0.5555555555555556,
              "#d8576b"
             ],
             [
              0.6666666666666666,
              "#ed7953"
             ],
             [
              0.7777777777777778,
              "#fb9f3a"
             ],
             [
              0.8888888888888888,
              "#fdca26"
             ],
             [
              1,
              "#f0f921"
             ]
            ],
            "type": "histogram2d"
           }
          ],
          "histogram2dcontour": [
           {
            "colorbar": {
             "outlinewidth": 0,
             "ticks": ""
            },
            "colorscale": [
             [
              0,
              "#0d0887"
             ],
             [
              0.1111111111111111,
              "#46039f"
             ],
             [
              0.2222222222222222,
              "#7201a8"
             ],
             [
              0.3333333333333333,
              "#9c179e"
             ],
             [
              0.4444444444444444,
              "#bd3786"
             ],
             [
              0.5555555555555556,
              "#d8576b"
             ],
             [
              0.6666666666666666,
              "#ed7953"
             ],
             [
              0.7777777777777778,
              "#fb9f3a"
             ],
             [
              0.8888888888888888,
              "#fdca26"
             ],
             [
              1,
              "#f0f921"
             ]
            ],
            "type": "histogram2dcontour"
           }
          ],
          "mesh3d": [
           {
            "colorbar": {
             "outlinewidth": 0,
             "ticks": ""
            },
            "type": "mesh3d"
           }
          ],
          "parcoords": [
           {
            "line": {
             "colorbar": {
              "outlinewidth": 0,
              "ticks": ""
             }
            },
            "type": "parcoords"
           }
          ],
          "pie": [
           {
            "automargin": true,
            "type": "pie"
           }
          ],
          "scatter": [
           {
            "fillpattern": {
             "fillmode": "overlay",
             "size": 10,
             "solidity": 0.2
            },
            "type": "scatter"
           }
          ],
          "scatter3d": [
           {
            "line": {
             "colorbar": {
              "outlinewidth": 0,
              "ticks": ""
             }
            },
            "marker": {
             "colorbar": {
              "outlinewidth": 0,
              "ticks": ""
             }
            },
            "type": "scatter3d"
           }
          ],
          "scattercarpet": [
           {
            "marker": {
             "colorbar": {
              "outlinewidth": 0,
              "ticks": ""
             }
            },
            "type": "scattercarpet"
           }
          ],
          "scattergeo": [
           {
            "marker": {
             "colorbar": {
              "outlinewidth": 0,
              "ticks": ""
             }
            },
            "type": "scattergeo"
           }
          ],
          "scattergl": [
           {
            "marker": {
             "colorbar": {
              "outlinewidth": 0,
              "ticks": ""
             }
            },
            "type": "scattergl"
           }
          ],
          "scattermap": [
           {
            "marker": {
             "colorbar": {
              "outlinewidth": 0,
              "ticks": ""
             }
            },
            "type": "scattermap"
           }
          ],
          "scattermapbox": [
           {
            "marker": {
             "colorbar": {
              "outlinewidth": 0,
              "ticks": ""
             }
            },
            "type": "scattermapbox"
           }
          ],
          "scatterpolar": [
           {
            "marker": {
             "colorbar": {
              "outlinewidth": 0,
              "ticks": ""
             }
            },
            "type": "scatterpolar"
           }
          ],
          "scatterpolargl": [
           {
            "marker": {
             "colorbar": {
              "outlinewidth": 0,
              "ticks": ""
             }
            },
            "type": "scatterpolargl"
           }
          ],
          "scatterternary": [
           {
            "marker": {
             "colorbar": {
              "outlinewidth": 0,
              "ticks": ""
             }
            },
            "type": "scatterternary"
           }
          ],
          "surface": [
           {
            "colorbar": {
             "outlinewidth": 0,
             "ticks": ""
            },
            "colorscale": [
             [
              0,
              "#0d0887"
             ],
             [
              0.1111111111111111,
              "#46039f"
             ],
             [
              0.2222222222222222,
              "#7201a8"
             ],
             [
              0.3333333333333333,
              "#9c179e"
             ],
             [
              0.4444444444444444,
              "#bd3786"
             ],
             [
              0.5555555555555556,
              "#d8576b"
             ],
             [
              0.6666666666666666,
              "#ed7953"
             ],
             [
              0.7777777777777778,
              "#fb9f3a"
             ],
             [
              0.8888888888888888,
              "#fdca26"
             ],
             [
              1,
              "#f0f921"
             ]
            ],
            "type": "surface"
           }
          ],
          "table": [
           {
            "cells": {
             "fill": {
              "color": "#EBF0F8"
             },
             "line": {
              "color": "white"
             }
            },
            "header": {
             "fill": {
              "color": "#C8D4E3"
             },
             "line": {
              "color": "white"
             }
            },
            "type": "table"
           }
          ]
         },
         "layout": {
          "annotationdefaults": {
           "arrowcolor": "#2a3f5f",
           "arrowhead": 0,
           "arrowwidth": 1
          },
          "autotypenumbers": "strict",
          "coloraxis": {
           "colorbar": {
            "outlinewidth": 0,
            "ticks": ""
           }
          },
          "colorscale": {
           "diverging": [
            [
             0,
             "#8e0152"
            ],
            [
             0.1,
             "#c51b7d"
            ],
            [
             0.2,
             "#de77ae"
            ],
            [
             0.3,
             "#f1b6da"
            ],
            [
             0.4,
             "#fde0ef"
            ],
            [
             0.5,
             "#f7f7f7"
            ],
            [
             0.6,
             "#e6f5d0"
            ],
            [
             0.7,
             "#b8e186"
            ],
            [
             0.8,
             "#7fbc41"
            ],
            [
             0.9,
             "#4d9221"
            ],
            [
             1,
             "#276419"
            ]
           ],
           "sequential": [
            [
             0,
             "#0d0887"
            ],
            [
             0.1111111111111111,
             "#46039f"
            ],
            [
             0.2222222222222222,
             "#7201a8"
            ],
            [
             0.3333333333333333,
             "#9c179e"
            ],
            [
             0.4444444444444444,
             "#bd3786"
            ],
            [
             0.5555555555555556,
             "#d8576b"
            ],
            [
             0.6666666666666666,
             "#ed7953"
            ],
            [
             0.7777777777777778,
             "#fb9f3a"
            ],
            [
             0.8888888888888888,
             "#fdca26"
            ],
            [
             1,
             "#f0f921"
            ]
           ],
           "sequentialminus": [
            [
             0,
             "#0d0887"
            ],
            [
             0.1111111111111111,
             "#46039f"
            ],
            [
             0.2222222222222222,
             "#7201a8"
            ],
            [
             0.3333333333333333,
             "#9c179e"
            ],
            [
             0.4444444444444444,
             "#bd3786"
            ],
            [
             0.5555555555555556,
             "#d8576b"
            ],
            [
             0.6666666666666666,
             "#ed7953"
            ],
            [
             0.7777777777777778,
             "#fb9f3a"
            ],
            [
             0.8888888888888888,
             "#fdca26"
            ],
            [
             1,
             "#f0f921"
            ]
           ]
          },
          "colorway": [
           "#636efa",
           "#EF553B",
           "#00cc96",
           "#ab63fa",
           "#FFA15A",
           "#19d3f3",
           "#FF6692",
           "#B6E880",
           "#FF97FF",
           "#FECB52"
          ],
          "font": {
           "color": "#2a3f5f"
          },
          "geo": {
           "bgcolor": "white",
           "lakecolor": "white",
           "landcolor": "#E5ECF6",
           "showlakes": true,
           "showland": true,
           "subunitcolor": "white"
          },
          "hoverlabel": {
           "align": "left"
          },
          "hovermode": "closest",
          "mapbox": {
           "style": "light"
          },
          "paper_bgcolor": "white",
          "plot_bgcolor": "#E5ECF6",
          "polar": {
           "angularaxis": {
            "gridcolor": "white",
            "linecolor": "white",
            "ticks": ""
           },
           "bgcolor": "#E5ECF6",
           "radialaxis": {
            "gridcolor": "white",
            "linecolor": "white",
            "ticks": ""
           }
          },
          "scene": {
           "xaxis": {
            "backgroundcolor": "#E5ECF6",
            "gridcolor": "white",
            "gridwidth": 2,
            "linecolor": "white",
            "showbackground": true,
            "ticks": "",
            "zerolinecolor": "white"
           },
           "yaxis": {
            "backgroundcolor": "#E5ECF6",
            "gridcolor": "white",
            "gridwidth": 2,
            "linecolor": "white",
            "showbackground": true,
            "ticks": "",
            "zerolinecolor": "white"
           },
           "zaxis": {
            "backgroundcolor": "#E5ECF6",
            "gridcolor": "white",
            "gridwidth": 2,
            "linecolor": "white",
            "showbackground": true,
            "ticks": "",
            "zerolinecolor": "white"
           }
          },
          "shapedefaults": {
           "line": {
            "color": "#2a3f5f"
           }
          },
          "ternary": {
           "aaxis": {
            "gridcolor": "white",
            "linecolor": "white",
            "ticks": ""
           },
           "baxis": {
            "gridcolor": "white",
            "linecolor": "white",
            "ticks": ""
           },
           "bgcolor": "#E5ECF6",
           "caxis": {
            "gridcolor": "white",
            "linecolor": "white",
            "ticks": ""
           }
          },
          "title": {
           "x": 0.05
          },
          "xaxis": {
           "automargin": true,
           "gridcolor": "white",
           "linecolor": "white",
           "ticks": "",
           "title": {
            "standoff": 15
           },
           "zerolinecolor": "white",
           "zerolinewidth": 2
          },
          "yaxis": {
           "automargin": true,
           "gridcolor": "white",
           "linecolor": "white",
           "ticks": "",
           "title": {
            "standoff": 15
           },
           "zerolinecolor": "white",
           "zerolinewidth": 2
          }
         }
        },
        "title": {
         "font": {
          "size": 16
         },
         "text": "Traffic Accidents by State (2016-2023)"
        }
       }
      }
     },
     "metadata": {},
     "output_type": "display_data"
    },
    {
     "data": {
      "application/vnd.plotly.v1+json": {
       "config": {
        "plotlyServerURL": "https://plot.ly"
       },
       "data": [
        {
         "marker": {
          "color": [
           "#FF4444",
           "#2f559e"
          ]
         },
         "type": "bar",
         "x": [
          "Rural",
          "Urban"
         ],
         "xaxis": "x",
         "y": {
          "bdata": "dl9OAPFJHwA=",
          "dtype": "i4"
         },
         "yaxis": "y"
        },
        {
         "marker": {
          "color": [
           "#FF4444",
           "#2f559e"
          ]
         },
         "type": "bar",
         "x": [
          "Rural",
          "Urban"
         ],
         "xaxis": "x2",
         "y": {
          "bdata": "WUchd6jDAUBJbi8SEb4BQA==",
          "dtype": "f8"
         },
         "yaxis": "y2"
        },
        {
         "marker": {
          "color": [
           "#FF4444",
           "#2f559e"
          ]
         },
         "type": "bar",
         "x": [
          "Rural",
          "Urban"
         ],
         "xaxis": "x3",
         "y": {
          "bdata": "ZCfDhw+EyT909wmoYqjLPw==",
          "dtype": "f8"
         },
         "yaxis": "y3"
        },
        {
         "marker": {
          "color": [
           "#FF4444",
           "#2f559e"
          ],
          "size": 20
         },
         "mode": "markers",
         "type": "scatter",
         "x": [
          "Rural",
          "Urban"
         ],
         "xaxis": "x4",
         "y": {
          "bdata": "aT3V+V0R1j+k+AtfqbLjPw==",
          "dtype": "f8"
         },
         "yaxis": "y4"
        }
       ],
       "layout": {
        "annotations": [
         {
          "font": {
           "size": 16
          },
          "showarrow": false,
          "text": "Accident Count",
          "x": 0.225,
          "xanchor": "center",
          "xref": "paper",
          "y": 1,
          "yanchor": "bottom",
          "yref": "paper"
         },
         {
          "font": {
           "size": 16
          },
          "showarrow": false,
          "text": "Average Severity",
          "x": 0.775,
          "xanchor": "center",
          "xref": "paper",
          "y": 1,
          "yanchor": "bottom",
          "yref": "paper"
         },
         {
          "font": {
           "size": 16
          },
          "showarrow": false,
          "text": "High Severity Proportion",
          "x": 0.225,
          "xanchor": "center",
          "xref": "paper",
          "y": 0.375,
          "yanchor": "bottom",
          "yref": "paper"
         },
         {
          "font": {
           "size": 16
          },
          "showarrow": false,
          "text": "POI Density",
          "x": 0.775,
          "xanchor": "center",
          "xref": "paper",
          "y": 0.375,
          "yanchor": "bottom",
          "yref": "paper"
         }
        ],
        "height": 800,
        "showlegend": false,
        "template": {
         "data": {
          "bar": [
           {
            "error_x": {
             "color": "#2a3f5f"
            },
            "error_y": {
             "color": "#2a3f5f"
            },
            "marker": {
             "line": {
              "color": "#E5ECF6",
              "width": 0.5
             },
             "pattern": {
              "fillmode": "overlay",
              "size": 10,
              "solidity": 0.2
             }
            },
            "type": "bar"
           }
          ],
          "barpolar": [
           {
            "marker": {
             "line": {
              "color": "#E5ECF6",
              "width": 0.5
             },
             "pattern": {
              "fillmode": "overlay",
              "size": 10,
              "solidity": 0.2
             }
            },
            "type": "barpolar"
           }
          ],
          "carpet": [
           {
            "aaxis": {
             "endlinecolor": "#2a3f5f",
             "gridcolor": "white",
             "linecolor": "white",
             "minorgridcolor": "white",
             "startlinecolor": "#2a3f5f"
            },
            "baxis": {
             "endlinecolor": "#2a3f5f",
             "gridcolor": "white",
             "linecolor": "white",
             "minorgridcolor": "white",
             "startlinecolor": "#2a3f5f"
            },
            "type": "carpet"
           }
          ],
          "choropleth": [
           {
            "colorbar": {
             "outlinewidth": 0,
             "ticks": ""
            },
            "type": "choropleth"
           }
          ],
          "contour": [
           {
            "colorbar": {
             "outlinewidth": 0,
             "ticks": ""
            },
            "colorscale": [
             [
              0,
              "#0d0887"
             ],
             [
              0.1111111111111111,
              "#46039f"
             ],
             [
              0.2222222222222222,
              "#7201a8"
             ],
             [
              0.3333333333333333,
              "#9c179e"
             ],
             [
              0.4444444444444444,
              "#bd3786"
             ],
             [
              0.5555555555555556,
              "#d8576b"
             ],
             [
              0.6666666666666666,
              "#ed7953"
             ],
             [
              0.7777777777777778,
              "#fb9f3a"
             ],
             [
              0.8888888888888888,
              "#fdca26"
             ],
             [
              1,
              "#f0f921"
             ]
            ],
            "type": "contour"
           }
          ],
          "contourcarpet": [
           {
            "colorbar": {
             "outlinewidth": 0,
             "ticks": ""
            },
            "type": "contourcarpet"
           }
          ],
          "heatmap": [
           {
            "colorbar": {
             "outlinewidth": 0,
             "ticks": ""
            },
            "colorscale": [
             [
              0,
              "#0d0887"
             ],
             [
              0.1111111111111111,
              "#46039f"
             ],
             [
              0.2222222222222222,
              "#7201a8"
             ],
             [
              0.3333333333333333,
              "#9c179e"
             ],
             [
              0.4444444444444444,
              "#bd3786"
             ],
             [
              0.5555555555555556,
              "#d8576b"
             ],
             [
              0.6666666666666666,
              "#ed7953"
             ],
             [
              0.7777777777777778,
              "#fb9f3a"
             ],
             [
              0.8888888888888888,
              "#fdca26"
             ],
             [
              1,
              "#f0f921"
             ]
            ],
            "type": "heatmap"
           }
          ],
          "histogram": [
           {
            "marker": {
             "pattern": {
              "fillmode": "overlay",
              "size": 10,
              "solidity": 0.2
             }
            },
            "type": "histogram"
           }
          ],
          "histogram2d": [
           {
            "colorbar": {
             "outlinewidth": 0,
             "ticks": ""
            },
            "colorscale": [
             [
              0,
              "#0d0887"
             ],
             [
              0.1111111111111111,
              "#46039f"
             ],
             [
              0.2222222222222222,
              "#7201a8"
             ],
             [
              0.3333333333333333,
              "#9c179e"
             ],
             [
              0.4444444444444444,
              "#bd3786"
             ],
             [
              0.5555555555555556,
              "#d8576b"
             ],
             [
              0.6666666666666666,
              "#ed7953"
             ],
             [
              0.7777777777777778,
              "#fb9f3a"
             ],
             [
              0.8888888888888888,
              "#fdca26"
             ],
             [
              1,
              "#f0f921"
             ]
            ],
            "type": "histogram2d"
           }
          ],
          "histogram2dcontour": [
           {
            "colorbar": {
             "outlinewidth": 0,
             "ticks": ""
            },
            "colorscale": [
             [
              0,
              "#0d0887"
             ],
             [
              0.1111111111111111,
              "#46039f"
             ],
             [
              0.2222222222222222,
              "#7201a8"
             ],
             [
              0.3333333333333333,
              "#9c179e"
             ],
             [
              0.4444444444444444,
              "#bd3786"
             ],
             [
              0.5555555555555556,
              "#d8576b"
             ],
             [
              0.6666666666666666,
              "#ed7953"
             ],
             [
              0.7777777777777778,
              "#fb9f3a"
             ],
             [
              0.8888888888888888,
              "#fdca26"
             ],
             [
              1,
              "#f0f921"
             ]
            ],
            "type": "histogram2dcontour"
           }
          ],
          "mesh3d": [
           {
            "colorbar": {
             "outlinewidth": 0,
             "ticks": ""
            },
            "type": "mesh3d"
           }
          ],
          "parcoords": [
           {
            "line": {
             "colorbar": {
              "outlinewidth": 0,
              "ticks": ""
             }
            },
            "type": "parcoords"
           }
          ],
          "pie": [
           {
            "automargin": true,
            "type": "pie"
           }
          ],
          "scatter": [
           {
            "fillpattern": {
             "fillmode": "overlay",
             "size": 10,
             "solidity": 0.2
            },
            "type": "scatter"
           }
          ],
          "scatter3d": [
           {
            "line": {
             "colorbar": {
              "outlinewidth": 0,
              "ticks": ""
             }
            },
            "marker": {
             "colorbar": {
              "outlinewidth": 0,
              "ticks": ""
             }
            },
            "type": "scatter3d"
           }
          ],
          "scattercarpet": [
           {
            "marker": {
             "colorbar": {
              "outlinewidth": 0,
              "ticks": ""
             }
            },
            "type": "scattercarpet"
           }
          ],
          "scattergeo": [
           {
            "marker": {
             "colorbar": {
              "outlinewidth": 0,
              "ticks": ""
             }
            },
            "type": "scattergeo"
           }
          ],
          "scattergl": [
           {
            "marker": {
             "colorbar": {
              "outlinewidth": 0,
              "ticks": ""
             }
            },
            "type": "scattergl"
           }
          ],
          "scattermap": [
           {
            "marker": {
             "colorbar": {
              "outlinewidth": 0,
              "ticks": ""
             }
            },
            "type": "scattermap"
           }
          ],
          "scattermapbox": [
           {
            "marker": {
             "colorbar": {
              "outlinewidth": 0,
              "ticks": ""
             }
            },
            "type": "scattermapbox"
           }
          ],
          "scatterpolar": [
           {
            "marker": {
             "colorbar": {
              "outlinewidth": 0,
              "ticks": ""
             }
            },
            "type": "scatterpolar"
           }
          ],
          "scatterpolargl": [
           {
            "marker": {
             "colorbar": {
              "outlinewidth": 0,
              "ticks": ""
             }
            },
            "type": "scatterpolargl"
           }
          ],
          "scatterternary": [
           {
            "marker": {
             "colorbar": {
              "outlinewidth": 0,
              "ticks": ""
             }
            },
            "type": "scatterternary"
           }
          ],
          "surface": [
           {
            "colorbar": {
             "outlinewidth": 0,
             "ticks": ""
            },
            "colorscale": [
             [
              0,
              "#0d0887"
             ],
             [
              0.1111111111111111,
              "#46039f"
             ],
             [
              0.2222222222222222,
              "#7201a8"
             ],
             [
              0.3333333333333333,
              "#9c179e"
             ],
             [
              0.4444444444444444,
              "#bd3786"
             ],
             [
              0.5555555555555556,
              "#d8576b"
             ],
             [
              0.6666666666666666,
              "#ed7953"
             ],
             [
              0.7777777777777778,
              "#fb9f3a"
             ],
             [
              0.8888888888888888,
              "#fdca26"
             ],
             [
              1,
              "#f0f921"
             ]
            ],
            "type": "surface"
           }
          ],
          "table": [
           {
            "cells": {
             "fill": {
              "color": "#EBF0F8"
             },
             "line": {
              "color": "white"
             }
            },
            "header": {
             "fill": {
              "color": "#C8D4E3"
             },
             "line": {
              "color": "white"
             }
            },
            "type": "table"
           }
          ]
         },
         "layout": {
          "annotationdefaults": {
           "arrowcolor": "#2a3f5f",
           "arrowhead": 0,
           "arrowwidth": 1
          },
          "autotypenumbers": "strict",
          "coloraxis": {
           "colorbar": {
            "outlinewidth": 0,
            "ticks": ""
           }
          },
          "colorscale": {
           "diverging": [
            [
             0,
             "#8e0152"
            ],
            [
             0.1,
             "#c51b7d"
            ],
            [
             0.2,
             "#de77ae"
            ],
            [
             0.3,
             "#f1b6da"
            ],
            [
             0.4,
             "#fde0ef"
            ],
            [
             0.5,
             "#f7f7f7"
            ],
            [
             0.6,
             "#e6f5d0"
            ],
            [
             0.7,
             "#b8e186"
            ],
            [
             0.8,
             "#7fbc41"
            ],
            [
             0.9,
             "#4d9221"
            ],
            [
             1,
             "#276419"
            ]
           ],
           "sequential": [
            [
             0,
             "#0d0887"
            ],
            [
             0.1111111111111111,
             "#46039f"
            ],
            [
             0.2222222222222222,
             "#7201a8"
            ],
            [
             0.3333333333333333,
             "#9c179e"
            ],
            [
             0.4444444444444444,
             "#bd3786"
            ],
            [
             0.5555555555555556,
             "#d8576b"
            ],
            [
             0.6666666666666666,
             "#ed7953"
            ],
            [
             0.7777777777777778,
             "#fb9f3a"
            ],
            [
             0.8888888888888888,
             "#fdca26"
            ],
            [
             1,
             "#f0f921"
            ]
           ],
           "sequentialminus": [
            [
             0,
             "#0d0887"
            ],
            [
             0.1111111111111111,
             "#46039f"
            ],
            [
             0.2222222222222222,
             "#7201a8"
            ],
            [
             0.3333333333333333,
             "#9c179e"
            ],
            [
             0.4444444444444444,
             "#bd3786"
            ],
            [
             0.5555555555555556,
             "#d8576b"
            ],
            [
             0.6666666666666666,
             "#ed7953"
            ],
            [
             0.7777777777777778,
             "#fb9f3a"
            ],
            [
             0.8888888888888888,
             "#fdca26"
            ],
            [
             1,
             "#f0f921"
            ]
           ]
          },
          "colorway": [
           "#636efa",
           "#EF553B",
           "#00cc96",
           "#ab63fa",
           "#FFA15A",
           "#19d3f3",
           "#FF6692",
           "#B6E880",
           "#FF97FF",
           "#FECB52"
          ],
          "font": {
           "color": "#2a3f5f"
          },
          "geo": {
           "bgcolor": "white",
           "lakecolor": "white",
           "landcolor": "#E5ECF6",
           "showlakes": true,
           "showland": true,
           "subunitcolor": "white"
          },
          "hoverlabel": {
           "align": "left"
          },
          "hovermode": "closest",
          "mapbox": {
           "style": "light"
          },
          "paper_bgcolor": "white",
          "plot_bgcolor": "#E5ECF6",
          "polar": {
           "angularaxis": {
            "gridcolor": "white",
            "linecolor": "white",
            "ticks": ""
           },
           "bgcolor": "#E5ECF6",
           "radialaxis": {
            "gridcolor": "white",
            "linecolor": "white",
            "ticks": ""
           }
          },
          "scene": {
           "xaxis": {
            "backgroundcolor": "#E5ECF6",
            "gridcolor": "white",
            "gridwidth": 2,
            "linecolor": "white",
            "showbackground": true,
            "ticks": "",
            "zerolinecolor": "white"
           },
           "yaxis": {
            "backgroundcolor": "#E5ECF6",
            "gridcolor": "white",
            "gridwidth": 2,
            "linecolor": "white",
            "showbackground": true,
            "ticks": "",
            "zerolinecolor": "white"
           },
           "zaxis": {
            "backgroundcolor": "#E5ECF6",
            "gridcolor": "white",
            "gridwidth": 2,
            "linecolor": "white",
            "showbackground": true,
            "ticks": "",
            "zerolinecolor": "white"
           }
          },
          "shapedefaults": {
           "line": {
            "color": "#2a3f5f"
           }
          },
          "ternary": {
           "aaxis": {
            "gridcolor": "white",
            "linecolor": "white",
            "ticks": ""
           },
           "baxis": {
            "gridcolor": "white",
            "linecolor": "white",
            "ticks": ""
           },
           "bgcolor": "#E5ECF6",
           "caxis": {
            "gridcolor": "white",
            "linecolor": "white",
            "ticks": ""
           }
          },
          "title": {
           "x": 0.05
          },
          "xaxis": {
           "automargin": true,
           "gridcolor": "white",
           "linecolor": "white",
           "ticks": "",
           "title": {
            "standoff": 15
           },
           "zerolinecolor": "white",
           "zerolinewidth": 2
          },
          "yaxis": {
           "automargin": true,
           "gridcolor": "white",
           "linecolor": "white",
           "ticks": "",
           "title": {
            "standoff": 15
           },
           "zerolinecolor": "white",
           "zerolinewidth": 2
          }
         }
        },
        "title": {
         "font": {
          "size": 16
         },
         "text": "Urban vs Rural Accident Characteristics"
        },
        "xaxis": {
         "anchor": "y",
         "domain": [
          0,
          0.45
         ]
        },
        "xaxis2": {
         "anchor": "y2",
         "domain": [
          0.55,
          1
         ]
        },
        "xaxis3": {
         "anchor": "y3",
         "domain": [
          0,
          0.45
         ]
        },
        "xaxis4": {
         "anchor": "y4",
         "domain": [
          0.55,
          1
         ]
        },
        "yaxis": {
         "anchor": "x",
         "domain": [
          0.625,
          1
         ]
        },
        "yaxis2": {
         "anchor": "x2",
         "domain": [
          0.625,
          1
         ]
        },
        "yaxis3": {
         "anchor": "x3",
         "domain": [
          0,
          0.375
         ]
        },
        "yaxis4": {
         "anchor": "x4",
         "domain": [
          0,
          0.375
         ]
        }
       }
      }
     },
     "metadata": {},
     "output_type": "display_data"
    }
   ],
   "source": [
    "# SPATIAL PATTERNS VISUALIZATIONS \n",
    "\n",
    "# Create an interactive choropleth map\n",
    "state_data = state_accidents.toPandas()\n",
    "\n",
    "# Create plotly choropleth with state accident/severity\n",
    "fig_map = px.choropleth(state_data, \n",
    "                        locations='State', \n",
    "                        locationmode=\"USA-states\",\n",
    "                        color='accident_count',\n",
    "                        hover_data=['avg_severity', 'high_severity_count'],\n",
    "                        color_continuous_scale=\"Reds\",\n",
    "                        scope=\"usa\",\n",
    "                        title=\"Traffic Accidents by State (2016-2023)\")\n",
    "\n",
    "fig_map.update_layout(\n",
    "    geo=dict(showframe=False, showcoastlines=False),\n",
    "    height=600,\n",
    "    title_font_size=16\n",
    ")\n",
    "fig_map.show()\n",
    "\n",
    "# Urban vs Rural detailed analysis\n",
    "fig_urban = make_subplots(rows=2, cols=2,\n",
    "                         subplot_titles=('Accident Count', 'Average Severity',\n",
    "                                       'High Severity Proportion', 'POI Density'),\n",
    "                         specs=[[{'type': 'bar'}, {'type': 'bar'}],\n",
    "                               [{'type': 'bar'}, {'type': 'scatter'}]])\n",
    "\n",
    "urban_rural_df = urban_rural_analysis.toPandas()\n",
    "\n",
    "# Accident count\n",
    "fig_urban.add_trace(\n",
    "    go.Bar(x=urban_rural_df['urban_rural'], \n",
    "           y=urban_rural_df['accident_count'],\n",
    "           marker_color=['#FF4444', '#2f559e']),\n",
    "    row=1, col=1\n",
    ")\n",
    "\n",
    "# Average severity\n",
    "fig_urban.add_trace(\n",
    "    go.Bar(x=urban_rural_df['urban_rural'], \n",
    "           y=urban_rural_df['avg_severity'],\n",
    "           marker_color=['#FF4444', '#2f559e']),\n",
    "    row=1, col=2\n",
    ")\n",
    "\n",
    "# High severity proportion\n",
    "urban_rural_df['high_severity_prop'] = urban_rural_df['high_severity_count'] / urban_rural_df['accident_count']\n",
    "fig_urban.add_trace(\n",
    "    go.Bar(x=urban_rural_df['urban_rural'], \n",
    "           y=urban_rural_df['high_severity_prop'],\n",
    "           marker_color=['#FF4444', '#2f559e']),\n",
    "    row=2, col=1\n",
    ")\n",
    "\n",
    "# POI density in urban and rural areas\n",
    "fig_urban.add_trace(\n",
    "    go.Scatter(x=urban_rural_df['urban_rural'], \n",
    "              y=urban_rural_df['avg_poi_count'],\n",
    "              mode='markers',\n",
    "              marker=dict(size=20, color=['#FF4444', '#2f559e'])),\n",
    "    row=2, col=2\n",
    ")\n",
    "\n",
    "fig_urban.update_layout(height=800, showlegend=False,\n",
    "                       title_text=\"Urban vs Rural Accident Characteristics\",\n",
    "                       title_font_size=16)\n",
    "fig_urban.show()\n"
   ]
  },
  {
   "cell_type": "code",
   "execution_count": 24,
   "metadata": {},
   "outputs": [
    {
     "data": {
      "application/vnd.plotly.v1+json": {
       "config": {
        "plotlyServerURL": "https://plot.ly"
       },
       "data": [
        {
         "branchvalues": "total",
         "customdata": {
          "bdata": "CJnsSVhpAUAdbBu5AKwBQHbyVaRVdwFAJjOT/2lcAkBdJNPMw20DQICjbG/5HwJATG+zV9uUAUBwx3N1zHgCQG1V7Ti4FwJAAi0u+fdXAUD1HTxemKwCQKE+pOn7YAJAhRigxcJVAUDlgSiEYG4CQCiJfcAmcwJA+4Z/XU6QAUC9YqFOr1gCQMi9eZw9kQNAYzalTDG+AkD+npvoFnICQF4ejgG7+QJAPJ5cBMfhAUDMyWYBg9cBQCrJzB7URgFANADUfch4AUC7Ji9agn4BQKgsPHPNbQFALaxt+XR3AkDE2Yscos4CQEYS9ULeywFANLidPIOvAUBuuCtsrvkBQDQQP/FHngFApst5H98KAkAh4UoJjd0BQK1Kyw1/EQJA+/TMpxYYAkDekHvJipgBQOGZICXLOwJAwDikL2qGAUCHjrhQCmsBQDclofF/2gFAowVxE/tkAUDvwjm5qS8CQGuVcE7B5wJAdLZr4qcSAkCTrQ9e1o8BQLp1yi/QZgJA91Gcq8CIAkCRhEMT0qEBQCTATxM0hAFA/GIVpvaRAUAdmLWqPaECQC3WQgsmFwJAyfY2qw+dAUA=",
          "dtype": "f8",
          "shape": "55, 1"
         },
         "domain": {
          "x": [
           0,
           1
          ],
          "y": [
           0,
           1
          ]
         },
         "hovertemplate": "labels=%{label}<br>count=%{value}<br>parent=%{parent}<br>id=%{id}<br>avg_severity=%{color}<extra></extra>",
         "ids": [
          "West/Rural/Night",
          "West/Urban/Afternoon",
          "Southwest/Urban/Afternoon",
          "Southwest/Rural/Afternoon",
          "Midwest/Urban/Night",
          "Northeast/Rural/Afternoon",
          "Southeast/Urban/Morning",
          "Northeast/Urban/Morning",
          "Northeast/Urban/Night",
          "Southwest/Urban/Night",
          "Midwest/Rural/Afternoon",
          "Northeast/Rural/Night",
          "West/Rural/Afternoon",
          "Northeast/Rural/Evening",
          "Northeast/Urban/Afternoon",
          "Southwest/Urban/Evening",
          "Southwest/Rural/Evening",
          "Midwest/Urban/Evening",
          "Midwest/Rural/Night",
          "Midwest/Urban/Morning",
          "Midwest/Urban/Afternoon",
          "Southeast/Rural/Evening",
          "Southeast/Urban/Evening",
          "Southwest/Urban/Morning",
          "West/Rural/Evening",
          "West/Rural/Morning",
          "Southeast/Urban/Afternoon",
          "Northeast/Urban/Evening",
          "Midwest/Rural/Evening",
          "Northeast/Rural/Morning",
          "Southeast/Rural/Night",
          "Southwest/Rural/Morning",
          "Southeast/Rural/Afternoon",
          "West/Urban/Night",
          "West/Urban/Morning",
          "West/Urban/Evening",
          "Southwest/Rural/Night",
          "Southeast/Urban/Night",
          "Midwest/Rural/Morning",
          "Southeast/Rural/Morning",
          "West/Rural",
          "West/Urban",
          "Southwest/Urban",
          "Southwest/Rural",
          "Midwest/Urban",
          "Northeast/Rural",
          "Southeast/Urban",
          "Northeast/Urban",
          "Midwest/Rural",
          "Southeast/Rural",
          "West",
          "Southwest",
          "Midwest",
          "Northeast",
          "Southeast"
         ],
         "labels": [
          "Night",
          "Afternoon",
          "Afternoon",
          "Afternoon",
          "Night",
          "Afternoon",
          "Morning",
          "Morning",
          "Night",
          "Night",
          "Afternoon",
          "Night",
          "Afternoon",
          "Evening",
          "Afternoon",
          "Evening",
          "Evening",
          "Evening",
          "Night",
          "Morning",
          "Afternoon",
          "Evening",
          "Evening",
          "Morning",
          "Evening",
          "Morning",
          "Afternoon",
          "Evening",
          "Evening",
          "Morning",
          "Night",
          "Morning",
          "Afternoon",
          "Night",
          "Morning",
          "Evening",
          "Night",
          "Night",
          "Morning",
          "Morning",
          "Rural",
          "Urban",
          "Urban",
          "Rural",
          "Urban",
          "Rural",
          "Urban",
          "Urban",
          "Rural",
          "Rural",
          "West",
          "Southwest",
          "Midwest",
          "Northeast",
          "Southeast"
         ],
         "marker": {
          "coloraxis": "coloraxis",
          "colors": {
           "bdata": "CJnsSVhpAUAdbBu5AKwBQHbyVaRVdwFAJjOT/2lcAkBdJNPMw20DQICjbG/5HwJATG+zV9uUAUBwx3N1zHgCQG1V7Ti4FwJAAi0u+fdXAUD1HTxemKwCQKE+pOn7YAJAhRigxcJVAUDlgSiEYG4CQCiJfcAmcwJA+4Z/XU6QAUC9YqFOr1gCQMi9eZw9kQNAYzalTDG+AkD+npvoFnICQF4ejgG7+QJAPJ5cBMfhAUDMyWYBg9cBQCrJzB7URgFANADUfch4AUC7Ji9agn4BQKgsPHPNbQFALaxt+XR3AkDE2Yscos4CQEYS9ULeywFANLidPIOvAUBuuCtsrvkBQDQQP/FHngFApst5H98KAkAh4UoJjd0BQK1Kyw1/EQJA+/TMpxYYAkDekHvJipgBQOGZICXLOwJAwDikL2qGAUCHjrhQCmsBQDclofF/2gFAowVxE/tkAUDvwjm5qS8CQGuVcE7B5wJAdLZr4qcSAkCTrQ9e1o8BQLp1yi/QZgJA91Gcq8CIAkCRhEMT0qEBQCTATxM0hAFA/GIVpvaRAUAdmLWqPaECQC3WQgsmFwJAyfY2qw+dAUA=",
           "dtype": "f8"
          }
         },
         "name": "",
         "parents": [
          "West/Rural",
          "West/Urban",
          "Southwest/Urban",
          "Southwest/Rural",
          "Midwest/Urban",
          "Northeast/Rural",
          "Southeast/Urban",
          "Northeast/Urban",
          "Northeast/Urban",
          "Southwest/Urban",
          "Midwest/Rural",
          "Northeast/Rural",
          "West/Rural",
          "Northeast/Rural",
          "Northeast/Urban",
          "Southwest/Urban",
          "Southwest/Rural",
          "Midwest/Urban",
          "Midwest/Rural",
          "Midwest/Urban",
          "Midwest/Urban",
          "Southeast/Rural",
          "Southeast/Urban",
          "Southwest/Urban",
          "West/Rural",
          "West/Rural",
          "Southeast/Urban",
          "Northeast/Urban",
          "Midwest/Rural",
          "Northeast/Rural",
          "Southeast/Rural",
          "Southwest/Rural",
          "Southeast/Rural",
          "West/Urban",
          "West/Urban",
          "West/Urban",
          "Southwest/Rural",
          "Southeast/Urban",
          "Midwest/Rural",
          "Southeast/Rural",
          "West",
          "West",
          "Southwest",
          "Southwest",
          "Midwest",
          "Northeast",
          "Southeast",
          "Northeast",
          "Midwest",
          "Southeast",
          "",
          "",
          "",
          "",
          ""
         ],
         "type": "sunburst",
         "values": {
          "bdata": "AAAAAIBeEUEAAAAAMMgFQQAAAABIVwtBAAAAAMDD70AAAAAAgEHcQAAAAACQXRFBAAAAAMASDUEAAAAAAHvOQAAAAAAAF71AAAAAAOCR8EAAAAAAEOoLQQAAAADAoPlAAAAAABZyIkEAAAAAgIP6QAAAAACAVc5AAAAAAJB390AAAAAAACfbQAAAAACArttAAAAAAEDq8kAAAAAAIPH0QAAAAACQK/NAAAAAACCJEEEAAAAAwBT4QAAAAABQ7Q1BAAAAAMhfD0EAAAAA6MIeQQAAAABI3g9BAAAAAABku0AAAAAAoPT1QAAAAAAE8hJBAAAAAAAwC0EAAAAAoNnvQAAAAACiyyVBAAAAAHDS8kAAAAAAEGwCQQAAAACAO/JAAAAAAED71UAAAAAAwGTxQAAAAAA4iQ1BAAAAABbgI0EAAAAAXi05QQAAAACcXR1BAAAAAFRSI0EAAAAAoAsGQQAAAABYDAtBAAAAAFKsKEEAAAAAcmskQQAAAACAQ+ZAAAAAAK54I0EAAAAAJF48QQAAAIBiQkBBAAAAADzVKEEAAAAAxDsqQQAAAACKECpBAAAAgO5JQ0E=",
          "dtype": "f8"
         }
        }
       ],
       "layout": {
        "coloraxis": {
         "colorbar": {
          "title": {
           "text": "avg_severity"
          }
         },
         "colorscale": [
          [
           0,
           "rgb(0,104,55)"
          ],
          [
           0.1,
           "rgb(26,152,80)"
          ],
          [
           0.2,
           "rgb(102,189,99)"
          ],
          [
           0.3,
           "rgb(166,217,106)"
          ],
          [
           0.4,
           "rgb(217,239,139)"
          ],
          [
           0.5,
           "rgb(255,255,191)"
          ],
          [
           0.6,
           "rgb(254,224,139)"
          ],
          [
           0.7,
           "rgb(253,174,97)"
          ],
          [
           0.8,
           "rgb(244,109,67)"
          ],
          [
           0.9,
           "rgb(215,48,39)"
          ],
          [
           1,
           "rgb(165,0,38)"
          ]
         ]
        },
        "height": 600,
        "legend": {
         "tracegroupgap": 0
        },
        "template": {
         "data": {
          "bar": [
           {
            "error_x": {
             "color": "#2a3f5f"
            },
            "error_y": {
             "color": "#2a3f5f"
            },
            "marker": {
             "line": {
              "color": "#E5ECF6",
              "width": 0.5
             },
             "pattern": {
              "fillmode": "overlay",
              "size": 10,
              "solidity": 0.2
             }
            },
            "type": "bar"
           }
          ],
          "barpolar": [
           {
            "marker": {
             "line": {
              "color": "#E5ECF6",
              "width": 0.5
             },
             "pattern": {
              "fillmode": "overlay",
              "size": 10,
              "solidity": 0.2
             }
            },
            "type": "barpolar"
           }
          ],
          "carpet": [
           {
            "aaxis": {
             "endlinecolor": "#2a3f5f",
             "gridcolor": "white",
             "linecolor": "white",
             "minorgridcolor": "white",
             "startlinecolor": "#2a3f5f"
            },
            "baxis": {
             "endlinecolor": "#2a3f5f",
             "gridcolor": "white",
             "linecolor": "white",
             "minorgridcolor": "white",
             "startlinecolor": "#2a3f5f"
            },
            "type": "carpet"
           }
          ],
          "choropleth": [
           {
            "colorbar": {
             "outlinewidth": 0,
             "ticks": ""
            },
            "type": "choropleth"
           }
          ],
          "contour": [
           {
            "colorbar": {
             "outlinewidth": 0,
             "ticks": ""
            },
            "colorscale": [
             [
              0,
              "#0d0887"
             ],
             [
              0.1111111111111111,
              "#46039f"
             ],
             [
              0.2222222222222222,
              "#7201a8"
             ],
             [
              0.3333333333333333,
              "#9c179e"
             ],
             [
              0.4444444444444444,
              "#bd3786"
             ],
             [
              0.5555555555555556,
              "#d8576b"
             ],
             [
              0.6666666666666666,
              "#ed7953"
             ],
             [
              0.7777777777777778,
              "#fb9f3a"
             ],
             [
              0.8888888888888888,
              "#fdca26"
             ],
             [
              1,
              "#f0f921"
             ]
            ],
            "type": "contour"
           }
          ],
          "contourcarpet": [
           {
            "colorbar": {
             "outlinewidth": 0,
             "ticks": ""
            },
            "type": "contourcarpet"
           }
          ],
          "heatmap": [
           {
            "colorbar": {
             "outlinewidth": 0,
             "ticks": ""
            },
            "colorscale": [
             [
              0,
              "#0d0887"
             ],
             [
              0.1111111111111111,
              "#46039f"
             ],
             [
              0.2222222222222222,
              "#7201a8"
             ],
             [
              0.3333333333333333,
              "#9c179e"
             ],
             [
              0.4444444444444444,
              "#bd3786"
             ],
             [
              0.5555555555555556,
              "#d8576b"
             ],
             [
              0.6666666666666666,
              "#ed7953"
             ],
             [
              0.7777777777777778,
              "#fb9f3a"
             ],
             [
              0.8888888888888888,
              "#fdca26"
             ],
             [
              1,
              "#f0f921"
             ]
            ],
            "type": "heatmap"
           }
          ],
          "histogram": [
           {
            "marker": {
             "pattern": {
              "fillmode": "overlay",
              "size": 10,
              "solidity": 0.2
             }
            },
            "type": "histogram"
           }
          ],
          "histogram2d": [
           {
            "colorbar": {
             "outlinewidth": 0,
             "ticks": ""
            },
            "colorscale": [
             [
              0,
              "#0d0887"
             ],
             [
              0.1111111111111111,
              "#46039f"
             ],
             [
              0.2222222222222222,
              "#7201a8"
             ],
             [
              0.3333333333333333,
              "#9c179e"
             ],
             [
              0.4444444444444444,
              "#bd3786"
             ],
             [
              0.5555555555555556,
              "#d8576b"
             ],
             [
              0.6666666666666666,
              "#ed7953"
             ],
             [
              0.7777777777777778,
              "#fb9f3a"
             ],
             [
              0.8888888888888888,
              "#fdca26"
             ],
             [
              1,
              "#f0f921"
             ]
            ],
            "type": "histogram2d"
           }
          ],
          "histogram2dcontour": [
           {
            "colorbar": {
             "outlinewidth": 0,
             "ticks": ""
            },
            "colorscale": [
             [
              0,
              "#0d0887"
             ],
             [
              0.1111111111111111,
              "#46039f"
             ],
             [
              0.2222222222222222,
              "#7201a8"
             ],
             [
              0.3333333333333333,
              "#9c179e"
             ],
             [
              0.4444444444444444,
              "#bd3786"
             ],
             [
              0.5555555555555556,
              "#d8576b"
             ],
             [
              0.6666666666666666,
              "#ed7953"
             ],
             [
              0.7777777777777778,
              "#fb9f3a"
             ],
             [
              0.8888888888888888,
              "#fdca26"
             ],
             [
              1,
              "#f0f921"
             ]
            ],
            "type": "histogram2dcontour"
           }
          ],
          "mesh3d": [
           {
            "colorbar": {
             "outlinewidth": 0,
             "ticks": ""
            },
            "type": "mesh3d"
           }
          ],
          "parcoords": [
           {
            "line": {
             "colorbar": {
              "outlinewidth": 0,
              "ticks": ""
             }
            },
            "type": "parcoords"
           }
          ],
          "pie": [
           {
            "automargin": true,
            "type": "pie"
           }
          ],
          "scatter": [
           {
            "fillpattern": {
             "fillmode": "overlay",
             "size": 10,
             "solidity": 0.2
            },
            "type": "scatter"
           }
          ],
          "scatter3d": [
           {
            "line": {
             "colorbar": {
              "outlinewidth": 0,
              "ticks": ""
             }
            },
            "marker": {
             "colorbar": {
              "outlinewidth": 0,
              "ticks": ""
             }
            },
            "type": "scatter3d"
           }
          ],
          "scattercarpet": [
           {
            "marker": {
             "colorbar": {
              "outlinewidth": 0,
              "ticks": ""
             }
            },
            "type": "scattercarpet"
           }
          ],
          "scattergeo": [
           {
            "marker": {
             "colorbar": {
              "outlinewidth": 0,
              "ticks": ""
             }
            },
            "type": "scattergeo"
           }
          ],
          "scattergl": [
           {
            "marker": {
             "colorbar": {
              "outlinewidth": 0,
              "ticks": ""
             }
            },
            "type": "scattergl"
           }
          ],
          "scattermap": [
           {
            "marker": {
             "colorbar": {
              "outlinewidth": 0,
              "ticks": ""
             }
            },
            "type": "scattermap"
           }
          ],
          "scattermapbox": [
           {
            "marker": {
             "colorbar": {
              "outlinewidth": 0,
              "ticks": ""
             }
            },
            "type": "scattermapbox"
           }
          ],
          "scatterpolar": [
           {
            "marker": {
             "colorbar": {
              "outlinewidth": 0,
              "ticks": ""
             }
            },
            "type": "scatterpolar"
           }
          ],
          "scatterpolargl": [
           {
            "marker": {
             "colorbar": {
              "outlinewidth": 0,
              "ticks": ""
             }
            },
            "type": "scatterpolargl"
           }
          ],
          "scatterternary": [
           {
            "marker": {
             "colorbar": {
              "outlinewidth": 0,
              "ticks": ""
             }
            },
            "type": "scatterternary"
           }
          ],
          "surface": [
           {
            "colorbar": {
             "outlinewidth": 0,
             "ticks": ""
            },
            "colorscale": [
             [
              0,
              "#0d0887"
             ],
             [
              0.1111111111111111,
              "#46039f"
             ],
             [
              0.2222222222222222,
              "#7201a8"
             ],
             [
              0.3333333333333333,
              "#9c179e"
             ],
             [
              0.4444444444444444,
              "#bd3786"
             ],
             [
              0.5555555555555556,
              "#d8576b"
             ],
             [
              0.6666666666666666,
              "#ed7953"
             ],
             [
              0.7777777777777778,
              "#fb9f3a"
             ],
             [
              0.8888888888888888,
              "#fdca26"
             ],
             [
              1,
              "#f0f921"
             ]
            ],
            "type": "surface"
           }
          ],
          "table": [
           {
            "cells": {
             "fill": {
              "color": "#EBF0F8"
             },
             "line": {
              "color": "white"
             }
            },
            "header": {
             "fill": {
              "color": "#C8D4E3"
             },
             "line": {
              "color": "white"
             }
            },
            "type": "table"
           }
          ]
         },
         "layout": {
          "annotationdefaults": {
           "arrowcolor": "#2a3f5f",
           "arrowhead": 0,
           "arrowwidth": 1
          },
          "autotypenumbers": "strict",
          "coloraxis": {
           "colorbar": {
            "outlinewidth": 0,
            "ticks": ""
           }
          },
          "colorscale": {
           "diverging": [
            [
             0,
             "#8e0152"
            ],
            [
             0.1,
             "#c51b7d"
            ],
            [
             0.2,
             "#de77ae"
            ],
            [
             0.3,
             "#f1b6da"
            ],
            [
             0.4,
             "#fde0ef"
            ],
            [
             0.5,
             "#f7f7f7"
            ],
            [
             0.6,
             "#e6f5d0"
            ],
            [
             0.7,
             "#b8e186"
            ],
            [
             0.8,
             "#7fbc41"
            ],
            [
             0.9,
             "#4d9221"
            ],
            [
             1,
             "#276419"
            ]
           ],
           "sequential": [
            [
             0,
             "#0d0887"
            ],
            [
             0.1111111111111111,
             "#46039f"
            ],
            [
             0.2222222222222222,
             "#7201a8"
            ],
            [
             0.3333333333333333,
             "#9c179e"
            ],
            [
             0.4444444444444444,
             "#bd3786"
            ],
            [
             0.5555555555555556,
             "#d8576b"
            ],
            [
             0.6666666666666666,
             "#ed7953"
            ],
            [
             0.7777777777777778,
             "#fb9f3a"
            ],
            [
             0.8888888888888888,
             "#fdca26"
            ],
            [
             1,
             "#f0f921"
            ]
           ],
           "sequentialminus": [
            [
             0,
             "#0d0887"
            ],
            [
             0.1111111111111111,
             "#46039f"
            ],
            [
             0.2222222222222222,
             "#7201a8"
            ],
            [
             0.3333333333333333,
             "#9c179e"
            ],
            [
             0.4444444444444444,
             "#bd3786"
            ],
            [
             0.5555555555555556,
             "#d8576b"
            ],
            [
             0.6666666666666666,
             "#ed7953"
            ],
            [
             0.7777777777777778,
             "#fb9f3a"
            ],
            [
             0.8888888888888888,
             "#fdca26"
            ],
            [
             1,
             "#f0f921"
            ]
           ]
          },
          "colorway": [
           "#636efa",
           "#EF553B",
           "#00cc96",
           "#ab63fa",
           "#FFA15A",
           "#19d3f3",
           "#FF6692",
           "#B6E880",
           "#FF97FF",
           "#FECB52"
          ],
          "font": {
           "color": "#2a3f5f"
          },
          "geo": {
           "bgcolor": "white",
           "lakecolor": "white",
           "landcolor": "#E5ECF6",
           "showlakes": true,
           "showland": true,
           "subunitcolor": "white"
          },
          "hoverlabel": {
           "align": "left"
          },
          "hovermode": "closest",
          "mapbox": {
           "style": "light"
          },
          "paper_bgcolor": "white",
          "plot_bgcolor": "#E5ECF6",
          "polar": {
           "angularaxis": {
            "gridcolor": "white",
            "linecolor": "white",
            "ticks": ""
           },
           "bgcolor": "#E5ECF6",
           "radialaxis": {
            "gridcolor": "white",
            "linecolor": "white",
            "ticks": ""
           }
          },
          "scene": {
           "xaxis": {
            "backgroundcolor": "#E5ECF6",
            "gridcolor": "white",
            "gridwidth": 2,
            "linecolor": "white",
            "showbackground": true,
            "ticks": "",
            "zerolinecolor": "white"
           },
           "yaxis": {
            "backgroundcolor": "#E5ECF6",
            "gridcolor": "white",
            "gridwidth": 2,
            "linecolor": "white",
            "showbackground": true,
            "ticks": "",
            "zerolinecolor": "white"
           },
           "zaxis": {
            "backgroundcolor": "#E5ECF6",
            "gridcolor": "white",
            "gridwidth": 2,
            "linecolor": "white",
            "showbackground": true,
            "ticks": "",
            "zerolinecolor": "white"
           }
          },
          "shapedefaults": {
           "line": {
            "color": "#2a3f5f"
           }
          },
          "ternary": {
           "aaxis": {
            "gridcolor": "white",
            "linecolor": "white",
            "ticks": ""
           },
           "baxis": {
            "gridcolor": "white",
            "linecolor": "white",
            "ticks": ""
           },
           "bgcolor": "#E5ECF6",
           "caxis": {
            "gridcolor": "white",
            "linecolor": "white",
            "ticks": ""
           }
          },
          "title": {
           "x": 0.05
          },
          "xaxis": {
           "automargin": true,
           "gridcolor": "white",
           "linecolor": "white",
           "ticks": "",
           "title": {
            "standoff": 15
           },
           "zerolinecolor": "white",
           "zerolinewidth": 2
          },
          "yaxis": {
           "automargin": true,
           "gridcolor": "white",
           "linecolor": "white",
           "ticks": "",
           "title": {
            "standoff": 15
           },
           "zerolinecolor": "white",
           "zerolinewidth": 2
          }
         }
        },
        "title": {
         "text": "Hierarchical Accident Patterns: Region → Urban/Rural → Time of Day"
        }
       }
      }
     },
     "metadata": {},
     "output_type": "display_data"
    }
   ],
   "source": [
    "# Combined analysis Region - Urban/rural - Time of the day\n",
    "\n",
    "# Create interactive sunburst chart for hierarchical patterns\n",
    "hierarchy_df = df_features.groupBy(\"region\", \"urban_rural\", \"time_of_day\") \\\n",
    "    .agg(F.count(\"*\").alias(\"count\"),\n",
    "         F.avg(\"Severity\").alias(\"avg_severity\")) \\\n",
    "    .toPandas()\n",
    "\n",
    "fig_sunburst = px.sunburst(hierarchy_df, \n",
    "                           path=['region', 'urban_rural', 'time_of_day'], \n",
    "                           values='count',\n",
    "                           color='avg_severity',\n",
    "                           color_continuous_scale='RdYlGn_r',\n",
    "                           title='Hierarchical Accident Patterns: Region → Urban/Rural → Time of Day')\n",
    "\n",
    "fig_sunburst.update_layout(height=600)\n",
    "fig_sunburst.show()"
   ]
  },
  {
   "cell_type": "code",
   "execution_count": 25,
   "metadata": {},
   "outputs": [
    {
     "name": "stdout",
     "output_type": "stream",
     "text": [
      "\n",
      "Weather Severity Impact:\n",
      "+----------------+--------------+------------------+-------------------+\n",
      "|weather_severity|accident_count|      avg_severity|high_severity_count|\n",
      "+----------------+--------------+------------------+-------------------+\n",
      "|               0|       3664333|2.2051036300467235|             697421|\n",
      "|               1|       2763403|  2.23202949406945|             599021|\n",
      "|               2|        566181| 2.239328059401499|             125359|\n",
      "|               3|         45674|2.3202916320007008|              13829|\n",
      "|               4|        147200| 2.247676630434783|              31317|\n",
      "+----------------+--------------+------------------+-------------------+\n",
      "\n",
      "\n",
      "Temperature Category Impact:\n",
      "+-------------+--------------+------------------+\n",
      "|temp_category|accident_count|      avg_severity|\n",
      "+-------------+--------------+------------------+\n",
      "|         Mild|       2526386| 2.219750267773808|\n",
      "|         Warm|       2067365|2.2168281846698576|\n",
      "|         Cold|       1266075|2.2243058270639575|\n",
      "|          Hot|        827038|2.2023945695361036|\n",
      "|     Freezing|        499927| 2.249108369821994|\n",
      "+-------------+--------------+------------------+\n",
      "\n",
      "\n",
      "Visibility Impact:\n",
      "+-------------------+--------------+------------------+-------------------+\n",
      "|visibility_category|accident_count|      avg_severity|high_severity_count|\n",
      "+-------------------+--------------+------------------+-------------------+\n",
      "|               Good|       5831409| 2.217245094624644|            1178849|\n",
      "|           Moderate|        775943|2.2264070943355376|             163944|\n",
      "|               Poor|        471954|2.2412417311856663|             104337|\n",
      "|          Very_Poor|        107485|2.2137042378006235|              19817|\n",
      "+-------------------+--------------+------------------+-------------------+\n",
      "\n"
     ]
    }
   ],
   "source": [
    "# ====  ENVIRONMENTAL PATTERNS  ====\n",
    "\n",
    "# Weather impact analysis\n",
    "print(\"\\nWeather Severity Impact:\")\n",
    "weather_impact = df_features.groupBy(\"weather_severity\") \\\n",
    "    .agg(F.count(\"*\").alias(\"accident_count\"),\n",
    "         F.avg(\"Severity\").alias(\"avg_severity\"),\n",
    "         F.sum(\"high_severity\").alias(\"high_severity_count\")) \\\n",
    "    .orderBy(\"weather_severity\")\n",
    "\n",
    "weather_impact.show()\n",
    "\n",
    "# Temperature impact\n",
    "print(\"\\nTemperature Category Impact:\")\n",
    "temp_impact = df_features.groupBy(\"temp_category\") \\\n",
    "    .agg(F.count(\"*\").alias(\"accident_count\"),\n",
    "         F.avg(\"Severity\").alias(\"avg_severity\")) \\\n",
    "    .orderBy(F.desc(\"accident_count\"))\n",
    "\n",
    "temp_impact.show()\n",
    "\n",
    "# Visibility impact\n",
    "print(\"\\nVisibility Impact:\")\n",
    "visibility_impact = df_features.groupBy(\"visibility_category\") \\\n",
    "    .agg(F.count(\"*\").alias(\"accident_count\"),\n",
    "         F.avg(\"Severity\").alias(\"avg_severity\"),\n",
    "         F.sum(\"high_severity\").alias(\"high_severity_count\")) \\\n",
    "    .orderBy(F.desc(\"accident_count\"))\n",
    "\n",
    "visibility_impact.show()"
   ]
  },
  {
   "cell_type": "code",
   "execution_count": 26,
   "metadata": {},
   "outputs": [
    {
     "data": {
      "image/png": "[encoded data removed]",
      "text/plain": [
       "<Figure size 1600x1200 with 5 Axes>"
      ]
     },
     "metadata": {},
     "output_type": "display_data"
    }
   ],
   "source": [
    "# ENVIRONMENTAL PATTERNS VISUALIZATIONS\n",
    "\n",
    "# Weather impact visualization\n",
    "weather_df = weather_impact.toPandas()\n",
    "weather_labels = ['Clear', 'Cloudy', 'Rain/Fog', 'Heavy Rain', 'Snow/Ice']\n",
    "weather_df['weather_label'] = weather_labels\n",
    "\n",
    "# Create complete weather analysis\n",
    "fig, axes = plt.subplots(2, 2, figsize=(16, 12))\n",
    "fig.suptitle('Environmental Factors Impact on Accidents', fontsize=16, fontweight='bold')\n",
    "\n",
    "# Weather severity impact\n",
    "ax1 = axes[0, 0]\n",
    "bars = ax1.bar(weather_df['weather_label'], weather_df['accident_count'], \n",
    "                color=plt.cm.Blues(np.linspace(0.3, 1, len(weather_df))))\n",
    "ax1.set_xlabel('Weather Condition', fontsize=12)\n",
    "ax1.set_ylabel('Accident Count', fontsize=12)\n",
    "ax1.set_title('Accidents by Weather Severity', fontsize=14)\n",
    "\n",
    "# Add severity score on top of bars\n",
    "for i, (bar, severity) in enumerate(zip(bars, weather_df['avg_severity'])):\n",
    "    height = bar.get_height()\n",
    "    ax1.text(bar.get_x() + bar.get_width()/2., height,\n",
    "             f'{severity:.2f}', ha='center', va='bottom', fontweight='bold')\n",
    "\n",
    "# Temperature distribution\n",
    "temp_df = df_features.select(\"Temperature(F)\", \"Severity\", \"high_severity\").sample(False, 0.01).toPandas()\n",
    "\n",
    "ax2 = axes[0, 1]\n",
    "\n",
    "\n",
    "# Create violin plot for temperature distribution by severity\n",
    "parts = ax2.violinplot([temp_df[temp_df['Severity'] == i]['Temperature(F)'].dropna() \n",
    "                        for i in range(1, 5)], \n",
    "                       positions=range(1, 5), showmeans=True)\n",
    "\n",
    "ax2.set_xlabel('Severity Level', fontsize=12)\n",
    "ax2.set_ylabel('Temperature (°F)', fontsize=12)\n",
    "ax2.set_title('Temperature Distribution by Accident Severity', fontsize=14)\n",
    "ax2.set_xticks(range(1, 5))\n",
    "\n",
    "# Visibility impact\n",
    "visibility_df = visibility_impact.toPandas()\n",
    "\n",
    "ax3 = axes[1, 0]\n",
    "x = range(len(visibility_df))\n",
    "width = 0.35\n",
    "\n",
    "bars1 = ax3.bar([i - width/2 for i in x], visibility_df['accident_count'], \n",
    "                 width, label='Total Accidents', color='skyblue')\n",
    "bars2 = ax3.bar([i + width/2 for i in x], visibility_df['high_severity_count'], \n",
    "                 width, label='High Severity', color='salmon')\n",
    "\n",
    "ax3.set_xlabel('Visibility Category', fontsize=12)\n",
    "ax3.set_ylabel('Count', fontsize=12)\n",
    "ax3.set_title('Accident Count by Visibility Conditions', fontsize=14)\n",
    "ax3.set_xticks(x)\n",
    "ax3.set_xticklabels(visibility_df['visibility_category'])\n",
    "ax3.legend()\n",
    "\n",
    "# Combined environmental factors\n",
    "# Create 3D scatter plot for multi-factor analysis\n",
    "sample_df = df_features.select(\"Temperature(F)\", \"Visibility(mi)\", \"weather_severity\", \"Severity\") \\\n",
    "    .filter(F.col(\"Temperature(F)\").isNotNull() & F.col(\"Visibility(mi)\").isNotNull()) \\\n",
    "    .sample(False, 0.001) \\\n",
    "    .toPandas()\n",
    "\n",
    "ax4 = axes[1, 1]\n",
    "scatter = ax4.scatter(sample_df['Temperature(F)'], sample_df['Visibility(mi)'], \n",
    "                      c=sample_df['Severity'], s=sample_df['weather_severity']*20,\n",
    "                      alpha=0.6, cmap='RdYlGn_r')\n",
    "ax4.set_xlabel('Temperature (°F)', fontsize=12)\n",
    "ax4.set_ylabel('Visibility (miles)', fontsize=12)\n",
    "ax4.set_title('Temperature vs Visibility (size=weather severity)', fontsize=14)\n",
    "\n",
    "# Color bar for severity\n",
    "cbar = plt.colorbar(scatter, ax=ax4)\n",
    "cbar.set_label('Accident Severity', rotation=270, labelpad=20)\n",
    "\n",
    "plt.tight_layout()\n",
    "plt.show()"
   ]
  },
  {
   "cell_type": "code",
   "execution_count": 27,
   "metadata": {},
   "outputs": [
    {
     "name": "stdout",
     "output_type": "stream",
     "text": [
      "\n",
      "Points of Interest Impact:\n",
      "+---------+--------+------------------+\n",
      "|poi_count|count(1)|     avg(Severity)|\n",
      "+---------+--------+------------------+\n",
      "|        0| 5034388|2.2530869690615822|\n",
      "|        1| 1437755|2.1763867974724485|\n",
      "|        2|  574409|2.0709685955477717|\n",
      "|        3|  117398| 2.076577113749808|\n",
      "|        4|   19916|2.0823960634665597|\n",
      "|        5|    2722|2.0760470242468774|\n",
      "|        6|     201|2.0348258706467663|\n",
      "|        7|       2|               2.0|\n",
      "+---------+--------+------------------+\n",
      "\n",
      "\n",
      "Traffic Control Impact:\n",
      "+-------------------+--------+------------------+------------------+\n",
      "|has_traffic_control|count(1)|     avg(Severity)|sum(high_severity)|\n",
      "+-------------------+--------+------------------+------------------+\n",
      "|                  1| 1284060|2.0863503263087395|            116411|\n",
      "|                  0| 5902731| 2.248778065610647|           1350536|\n",
      "+-------------------+--------+------------------+------------------+\n",
      "\n",
      "Severity Distribution by traffic control:\n",
      "+-------------------+--------+-------+\n",
      "|has_traffic_control|Severity|  count|\n",
      "+-------------------+--------+-------+\n",
      "|                  0|       1|  36996|\n",
      "|                  0|       2|4515199|\n",
      "|                  0|       3|1195606|\n",
      "|                  0|       4| 154930|\n",
      "|                  1|       1|  27394|\n",
      "|                  1|       2|1140255|\n",
      "|                  1|       3|  94549|\n",
      "|                  1|       4|  21862|\n",
      "+-------------------+--------+-------+\n",
      "\n"
     ]
    }
   ],
   "source": [
    "# ====  INFRASTRUCTURE PATTERNS  ====\n",
    "\n",
    "# POI impact analysis \n",
    "# considering POI as cluster, in a more detailed analysis would be important to check the effect of each type \n",
    "\n",
    "print(\"\\nPoints of Interest Impact:\")\n",
    "poi_impact = df_features.groupBy(\"poi_count\") \\\n",
    "    .agg(F.count(\"*\"),\n",
    "         F.avg(\"Severity\")) \\\n",
    "    .orderBy(\"poi_count\")\n",
    "\n",
    "poi_impact.show()\n",
    "\n",
    "# Traffic control impact\n",
    "print(\"\\nTraffic Control Impact:\")\n",
    "traffic_control_impact = df_features.groupBy(\"has_traffic_control\") \\\n",
    "    .agg(F.count(\"*\"),\n",
    "         F.avg(\"Severity\"),\n",
    "         F.sum(\"high_severity\"))\n",
    "\n",
    "traffic_control_impact.show()\n",
    "\n",
    "# Severity distribution by traffic control\n",
    "print(\"Severity Distribution by traffic control:\")\n",
    "traffic_sev_dist = df_features.groupBy(\"has_traffic_control\", \"Severity\") \\\n",
    "    .agg(F.count(\"*\").alias(\"count\")) \\\n",
    "    .orderBy(\"has_traffic_control\", \"Severity\") \\\n",
    "\n",
    "traffic_sev_dist.show()"
   ]
  },
  {
   "cell_type": "code",
   "execution_count": 28,
   "metadata": {},
   "outputs": [
    {
     "data": {
      "image/png": "[encoded data removed]",
      "text/plain": [
       "<Figure size 1600x1200 with 4 Axes>"
      ]
     },
     "metadata": {},
     "output_type": "display_data"
    }
   ],
   "source": [
    "# INFRASTRUCTURE PATTERNS VISUALIZATIONS\n",
    "\n",
    "# Create analysis DataFrames based on previous results\n",
    "poi_impact_data = {\n",
    "    'poi_count': [0, 1, 2, 3, 4, 5, 6, 7],\n",
    "    'accident_count': [5034388, 1437755, 574409, 117398, 19916, 2722, 201, 2],\n",
    "    'avg_severity': [2.253, 2.176, 2.071, 2.077, 2.082, 2.076, 2.035, 2.0]\n",
    "}\n",
    "poi_df = pd.DataFrame(poi_impact_data)\n",
    "\n",
    "traffic_control_data = {\n",
    "    'has_traffic_control': [0, 1],\n",
    "    'accident_count': [5902731, 1284060],\n",
    "    'avg_severity': [2.249, 2.086],\n",
    "    'high_severity_count': [1350536, 116411]\n",
    "}\n",
    "traffic_control_df = pd.DataFrame(traffic_control_data)\n",
    "\n",
    "traffic_severity_data = {\n",
    "    'has_traffic_control': [0, 0, 0, 0, 1, 1, 1, 1],\n",
    "    'severity': [1, 2, 3, 4, 1, 2, 3, 4],\n",
    "    'count': [36996, 4515199, 1195606, 154930, 27394, 1140255, 94549, 21862]\n",
    "}\n",
    "traffic_sev_df = pd.DataFrame(traffic_severity_data)\n",
    "\n",
    "# Create complete infrastructure analysis\n",
    "fig, axes = plt.subplots(2, 2, figsize=(16, 12))\n",
    "fig.suptitle('Infrastructure Factors Impact on Accidents', fontsize=16, fontweight='bold')\n",
    "\n",
    "# 1. POI Density Impact\n",
    "ax1 = axes[0, 0]\n",
    "# Create color gradient based on POI count - darker colors for higher POI density\n",
    "colors = plt.cm.Reds(np.linspace(0.3, 1, len(poi_df)))\n",
    "bars = ax1.bar(poi_df['poi_count'], poi_df['accident_count'], color=colors)\n",
    "ax1.set_xlabel('Points of Interest Count', fontsize=12)\n",
    "ax1.set_ylabel('Accident Count', fontsize=12)\n",
    "ax1.set_title('Accidents by POI Density', fontsize=14)\n",
    "ax1.set_yscale('log')  # Use log scale due to large differences\n",
    "\n",
    "# Add severity score on top of bars\n",
    "for i, (bar, severity) in enumerate(zip(bars, poi_df['avg_severity'])):\n",
    "    height = bar.get_height()\n",
    "    ax1.text(bar.get_x() + bar.get_width()/2., height * 1.1,\n",
    "             f'{severity:.2f}', ha='center', va='bottom', fontweight='bold', fontsize=10)\n",
    "\n",
    "# 2. Traffic Control Presence Impact\n",
    "ax2 = axes[0, 1]\n",
    "traffic_labels = ['No Traffic Control', 'Has Traffic Control']\n",
    "traffic_counts = traffic_control_df['accident_count'].values\n",
    "traffic_colors = ['#FF4444', '#2f559e']  # Match reference colors\n",
    "\n",
    "bars = ax2.bar(traffic_labels, traffic_counts, color=traffic_colors)\n",
    "ax2.set_xlabel('Traffic Control Presence', fontsize=12)\n",
    "ax2.set_ylabel('Accident Count', fontsize=12)\n",
    "ax2.set_title('Total Accidents by Traffic Control Presence', fontsize=14)\n",
    "\n",
    "# Add severity and high severity info on bars\n",
    "for i, (bar, severity, high_sev, total) in enumerate(zip(bars, \n",
    "                                                        traffic_control_df['avg_severity'],\n",
    "                                                        traffic_control_df['high_severity_count'],\n",
    "                                                        traffic_control_df['accident_count'])):\n",
    "    height = bar.get_height()\n",
    "    high_sev_pct = (high_sev / total) * 100\n",
    "    ax2.text(bar.get_x() + bar.get_width()/2., height * 0.5,\n",
    "             f'Avg Severity: {severity:.2f}\\nHigh Severity: {high_sev_pct:.1f}%', \n",
    "             ha='center', va='center', fontweight='bold', fontsize=10,\n",
    "             bbox=dict(boxstyle=\"round,pad=0.3\", facecolor=\"white\", alpha=0.8))\n",
    "\n",
    "# 3. Severity Distribution by Traffic Control - Matching Reference Style\n",
    "ax3 = axes[1, 0]\n",
    "\n",
    "# Prepare data in the same format as time_severity reference\n",
    "traffic_severity_pivot = traffic_sev_df.pivot(index='has_traffic_control', \n",
    "                                             columns='severity', \n",
    "                                             values='count')\n",
    "\n",
    "# Reorder and relabel for consistency\n",
    "traffic_control_labels = ['No Traffic Control', 'Has Traffic Control'] \n",
    "traffic_severity_pivot.index = traffic_control_labels\n",
    "\n",
    "# Use the same stacked bar style as reference with RdYlGn_r colormap\n",
    "traffic_severity_pivot.plot(kind='bar', stacked=True, ax=ax3, \n",
    "                           colormap='RdYlGn_r')\n",
    "\n",
    "ax3.set_xlabel('Traffic Control Presence', fontsize=12)\n",
    "ax3.set_ylabel('Accident Count', fontsize=12)\n",
    "ax3.set_title('Accident Severity Distribution by Traffic Control', fontsize=14)\n",
    "ax3.tick_params(axis='x', rotation=0)  # Keep horizontal since only 2 categories\n",
    "ax3.legend(title='Severity', bbox_to_anchor=(1.05, 1), loc='upper left')\n",
    "\n",
    "# 4. Infrastructure Effectiveness Analysis\n",
    "ax4 = axes[1, 1]\n",
    "\n",
    "# Create a comprehensive comparison chart\n",
    "metrics = ['Total Accidents\\n(millions)', 'Avg Severity', 'High Severity\\nRate (%)']\n",
    "no_control_values = [\n",
    "    traffic_control_df[traffic_control_df['has_traffic_control'] == 0]['accident_count'].iloc[0] / 1000000,\n",
    "    traffic_control_df[traffic_control_df['has_traffic_control'] == 0]['avg_severity'].iloc[0],\n",
    "    (traffic_control_df[traffic_control_df['has_traffic_control'] == 0]['high_severity_count'].iloc[0] / \n",
    "     traffic_control_df[traffic_control_df['has_traffic_control'] == 0]['accident_count'].iloc[0]) * 100\n",
    "]\n",
    "\n",
    "with_control_values = [\n",
    "    traffic_control_df[traffic_control_df['has_traffic_control'] == 1]['accident_count'].iloc[0] / 1000000,\n",
    "    traffic_control_df[traffic_control_df['has_traffic_control'] == 1]['avg_severity'].iloc[0],\n",
    "    (traffic_control_df[traffic_control_df['has_traffic_control'] == 1]['high_severity_count'].iloc[0] / \n",
    "     traffic_control_df[traffic_control_df['has_traffic_control'] == 1]['accident_count'].iloc[0]) * 100\n",
    "]\n",
    "\n",
    "# Normalize values for comparison (scale to 0-100)\n",
    "# Use Python's built-in max to avoid conflict with PySpark's max function\n",
    "import builtins\n",
    "max_values = [builtins.max(no_control_values[i], with_control_values[i]) for i in range(len(metrics))]\n",
    "no_control_norm = [(no_control_values[i] / max_values[i]) * 100 for i in range(len(metrics))]\n",
    "with_control_norm = [(with_control_values[i] / max_values[i]) * 100 for i in range(len(metrics))]\n",
    "\n",
    "x = np.arange(len(metrics))\n",
    "width = 0.35\n",
    "\n",
    "bars1 = ax4.bar(x - width/2, no_control_norm, width, label='No Traffic Control', \n",
    "                color='#FF4444', alpha=0.8)  # Match reference red\n",
    "bars2 = ax4.bar(x + width/2, with_control_norm, width, label='Has Traffic Control', \n",
    "                color='#2f559e', alpha=0.8)  # Match reference blue\n",
    "\n",
    "# Add actual values on bars\n",
    "for i, (bar1, bar2, actual1, actual2) in enumerate(zip(bars1, bars2, no_control_values, with_control_values)):\n",
    "    ax4.text(bar1.get_x() + bar1.get_width()/2., bar1.get_height() + 2,\n",
    "             f'{actual1:.1f}', ha='center', va='bottom', fontweight='bold', fontsize=9)\n",
    "    ax4.text(bar2.get_x() + bar2.get_width()/2., bar2.get_height() + 2,\n",
    "             f'{actual2:.1f}', ha='center', va='bottom', fontweight='bold', fontsize=9)\n",
    "\n",
    "ax4.set_xlabel('Metrics', fontsize=12)\n",
    "ax4.set_ylabel('Normalized Score (0-100)', fontsize=12)\n",
    "ax4.set_title('Infrastructure Effectiveness Comparison', fontsize=14)\n",
    "ax4.set_xticks(x)\n",
    "ax4.set_xticklabels(metrics)\n",
    "ax4.legend()\n",
    "ax4.set_ylim(0, 110)\n",
    "\n",
    "plt.tight_layout()\n",
    "plt.show()"
   ]
  },
  {
   "cell_type": "code",
   "execution_count": 29,
   "metadata": {},
   "outputs": [
    {
     "data": {
      "application/vnd.plotly.v1+json": {
       "config": {
        "plotlyServerURL": "https://plot.ly"
       },
       "data": [
        {
         "branchvalues": "total",
         "customdata": [
          [
           "0.1327772785283301",
           "165578",
           2.3538279426979103
          ],
          [
           "0.13837036960262017",
           "322047",
           2.235214210940901
          ],
          [
           "1.9116982775041498",
           "6899",
           2.1877057879125963
          ],
          [
           "0.13662764316181142",
           "260737",
           2.187272187930481
          ],
          [
           "2.2693136604774535",
           "2392",
           2.222314323607427
          ],
          [
           "1.8146639775358135",
           "9067",
           2.0465301781441108
          ],
          [
           "0.1638853084659985",
           "165925",
           2.278063634785988
          ],
          [
           "2.0322507953340403",
           "8357",
           2.1044936373276775
          ],
          [
           "1.51258363711873",
           "14077",
           2.135637487887038
          ],
          [
           "0.23899459435476117",
           "102047",
           2.2553421726602036
          ],
          [
           "0.09305467595524594",
           "39205",
           2.3167264794877207
          ],
          [
           "1.678187459412656",
           "19315",
           2.0552921652101204
          ],
          [
           "1.495889731823737",
           "15178",
           2.092091913205894
          ],
          [
           "0.2312719796569821",
           "70031",
           2.3980468538657145
          ],
          [
           "1.4714739565498611",
           "18002",
           2.0513037578155715
          ],
          [
           "0.3223786234045091",
           "10109",
           2.328223786234045
          ],
          [
           "0.1508954108777517",
           "95927",
           2.2448437464625046
          ],
          [
           "0.24389021813436082",
           "118930",
           2.239765241439314
          ],
          [
           "1.5913193048295582",
           "17962",
           2.163956276340675
          ],
          [
           "1.5707270176167958",
           "5162",
           2.1128202463233383
          ],
          [
           "(?)",
           "(?)",
           2.316773739536298
          ],
          [
           "(?)",
           "(?)",
           2.2040139679889497
          ],
          [
           "(?)",
           "(?)",
           2.3631616714580352
          ],
          [
           "(?)",
           "(?)",
           2.177265768654084
          ],
          [
           "(?)",
           "(?)",
           2.3002017720852708
          ],
          [
           "(?)",
           "(?)",
           2.1952330921682885
          ],
          [
           "(?)",
           "(?)",
           2.2591092766877474
          ],
          [
           "(?)",
           "(?)",
           2.2316893460562386
          ],
          [
           "(?)",
           "(?)",
           2.2732729407074355
          ],
          [
           "(?)",
           "(?)",
           2.174307014357241
          ],
          [
           "(?)",
           "(?)",
           2.3287309014003896
          ],
          [
           "(?)",
           "(?)",
           2.2016900421284373
          ],
          [
           "(?)",
           "(?)",
           2.189552451010984
          ],
          [
           "(?)",
           "(?)",
           2.2613030318996357
          ],
          [
           "(?)",
           "(?)",
           2.1962712264324846
          ]
         ],
         "domain": {
          "x": [
           0,
           1
          ],
          "y": [
           0,
           1
          ]
         },
         "hovertemplate": "labels=%{label}<br>count=%{value}<br>parent=%{parent}<br>id=%{id}<br>avg_poi=%{customdata[0]}<br>high_severity_count=%{customdata[1]}<br>avg_severity=%{color}<extra></extra>",
         "ids": [
          "Midwest/Rural/0",
          "Southeast/Rural/0",
          "Midwest/Urban/1",
          "West/Rural/0",
          "Northeast/Urban/1",
          "Southeast/Urban/1",
          "Northeast/Rural/0",
          "West/Urban/1",
          "Midwest/Rural/1",
          "West/Urban/0",
          "Southwest/Rural/0",
          "Southwest/Urban/1",
          "West/Rural/1",
          "Midwest/Urban/0",
          "Southeast/Rural/1",
          "Northeast/Urban/0",
          "Southwest/Urban/0",
          "Southeast/Urban/0",
          "Northeast/Rural/1",
          "Southwest/Rural/1",
          "Midwest/Rural",
          "Southeast/Rural",
          "Midwest/Urban",
          "West/Rural",
          "Northeast/Urban",
          "Southeast/Urban",
          "Northeast/Rural",
          "West/Urban",
          "Southwest/Rural",
          "Southwest/Urban",
          "Midwest",
          "Southeast",
          "West",
          "Northeast",
          "Southwest"
         ],
         "labels": [
          "0",
          "0",
          "1",
          "0",
          "1",
          "1",
          "0",
          "1",
          "1",
          "0",
          "0",
          "1",
          "1",
          "0",
          "1",
          "0",
          "0",
          "0",
          "1",
          "1",
          "Rural",
          "Rural",
          "Urban",
          "Rural",
          "Urban",
          "Urban",
          "Rural",
          "Urban",
          "Rural",
          "Urban",
          "Midwest",
          "Southeast",
          "West",
          "Northeast",
          "Southwest"
         ],
         "marker": {
          "coloraxis": "coloraxis",
          "colors": {
           "bdata": "TWOSvqPUAkBrXfz8t+EBQAvWYuRrgAFA7uSUj4h/AUAunGq7TMcBQII/yzZLXwBA0+ZMbXk5AkAes5fCANYAQP+wdBvJFQFA2etG1vAKAkByannkp4gCQINrygQ9cQBAJpBbr5q8AEAPCF0wMy8DQJnWz/ERaQBA+SfdyjOgAkAafl2jcPUBQF6Y9QkK6wFAa9vmTshPAUCBSCJNDucAQPdRnKvAiAJAkYRDE9KhAUBrlXBOwecCQIeOuFAKawFAunXKL9BmAkCTrQ9e1o8BQHW2a+KnEgJANyWh8X/aAUDvwjm5qS8CQKMFcRP7ZAFAHZi1qj2hAkDJ9jarD50BQCTATxM0hAFALtZCCyYXAkD8YhWm9pEBQA==",
           "dtype": "f8"
          }
         },
         "name": "",
         "parents": [
          "Midwest/Rural",
          "Southeast/Rural",
          "Midwest/Urban",
          "West/Rural",
          "Northeast/Urban",
          "Southeast/Urban",
          "Northeast/Rural",
          "West/Urban",
          "Midwest/Rural",
          "West/Urban",
          "Southwest/Rural",
          "Southwest/Urban",
          "West/Rural",
          "Midwest/Urban",
          "Southeast/Rural",
          "Northeast/Urban",
          "Southwest/Urban",
          "Southeast/Urban",
          "Northeast/Rural",
          "Southwest/Rural",
          "Midwest",
          "Southeast",
          "Midwest",
          "West",
          "Northeast",
          "Southeast",
          "Northeast",
          "West",
          "Southwest",
          "Southwest",
          "",
          "",
          "",
          "",
          ""
         ],
         "type": "sunburst",
         "values": {
          "bdata": "AAAAACgqIEEAAAAAII43QQAAAACg8eFAAAAAAMKHNkEAAAAAAJDHQAAAAADI0gJBAAAAAB6TJEEAAAAAAGvyQAAAAAAwdPpAAAAAANzCGEEAAAAA8FgBQQAAAACYwgxBAAAAAOAsBUEAAAAA8I8GQQAAAAAQQBNBAAAAAIBf4EAAAAAAXEMYQQAAAACAbR9BAAAAANBkAEEAAAAAwMriQAAAAACueCNBAAAAACRePEEAAAAAWAwLQQAAAABeLTlBAAAAAIBD5kAAAAAAcmskQQAAAABSrChBAAAAAJxdHUEAAAAAoAsGQQAAAABUUiNBAAAAAMQ7KkEAAACA7klDQQAAAIBiQkBBAAAAAIoQKkEAAAAAPNUoQQ==",
          "dtype": "f8"
         }
        }
       ],
       "layout": {
        "coloraxis": {
         "colorbar": {
          "title": {
           "text": "avg_severity"
          }
         },
         "colorscale": [
          [
           0,
           "rgb(0,104,55)"
          ],
          [
           0.1,
           "rgb(26,152,80)"
          ],
          [
           0.2,
           "rgb(102,189,99)"
          ],
          [
           0.3,
           "rgb(166,217,106)"
          ],
          [
           0.4,
           "rgb(217,239,139)"
          ],
          [
           0.5,
           "rgb(255,255,191)"
          ],
          [
           0.6,
           "rgb(254,224,139)"
          ],
          [
           0.7,
           "rgb(253,174,97)"
          ],
          [
           0.8,
           "rgb(244,109,67)"
          ],
          [
           0.9,
           "rgb(215,48,39)"
          ],
          [
           1,
           "rgb(165,0,38)"
          ]
         ]
        },
        "height": 600,
        "legend": {
         "tracegroupgap": 0
        },
        "template": {
         "data": {
          "bar": [
           {
            "error_x": {
             "color": "#2a3f5f"
            },
            "error_y": {
             "color": "#2a3f5f"
            },
            "marker": {
             "line": {
              "color": "#E5ECF6",
              "width": 0.5
             },
             "pattern": {
              "fillmode": "overlay",
              "size": 10,
              "solidity": 0.2
             }
            },
            "type": "bar"
           }
          ],
          "barpolar": [
           {
            "marker": {
             "line": {
              "color": "#E5ECF6",
              "width": 0.5
             },
             "pattern": {
              "fillmode": "overlay",
              "size": 10,
              "solidity": 0.2
             }
            },
            "type": "barpolar"
           }
          ],
          "carpet": [
           {
            "aaxis": {
             "endlinecolor": "#2a3f5f",
             "gridcolor": "white",
             "linecolor": "white",
             "minorgridcolor": "white",
             "startlinecolor": "#2a3f5f"
            },
            "baxis": {
             "endlinecolor": "#2a3f5f",
             "gridcolor": "white",
             "linecolor": "white",
             "minorgridcolor": "white",
             "startlinecolor": "#2a3f5f"
            },
            "type": "carpet"
           }
          ],
          "choropleth": [
           {
            "colorbar": {
             "outlinewidth": 0,
             "ticks": ""
            },
            "type": "choropleth"
           }
          ],
          "contour": [
           {
            "colorbar": {
             "outlinewidth": 0,
             "ticks": ""
            },
            "colorscale": [
             [
              0,
              "#0d0887"
             ],
             [
              0.1111111111111111,
              "#46039f"
             ],
             [
              0.2222222222222222,
              "#7201a8"
             ],
             [
              0.3333333333333333,
              "#9c179e"
             ],
             [
              0.4444444444444444,
              "#bd3786"
             ],
             [
              0.5555555555555556,
              "#d8576b"
             ],
             [
              0.6666666666666666,
              "#ed7953"
             ],
             [
              0.7777777777777778,
              "#fb9f3a"
             ],
             [
              0.8888888888888888,
              "#fdca26"
             ],
             [
              1,
              "#f0f921"
             ]
            ],
            "type": "contour"
           }
          ],
          "contourcarpet": [
           {
            "colorbar": {
             "outlinewidth": 0,
             "ticks": ""
            },
            "type": "contourcarpet"
           }
          ],
          "heatmap": [
           {
            "colorbar": {
             "outlinewidth": 0,
             "ticks": ""
            },
            "colorscale": [
             [
              0,
              "#0d0887"
             ],
             [
              0.1111111111111111,
              "#46039f"
             ],
             [
              0.2222222222222222,
              "#7201a8"
             ],
             [
              0.3333333333333333,
              "#9c179e"
             ],
             [
              0.4444444444444444,
              "#bd3786"
             ],
             [
              0.5555555555555556,
              "#d8576b"
             ],
             [
              0.6666666666666666,
              "#ed7953"
             ],
             [
              0.7777777777777778,
              "#fb9f3a"
             ],
             [
              0.8888888888888888,
              "#fdca26"
             ],
             [
              1,
              "#f0f921"
             ]
            ],
            "type": "heatmap"
           }
          ],
          "histogram": [
           {
            "marker": {
             "pattern": {
              "fillmode": "overlay",
              "size": 10,
              "solidity": 0.2
             }
            },
            "type": "histogram"
           }
          ],
          "histogram2d": [
           {
            "colorbar": {
             "outlinewidth": 0,
             "ticks": ""
            },
            "colorscale": [
             [
              0,
              "#0d0887"
             ],
             [
              0.1111111111111111,
              "#46039f"
             ],
             [
              0.2222222222222222,
              "#7201a8"
             ],
             [
              0.3333333333333333,
              "#9c179e"
             ],
             [
              0.4444444444444444,
              "#bd3786"
             ],
             [
              0.5555555555555556,
              "#d8576b"
             ],
             [
              0.6666666666666666,
              "#ed7953"
             ],
             [
              0.7777777777777778,
              "#fb9f3a"
             ],
             [
              0.8888888888888888,
              "#fdca26"
             ],
             [
              1,
              "#f0f921"
             ]
            ],
            "type": "histogram2d"
           }
          ],
          "histogram2dcontour": [
           {
            "colorbar": {
             "outlinewidth": 0,
             "ticks": ""
            },
            "colorscale": [
             [
              0,
              "#0d0887"
             ],
             [
              0.1111111111111111,
              "#46039f"
             ],
             [
              0.2222222222222222,
              "#7201a8"
             ],
             [
              0.3333333333333333,
              "#9c179e"
             ],
             [
              0.4444444444444444,
              "#bd3786"
             ],
             [
              0.5555555555555556,
              "#d8576b"
             ],
             [
              0.6666666666666666,
              "#ed7953"
             ],
             [
              0.7777777777777778,
              "#fb9f3a"
             ],
             [
              0.8888888888888888,
              "#fdca26"
             ],
             [
              1,
              "#f0f921"
             ]
            ],
            "type": "histogram2dcontour"
           }
          ],
          "mesh3d": [
           {
            "colorbar": {
             "outlinewidth": 0,
             "ticks": ""
            },
            "type": "mesh3d"
           }
          ],
          "parcoords": [
           {
            "line": {
             "colorbar": {
              "outlinewidth": 0,
              "ticks": ""
             }
            },
            "type": "parcoords"
           }
          ],
          "pie": [
           {
            "automargin": true,
            "type": "pie"
           }
          ],
          "scatter": [
           {
            "fillpattern": {
             "fillmode": "overlay",
             "size": 10,
             "solidity": 0.2
            },
            "type": "scatter"
           }
          ],
          "scatter3d": [
           {
            "line": {
             "colorbar": {
              "outlinewidth": 0,
              "ticks": ""
             }
            },
            "marker": {
             "colorbar": {
              "outlinewidth": 0,
              "ticks": ""
             }
            },
            "type": "scatter3d"
           }
          ],
          "scattercarpet": [
           {
            "marker": {
             "colorbar": {
              "outlinewidth": 0,
              "ticks": ""
             }
            },
            "type": "scattercarpet"
           }
          ],
          "scattergeo": [
           {
            "marker": {
             "colorbar": {
              "outlinewidth": 0,
              "ticks": ""
             }
            },
            "type": "scattergeo"
           }
          ],
          "scattergl": [
           {
            "marker": {
             "colorbar": {
              "outlinewidth": 0,
              "ticks": ""
             }
            },
            "type": "scattergl"
           }
          ],
          "scattermap": [
           {
            "marker": {
             "colorbar": {
              "outlinewidth": 0,
              "ticks": ""
             }
            },
            "type": "scattermap"
           }
          ],
          "scattermapbox": [
           {
            "marker": {
             "colorbar": {
              "outlinewidth": 0,
              "ticks": ""
             }
            },
            "type": "scattermapbox"
           }
          ],
          "scatterpolar": [
           {
            "marker": {
             "colorbar": {
              "outlinewidth": 0,
              "ticks": ""
             }
            },
            "type": "scatterpolar"
           }
          ],
          "scatterpolargl": [
           {
            "marker": {
             "colorbar": {
              "outlinewidth": 0,
              "ticks": ""
             }
            },
            "type": "scatterpolargl"
           }
          ],
          "scatterternary": [
           {
            "marker": {
             "colorbar": {
              "outlinewidth": 0,
              "ticks": ""
             }
            },
            "type": "scatterternary"
           }
          ],
          "surface": [
           {
            "colorbar": {
             "outlinewidth": 0,
             "ticks": ""
            },
            "colorscale": [
             [
              0,
              "#0d0887"
             ],
             [
              0.1111111111111111,
              "#46039f"
             ],
             [
              0.2222222222222222,
              "#7201a8"
             ],
             [
              0.3333333333333333,
              "#9c179e"
             ],
             [
              0.4444444444444444,
              "#bd3786"
             ],
             [
              0.5555555555555556,
              "#d8576b"
             ],
             [
              0.6666666666666666,
              "#ed7953"
             ],
             [
              0.7777777777777778,
              "#fb9f3a"
             ],
             [
              0.8888888888888888,
              "#fdca26"
             ],
             [
              1,
              "#f0f921"
             ]
            ],
            "type": "surface"
           }
          ],
          "table": [
           {
            "cells": {
             "fill": {
              "color": "#EBF0F8"
             },
             "line": {
              "color": "white"
             }
            },
            "header": {
             "fill": {
              "color": "#C8D4E3"
             },
             "line": {
              "color": "white"
             }
            },
            "type": "table"
           }
          ]
         },
         "layout": {
          "annotationdefaults": {
           "arrowcolor": "#2a3f5f",
           "arrowhead": 0,
           "arrowwidth": 1
          },
          "autotypenumbers": "strict",
          "coloraxis": {
           "colorbar": {
            "outlinewidth": 0,
            "ticks": ""
           }
          },
          "colorscale": {
           "diverging": [
            [
             0,
             "#8e0152"
            ],
            [
             0.1,
             "#c51b7d"
            ],
            [
             0.2,
             "#de77ae"
            ],
            [
             0.3,
             "#f1b6da"
            ],
            [
             0.4,
             "#fde0ef"
            ],
            [
             0.5,
             "#f7f7f7"
            ],
            [
             0.6,
             "#e6f5d0"
            ],
            [
             0.7,
             "#b8e186"
            ],
            [
             0.8,
             "#7fbc41"
            ],
            [
             0.9,
             "#4d9221"
            ],
            [
             1,
             "#276419"
            ]
           ],
           "sequential": [
            [
             0,
             "#0d0887"
            ],
            [
             0.1111111111111111,
             "#46039f"
            ],
            [
             0.2222222222222222,
             "#7201a8"
            ],
            [
             0.3333333333333333,
             "#9c179e"
            ],
            [
             0.4444444444444444,
             "#bd3786"
            ],
            [
             0.5555555555555556,
             "#d8576b"
            ],
            [
             0.6666666666666666,
             "#ed7953"
            ],
            [
             0.7777777777777778,
             "#fb9f3a"
            ],
            [
             0.8888888888888888,
             "#fdca26"
            ],
            [
             1,
             "#f0f921"
            ]
           ],
           "sequentialminus": [
            [
             0,
             "#0d0887"
            ],
            [
             0.1111111111111111,
             "#46039f"
            ],
            [
             0.2222222222222222,
             "#7201a8"
            ],
            [
             0.3333333333333333,
             "#9c179e"
            ],
            [
             0.4444444444444444,
             "#bd3786"
            ],
            [
             0.5555555555555556,
             "#d8576b"
            ],
            [
             0.6666666666666666,
             "#ed7953"
            ],
            [
             0.7777777777777778,
             "#fb9f3a"
            ],
            [
             0.8888888888888888,
             "#fdca26"
            ],
            [
             1,
             "#f0f921"
            ]
           ]
          },
          "colorway": [
           "#636efa",
           "#EF553B",
           "#00cc96",
           "#ab63fa",
           "#FFA15A",
           "#19d3f3",
           "#FF6692",
           "#B6E880",
           "#FF97FF",
           "#FECB52"
          ],
          "font": {
           "color": "#2a3f5f"
          },
          "geo": {
           "bgcolor": "white",
           "lakecolor": "white",
           "landcolor": "#E5ECF6",
           "showlakes": true,
           "showland": true,
           "subunitcolor": "white"
          },
          "hoverlabel": {
           "align": "left"
          },
          "hovermode": "closest",
          "mapbox": {
           "style": "light"
          },
          "paper_bgcolor": "white",
          "plot_bgcolor": "#E5ECF6",
          "polar": {
           "angularaxis": {
            "gridcolor": "white",
            "linecolor": "white",
            "ticks": ""
           },
           "bgcolor": "#E5ECF6",
           "radialaxis": {
            "gridcolor": "white",
            "linecolor": "white",
            "ticks": ""
           }
          },
          "scene": {
           "xaxis": {
            "backgroundcolor": "#E5ECF6",
            "gridcolor": "white",
            "gridwidth": 2,
            "linecolor": "white",
            "showbackground": true,
            "ticks": "",
            "zerolinecolor": "white"
           },
           "yaxis": {
            "backgroundcolor": "#E5ECF6",
            "gridcolor": "white",
            "gridwidth": 2,
            "linecolor": "white",
            "showbackground": true,
            "ticks": "",
            "zerolinecolor": "white"
           },
           "zaxis": {
            "backgroundcolor": "#E5ECF6",
            "gridcolor": "white",
            "gridwidth": 2,
            "linecolor": "white",
            "showbackground": true,
            "ticks": "",
            "zerolinecolor": "white"
           }
          },
          "shapedefaults": {
           "line": {
            "color": "#2a3f5f"
           }
          },
          "ternary": {
           "aaxis": {
            "gridcolor": "white",
            "linecolor": "white",
            "ticks": ""
           },
           "baxis": {
            "gridcolor": "white",
            "linecolor": "white",
            "ticks": ""
           },
           "bgcolor": "#E5ECF6",
           "caxis": {
            "gridcolor": "white",
            "linecolor": "white",
            "ticks": ""
           }
          },
          "title": {
           "x": 0.05
          },
          "xaxis": {
           "automargin": true,
           "gridcolor": "white",
           "linecolor": "white",
           "ticks": "",
           "title": {
            "standoff": 15
           },
           "zerolinecolor": "white",
           "zerolinewidth": 2
          },
          "yaxis": {
           "automargin": true,
           "gridcolor": "white",
           "linecolor": "white",
           "ticks": "",
           "title": {
            "standoff": 15
           },
           "zerolinecolor": "white",
           "zerolinewidth": 2
          }
         }
        },
        "title": {
         "text": "Key Risk Factors: Region → Urban/Rural → Infrastructure"
        }
       }
      }
     },
     "metadata": {},
     "output_type": "display_data"
    }
   ],
   "source": [
    "# Focus on the most impactful factors: Urban/Rural, Region, Infrastructure, and Severity\n",
    "focused_hierarchy_df = df_features.groupBy(\"region\", \"urban_rural\", \"has_traffic_control\") \\\n",
    "    .agg(F.count(\"*\").alias(\"count\"),\n",
    "         F.avg(\"Severity\").alias(\"avg_severity\"),\n",
    "         F.avg(\"poi_count\").alias(\"avg_poi\"),\n",
    "         F.sum(\"high_severity\").alias(\"high_severity_count\")) \\\n",
    "    .toPandas()\n",
    "\n",
    "# Create the focused sunburst chart\n",
    "fig_focused_sunburst = px.sunburst(focused_hierarchy_df, \n",
    "                                  path=['region', 'urban_rural', 'has_traffic_control'], \n",
    "                                  values='count',\n",
    "                                  color='avg_severity',\n",
    "                                  color_continuous_scale='RdYlGn_r',\n",
    "                                  title='Key Risk Factors: Region → Urban/Rural → Infrastructure',\n",
    "                                  hover_data=['avg_poi', 'high_severity_count'])\n",
    "\n",
    "fig_focused_sunburst.update_layout(height=600)\n",
    "fig_focused_sunburst.show()"
   ]
  },
  {
   "cell_type": "code",
   "execution_count": 30,
   "metadata": {},
   "outputs": [
    {
     "name": "stdout",
     "output_type": "stream",
     "text": [
      "\n",
      "====  KEY INFRASTRUCTURE INSIGHTS  ====\n",
      "1. POI Impact: Areas with 0 POIs have 2.253 avg severity\n",
      "   vs 2.176 for areas with 1 POIs (8.1% reduction)\n",
      "2. Traffic Control Effectiveness: 7.2% reduction in average severity\n",
      "3. High Severity Reduction: 60.4% reduction in high-severity accident rate\n",
      "   No Control: 22.9% vs With Control: 9.1%\n"
     ]
    }
   ],
   "source": [
    "\n",
    "# Print key insights\n",
    "print(\"\\n====  KEY INFRASTRUCTURE INSIGHTS  ====\")\n",
    "print(f\"1. POI Impact: Areas with 0 POIs have {poi_df.iloc[0]['avg_severity']:.3f} avg severity\")\n",
    "print(f\"   vs {poi_df.iloc[1]['avg_severity']:.3f} for areas with 1 POIs ({((poi_df.iloc[0]['avg_severity'] - poi_df.iloc[2]['avg_severity'])/poi_df.iloc[0]['avg_severity']*100):.1f}% reduction)\")\n",
    "\n",
    "severity_reduction = ((traffic_control_df.iloc[0]['avg_severity'] - traffic_control_df.iloc[1]['avg_severity']) / \n",
    "                     traffic_control_df.iloc[0]['avg_severity'] * 100)\n",
    "print(f\"2. Traffic Control Effectiveness: {severity_reduction:.1f}% reduction in average severity\")\n",
    "\n",
    "no_control_high_rate = (traffic_control_df.iloc[0]['high_severity_count'] / traffic_control_df.iloc[0]['accident_count']) * 100\n",
    "with_control_high_rate = (traffic_control_df.iloc[1]['high_severity_count'] / traffic_control_df.iloc[1]['accident_count']) * 100\n",
    "high_sev_reduction = ((no_control_high_rate - with_control_high_rate) / no_control_high_rate) * 100\n",
    "\n",
    "print(f\"3. High Severity Reduction: {high_sev_reduction:.1f}% reduction in high-severity accident rate\")\n",
    "print(f\"   No Control: {no_control_high_rate:.1f}% vs With Control: {with_control_high_rate:.1f}%\")"
   ]
  },
  {
   "cell_type": "code",
   "execution_count": 32,
   "metadata": {},
   "outputs": [
    {
     "name": "stdout",
     "output_type": "stream",
     "text": [
      "=== Pandas DataFrames ===\n",
      "hourly_df: (24, 3)\n",
      "day_hour_pivot: (168, 3)\n",
      "day_hour_matrix: (7, 24)\n",
      "monthly_df: (87, 5)\n",
      "time_severity_df: (16, 3)\n",
      "time_severity_pivot: (4, 4)\n",
      "spatial_summary_df: (94, 8)\n",
      "cross_analysis_df: (10, 6)\n",
      "top_risk_df: (85, 6)\n",
      "state_data: (49, 4)\n",
      "urban_rural_df: (2, 6)\n",
      "hierarchy_df: (40, 5)\n",
      "weather_df: (5, 5)\n",
      "temp_df: (71846, 3)\n",
      "visibility_df: (4, 4)\n",
      "sample_df: (7064, 4)\n",
      "poi_df: (8, 3)\n",
      "traffic_control_df: (2, 4)\n",
      "traffic_sev_df: (8, 3)\n",
      "traffic_severity_pivot: (2, 4)\n",
      "focused_hierarchy_df: (20, 7)\n",
      "\n",
      "=== PySpark DataFrames ===\n",
      "_: 7186791 rows × 65 cols\n"
     ]
    },
    {
     "name": "stderr",
     "output_type": "stream",
     "text": [
      "                                                                                \r"
     ]
    },
    {
     "name": "stdout",
     "output_type": "stream",
     "text": [
      "__: 7728394 rows × 46 cols\n",
      "df_accidents: 7728394 rows × 46 cols\n",
      "_5: 7728394 rows × 46 cols\n"
     ]
    },
    {
     "name": "stderr",
     "output_type": "stream",
     "text": [
      "                                                                                \r"
     ]
    },
    {
     "name": "stdout",
     "output_type": "stream",
     "text": [
      "df_accidents_cleaned: 7186791 rows × 47 cols\n"
     ]
    },
    {
     "name": "stderr",
     "output_type": "stream",
     "text": [
      "                                                                                \r"
     ]
    },
    {
     "name": "stdout",
     "output_type": "stream",
     "text": [
      "temp_avg_by_state_month: 588 rows × 3 cols\n",
      "df_features: 7186791 rows × 65 cols\n",
      "_18: 7186791 rows × 65 cols\n",
      "hourly_accidents: 24 rows × 3 cols\n",
      "daily_accidents: 7 rows × 3 cols\n",
      "weekend_comparison: 2 rows × 4 cols\n",
      "state_accidents: 49 rows × 4 cols\n",
      "urban_rural_analysis: 2 rows × 5 cols\n",
      "regional_analysis: 5 rows × 4 cols\n",
      "spatial_summary: 94 rows × 8 cols\n",
      "cross_analysis: 10 rows × 6 cols\n",
      "top_risk_combinations: 85 rows × 6 cols\n",
      "weather_impact: 5 rows × 4 cols\n",
      "temp_impact: 5 rows × 3 cols\n",
      "visibility_impact: 4 rows × 4 cols\n",
      "poi_impact: 8 rows × 3 cols\n",
      "traffic_control_impact: 2 rows × 4 cols\n",
      "traffic_sev_dist: 8 rows × 3 cols\n"
     ]
    }
   ],
   "source": [
    "# List of dataframes created (pandas and pyspark)\n",
    "\n",
    "import pandas as pd\n",
    "from pyspark.sql import DataFrame as SparkDataFrame\n",
    "\n",
    "all_vars = globals()\n",
    "\n",
    "pandas_dfs = {}\n",
    "spark_dfs = {}\n",
    "\n",
    "for name, val in all_vars.items():\n",
    "    if isinstance(val, pd.DataFrame):\n",
    "        pandas_dfs[name] = val\n",
    "    elif isinstance(val, SparkDataFrame):\n",
    "        spark_dfs[name] = val\n",
    "\n",
    "# Display results\n",
    "print(\"=== Pandas DataFrames ===\")\n",
    "for name, df in pandas_dfs.items():\n",
    "    print(f\"{name}: {df.shape}\")\n",
    "\n",
    "print(\"\\n=== PySpark DataFrames ===\")\n",
    "for name, df in spark_dfs.items():\n",
    "    print(f\"{name}: {df.count()} rows × {len(df.columns)} cols\")"
   ]
  },
  {
   "cell_type": "code",
   "execution_count": 33,
   "metadata": {},
   "outputs": [
    {
     "name": "stdout",
     "output_type": "stream",
     "text": [
      "Exported hourly_df.csv\n",
      "Exported day_hour_pivot.csv\n",
      "Exported monthly_df.csv\n",
      "Exported time_severity_df.csv\n",
      "Exported state_data.csv\n",
      "Exported urban_rural_df.csv\n",
      "Exported weather_df.csv\n",
      "Exported temp_df.csv\n",
      "Exported hierarchy_df.csv\n",
      "Exported poi_df.csv\n",
      "Exported traffic_control_df.csv\n",
      "Exported traffic_sev_df.csv\n",
      "Exported traffic_severity_pivot.csv\n",
      "Exported focused_hierarchy_df.csv\n",
      "Exported spatial_summary_df.csv\n",
      "Exported cross_analysis_df.csv\n",
      "Exported top_risk_df.csv\n"
     ]
    }
   ],
   "source": [
    "# Export to csv - pandas\n",
    "to_export_pandas = [\n",
    "    'hourly_df', 'day_hour_pivot', 'monthly_df', 'time_severity_df',\n",
    "    'state_data', 'urban_rural_df', 'weather_df', 'temp_df',\n",
    "    'hierarchy_df', 'poi_df', 'traffic_control_df', 'traffic_sev_df',\n",
    "    'traffic_severity_pivot', 'focused_hierarchy_df', 'spatial_summary_df', 'cross_analysis_df', 'top_risk_df'\n",
    "]\n",
    "\n",
    "for name in to_export_pandas:\n",
    "    globals()[name].to_csv(f\"./Data/{name}.csv\", index=False)\n",
    "    print(f\"Exported {name}.csv\")\n",
    "\n",
    "\n"
   ]
  },
  {
   "cell_type": "markdown",
   "metadata": {},
   "source": [
    "## Analysis\n",
    "\n",
    "To assess the relationship between infrastructure variables and traffic accident severity, I conducted a comprehensive statistical analysis using a 10% sample of the U.S. Accidents dataset (N = 719,282). The process began multivariate logistic regression to evaluate the relative importance of predictors such as POI density, traffic control presence, and urbanity. Although the model’s predictive power was limited (ROC-AUC = 0.5961), the feature coefficients revealed meaningful associations, the most important beaing a negative relationship between POI count and severity, and a mitigating effect of traffic control. To test specific hypotheses, I applied chi-square tests for independence (POI vs. high severity: χ² = 8850.30, p < 0.001, Cramér’s V = 0.11), Kruskal-Wallis and Mann-Whitney U tests to compare severity scores across groups, and Spearman correlations to assess relationships. Results showed that higher POI density and the presence of traffic control were significantly associated with reduced severity, with stronger effects observed during rush hour, supporting the hypothesis of infrastructure-time interaction. These findings help me to propose actionable insights for transportation planning and accident mitigation strategies."
   ]
  },
  {
   "cell_type": "code",
   "execution_count": 34,
   "metadata": {},
   "outputs": [],
   "source": [
    "# === STATISTICAL ANALYSIS AND INSIGHTS ===\n",
    "\n",
    "from scipy import stats\n",
    "from scipy.stats import chi2_contingency, ttest_ind, f_oneway, mannwhitneyu, kruskal\n",
    "from sklearn.preprocessing import StandardScaler\n",
    "from statsmodels.stats.multicomp import pairwise_tukeyhsd\n",
    "import warnings\n",
    "warnings.filterwarnings('ignore')\n"
   ]
  },
  {
   "cell_type": "code",
   "execution_count": 35,
   "metadata": {},
   "outputs": [
    {
     "name": "stdout",
     "output_type": "stream",
     "text": [
      "\n",
      "\n",
      "MULTIVARIATE FACTOR ANALYSIS\n",
      "\n",
      "Logistic Regression - Feature Importance for High Severity Prediction:\n",
      "Feature                        Coefficient     Odds Ratio     \n",
      "------------------------------------------------------------\n",
      "poi_count                      -0.4115         0.6626         \n",
      "urban_rural_num                0.2951          1.3433         \n",
      "urban_poi_interaction          -0.2203         0.8022         \n",
      "visibility_poor                -0.1699         0.8437         \n",
      "weather_severity               0.1390          1.1491         \n",
      "is_weekend                     0.1326          1.1418         \n",
      "temp_extreme                   -0.0891         0.9148         \n",
      "rush_hour                      0.0802          1.0835         \n",
      "rush_weather_interaction       -0.0499         0.9514         \n",
      "\n",
      "Model Performance:\n",
      "ROC-AUC Score: 0.5918\n",
      "\n",
      "Classification Report:\n",
      "              precision    recall  f1-score   support\n",
      "\n",
      "           0       0.80      1.00      0.89     57388\n",
      "           1       0.00      0.00      0.00     14436\n",
      "\n",
      "    accuracy                           0.80     71824\n",
      "   macro avg       0.40      0.50      0.44     71824\n",
      "weighted avg       0.64      0.80      0.71     71824\n",
      "\n"
     ]
    }
   ],
   "source": [
    "# === MULTIVARIATE ANALYSIS ===\n",
    "print(\"\\n\\nMULTIVARIATE FACTOR ANALYSIS\\n\")\n",
    "\n",
    "# Prepare data for factor analysis\n",
    "multivar_df = df_features.select(\n",
    "    \"rush_hour\", \"is_weekend\", \"weather_severity\", \"poi_count\",\n",
    "    \"urban_rural\", \"visibility_category\", \"temp_category\", \"high_severity\"\n",
    ").sample(False, 0.01).toPandas()\n",
    "\n",
    "# Convert categorical to numeric\n",
    "multivar_df['urban_rural_num'] = (multivar_df['urban_rural'] == 'Urban').astype(int)\n",
    "multivar_df['visibility_poor'] = (multivar_df['visibility_category'].isin(['Very_Poor', 'Poor'])).astype(int)\n",
    "multivar_df['temp_extreme'] = (multivar_df['temp_category'].isin(['Freezing', 'Hot'])).astype(int)\n",
    "\n",
    "# Create interaction terms\n",
    "multivar_df['rush_weather_interaction'] = multivar_df['rush_hour'] * multivar_df['weather_severity']\n",
    "multivar_df['urban_poi_interaction'] = multivar_df['urban_rural_num'] * multivar_df['poi_count']\n",
    "\n",
    "# Logistic regression for high severity prediction\n",
    "from sklearn.linear_model import LogisticRegression\n",
    "from sklearn.metrics import classification_report, roc_auc_score\n",
    "\n",
    "\n",
    "features = ['rush_hour', 'is_weekend', 'weather_severity', 'poi_count', \n",
    "            'urban_rural_num', 'visibility_poor', 'temp_extreme',\n",
    "            'rush_weather_interaction', 'urban_poi_interaction']\n",
    "\n",
    "X = multivar_df[features]\n",
    "y = multivar_df['high_severity']\n",
    "\n",
    "# Fit logistic regression\n",
    "log_reg = LogisticRegression(random_state=42)\n",
    "log_reg.fit(X, y)\n",
    "\n",
    "# Feature importance\n",
    "feature_importance = pd.DataFrame({\n",
    "    'feature': features,\n",
    "    'coefficient': log_reg.coef_[0],\n",
    "    'abs_coefficient': np.abs(log_reg.coef_[0])\n",
    "}).sort_values('abs_coefficient', ascending=False)\n",
    "\n",
    "print(\"Logistic Regression - Feature Importance for High Severity Prediction:\")\n",
    "print(f\"{'Feature':<30} {'Coefficient':<15} {'Odds Ratio':<15}\")\n",
    "print(\"-\" * 60)\n",
    "\n",
    "for _, row in feature_importance.iterrows():\n",
    "    odds_ratio = np.exp(row['coefficient'])\n",
    "    print(f\"{row['feature']:<30} {row['coefficient']:<15.4f} {odds_ratio:<15.4f}\")\n",
    "\n",
    "# Model performance\n",
    "y_pred = log_reg.predict(X)\n",
    "y_pred_proba = log_reg.predict_proba(X)[:, 1]\n",
    "\n",
    "print(f\"\\nModel Performance:\")\n",
    "print(f\"ROC-AUC Score: {roc_auc_score(y, y_pred_proba):.4f}\")\n",
    "print(\"\\nClassification Report:\")\n",
    "print(classification_report(y, y_pred))"
   ]
  },
  {
   "cell_type": "markdown",
   "metadata": {},
   "source": [
    "With ROC-AUC .5961 is very weak, recall for call 1 is 0.00 so not detecting the high severity cases\n",
    "\n",
    "- poi_count: Odds Ratio = 0.65  Fewer POIs mean Higher severity\n",
    "- urban_rural_num: Odds Ratio= 1.38  Urban areas mean Higher severity\n",
    "- urban_poi_interaction: Odds Ratio = 0.81 Suggests mitigation effect of POIs in urban areas.\n",
    "- is_weekend, rush_hour, weather_severity: All show minor effects."
   ]
  },
  {
   "cell_type": "code",
   "execution_count": 36,
   "metadata": {},
   "outputs": [
    {
     "name": "stdout",
     "output_type": "stream",
     "text": [
      "\n",
      "HYPOTHESES:\n",
      "H1: Areas with more POI infrastructure have lower accident severity\n",
      "H2: Presence of traffic control reduces accident severity\n",
      "H3: Urban areas with more infrastructure have different severity patterns than rural areas\n",
      "H4: Infrastructure effect varies by time (rush hour vs non-rush)\n",
      "Analysis sample size: 719,282 records\n",
      "Sample represents 10.0% of total dataset\n"
     ]
    }
   ],
   "source": [
    "\n",
    "print(\"\\nHYPOTHESES:\")\n",
    "print(\"H1: Areas with more POI infrastructure have lower accident severity\")\n",
    "print(\"H2: Presence of traffic control reduces accident severity\") \n",
    "print(\"H3: Urban areas with more infrastructure have different severity patterns than rural areas\")\n",
    "print(\"H4: Infrastructure effect varies by time (rush hour vs non-rush)\")\n",
    "\n",
    "# Prepare data for statistical analysis - convert to pandas for easier stat operations\n",
    "\n",
    "# Sample for performance while maintaining statistical power\n",
    "sample_fraction = 0.1  # 10% sample should give us ~700k records\n",
    "np.random.seed(42)  # Reproducibility\n",
    "\n",
    "# Select key variables for analysis\n",
    "analysis_vars = [\n",
    "    \"Severity\", \"high_severity\", \"poi_count\", \"has_traffic_control\", \n",
    "    \"urban_rural\", \"rush_hour\", \"weather_severity\", \"hour\", \"day_of_week\",\n",
    "    \"Temperature(F)\", \"Visibility(mi)\", \"State\", \"region\"\n",
    "]\n",
    "\n",
    "# Convert to pandas for statistical analysis\n",
    "stats_df = df_features.select(*analysis_vars).sample(False, sample_fraction, seed=42).toPandas()\n",
    "\n",
    "print(f\"Analysis sample size: {len(stats_df):,} records\")\n",
    "print(f\"Sample represents {sample_fraction*100}% of total dataset\")"
   ]
  },
  {
   "cell_type": "code",
   "execution_count": 37,
   "metadata": {},
   "outputs": [
    {
     "name": "stdout",
     "output_type": "stream",
     "text": [
      "\n",
      "POI Distribution:\n",
      "poi_category\n",
      "No_POI        504102\n",
      "Low_POI       201223\n",
      "Medium_POI     13934\n",
      "High_POI          23\n",
      "Name: count, dtype: int64\n",
      "\n",
      "Chi-square Test: POI Category vs High Severity\n",
      "\n",
      "Contingency Table:\n",
      "high_severity       0       1\n",
      "poi_category                 \n",
      "No_POI         387430  116672\n",
      "Low_POI        173118   28105\n",
      "Medium_POI      12839    1095\n",
      "High_POI           21       2\n",
      "\n",
      "Chi-square statistic: 8850.2962\n",
      "p-value: 0.000000\n",
      "Degrees of freedom: 3\n",
      "Cramér's V (effect size): 0.1109\n",
      "SIGNIFICANT: POI count significantly associated with severity (p < 0.05)\n",
      "\n",
      "Kruskal-Wallis Test: POI Category vs Severity Scores\n",
      "Kruskal-Wallis H statistic: 9434.1908\n",
      "p-value: 0.000000\n",
      "SIGNIFICANT: Severity differs significantly across POI categories (p < 0.05)\n",
      "\n",
      "Median Severity by POI Category:\n",
      "              median      mean   count\n",
      "poi_category                          \n",
      "No_POI           2.0  2.251251  504102\n",
      "Low_POI          2.0  2.146370  201223\n",
      "Medium_POI       2.0  2.075499   13934\n",
      "High_POI         2.0  2.173913      23\n"
     ]
    }
   ],
   "source": [
    "# POI COUNT AND SEVERITY - H1\n",
    "\n",
    "import builtins\n",
    "\n",
    "\n",
    "# Create POI categories for cleaner analysis\n",
    "stats_df['poi_category'] = pd.cut(stats_df['poi_count'], \n",
    "                                 bins=[-1, 0, 2, 5, float('inf')], \n",
    "                                 labels=['No_POI', 'Low_POI', 'Medium_POI', 'High_POI'])\n",
    "\n",
    "print(\"\\nPOI Distribution:\")\n",
    "print(stats_df['poi_category'].value_counts().sort_index())\n",
    "\n",
    "# Test 1A: Chi-square test for POI category vs high severity\n",
    "print(\"\\nChi-square Test: POI Category vs High Severity\")\n",
    "\n",
    "contingency_poi = pd.crosstab(stats_df['poi_category'], stats_df['high_severity'])\n",
    "print(\"\\nContingency Table:\")\n",
    "print(contingency_poi)\n",
    "\n",
    "chi2_poi, p_poi, dof_poi, expected_poi = chi2_contingency(contingency_poi)\n",
    "\n",
    "print(f\"\\nChi-square statistic: {chi2_poi:.4f}\")\n",
    "print(f\"p-value: {p_poi:.6f}\")\n",
    "print(f\"Degrees of freedom: {dof_poi}\")\n",
    "\n",
    "# Calculate effect size (Cramér's V)\n",
    "n = contingency_poi.sum().sum()\n",
    "cramers_v_poi = np.sqrt(chi2_poi / (n * (builtins.min(contingency_poi.shape) - 1)))\n",
    "print(f\"Cramér's V (effect size): {cramers_v_poi:.4f}\")\n",
    "\n",
    "# Interpretation\n",
    "alpha = 0.05\n",
    "if p_poi < alpha:\n",
    "    print(f\"SIGNIFICANT: POI count significantly associated with severity (p < {alpha})\")\n",
    "else:\n",
    "    print(f\"NOT SIGNIFICANT: No significant association found (p >= {alpha})\")\n",
    "\n",
    "# Test 1B: Kruskal-Wallis test for POI category vs severity scores\n",
    "print(\"\\nKruskal-Wallis Test: POI Category vs Severity Scores\")\n",
    "\n",
    "poi_groups = [group['Severity'].values for name, group in stats_df.groupby('poi_category')]\n",
    "h_stat_poi, p_kw_poi = kruskal(*poi_groups)\n",
    "\n",
    "print(f\"Kruskal-Wallis H statistic: {h_stat_poi:.4f}\")\n",
    "print(f\"p-value: {p_kw_poi:.6f}\")\n",
    "\n",
    "if p_kw_poi < alpha:\n",
    "    print(f\"SIGNIFICANT: Severity differs significantly across POI categories (p < {alpha})\")\n",
    "    \n",
    "    # Post-hoc analysis: median severity by POI category\n",
    "    print(\"\\nMedian Severity by POI Category:\")\n",
    "    poi_medians = stats_df.groupby('poi_category')['Severity'].agg(['median', 'mean', 'count'])\n",
    "    print(poi_medians)\n",
    "else:\n",
    "    print(f\"NOT SIGNIFICANT: No significant difference in severity across POI categories\")\n"
   ]
  },
  {
   "cell_type": "markdown",
   "metadata": {},
   "source": [
    "H1: More POIs → Lower Severity\n",
    "- Chi-Square significant (p < 0.001), Cramér’s V = 0.11 → Small effect\n",
    "- Kruskal-Wallis also significant (p < 0.001)\n",
    "- Descriptive stats: Slight reduction in mean severity from No_POI to Medium_POI\n",
    "Mean ranges from 2.25 → 2.07 (subtle but important in the great scheme)"
   ]
  },
  {
   "cell_type": "code",
   "execution_count": 38,
   "metadata": {},
   "outputs": [
    {
     "name": "stdout",
     "output_type": "stream",
     "text": [
      "\n",
      "Chi-square Test: Traffic Control vs High Severity\n",
      "\n",
      "Contingency Table:\n",
      "high_severity             0       1\n",
      "has_traffic_control                \n",
      "0                    456662  134411\n",
      "1                    116746   11463\n",
      "\n",
      "Chi-square statistic: 12407.9883\n",
      "p-value: 0.000000\n",
      "Cramér's V (effect size): 0.1313\n",
      "SIGNIFICANT: Traffic control significantly associated with severity (p < 0.05)\n",
      "\n",
      "Mann-Whitney U Test: Traffic Control vs Severity Scores\n",
      "Mann-Whitney U statistic: 43449930031\n",
      "p-value: 0.000000\n",
      "Rank-biserial correlation (effect size): -0.1467\n",
      "\n",
      "Descriptive Statistics:\n",
      "No Traffic Control - Median Severity: 2.00, Mean: 2.25\n",
      "Has Traffic Control - Median Severity: 2.00, Mean: 2.09\n",
      "SIGNIFICANT: Severity differs significantly by traffic control presence (p < 0.05)\n"
     ]
    }
   ],
   "source": [
    "# TRAFFIC CONTROL AND SEVERITY - H2\n",
    "\n",
    "# Chi-square test for traffic control vs high severity\n",
    "print(\"\\nChi-square Test: Traffic Control vs High Severity\")\n",
    "\n",
    "contingency_traffic = pd.crosstab(stats_df['has_traffic_control'], stats_df['high_severity'])\n",
    "print(\"\\nContingency Table:\")\n",
    "print(contingency_traffic)\n",
    "\n",
    "chi2_traffic, p_traffic, dof_traffic, expected_traffic = chi2_contingency(contingency_traffic)\n",
    "\n",
    "print(f\"\\nChi-square statistic: {chi2_traffic:.4f}\")\n",
    "print(f\"p-value: {p_traffic:.6f}\")\n",
    "\n",
    "# Effect size\n",
    "n_traffic = contingency_traffic.sum().sum()\n",
    "cramers_v_traffic = np.sqrt(chi2_traffic / (n_traffic * (builtins.min(contingency_traffic.shape) - 1)))\n",
    "print(f\"Cramér's V (effect size): {cramers_v_traffic:.4f}\")\n",
    "\n",
    "if p_traffic < alpha:\n",
    "    print(f\"SIGNIFICANT: Traffic control significantly associated with severity (p < {alpha})\")\n",
    "else:\n",
    "    print(f\"NOT SIGNIFICANT: No significant association found (p >= {alpha})\")\n",
    "\n",
    "# Test 2B: Mann-Whitney U test for traffic control vs severity\n",
    "print(\"\\nMann-Whitney U Test: Traffic Control vs Severity Scores\")\n",
    "\n",
    "no_control = stats_df[stats_df['has_traffic_control'] == 0]['Severity']\n",
    "has_control = stats_df[stats_df['has_traffic_control'] == 1]['Severity']\n",
    "\n",
    "u_stat, p_mann = mannwhitneyu(no_control, has_control, alternative='two-sided')\n",
    "\n",
    "print(f\"Mann-Whitney U statistic: {u_stat:.0f}\")\n",
    "print(f\"p-value: {p_mann:.6f}\")\n",
    "\n",
    "# Effect size (rank-biserial correlation)\n",
    "n1, n2 = len(no_control), len(has_control)\n",
    "r_rb = 1 - (2 * u_stat) / (n1 * n2)\n",
    "print(f\"Rank-biserial correlation (effect size): {r_rb:.4f}\")\n",
    "\n",
    "print(f\"\\nDescriptive Statistics:\")\n",
    "print(f\"No Traffic Control - Median Severity: {no_control.median():.2f}, Mean: {no_control.mean():.2f}\")\n",
    "print(f\"Has Traffic Control - Median Severity: {has_control.median():.2f}, Mean: {has_control.mean():.2f}\")\n",
    "\n",
    "if p_mann < alpha:\n",
    "    print(f\"SIGNIFICANT: Severity differs significantly by traffic control presence (p < {alpha})\")\n",
    "else:\n",
    "    print(f\"NOT SIGNIFICANT: No significant difference found\")\n"
   ]
  },
  {
   "cell_type": "markdown",
   "metadata": {},
   "source": [
    "H2: Traffic Control Presence\n",
    "- Chi-Square significant (p < 0.001), Cramér’s V = 0.13  Small to moderate effect\n",
    "- Mann-Whitney U significant (p < 0.001), effect size = -0.15\n",
    "- Descriptive: Mean severity lower when traffic control is present (2.25 → 2.09)"
   ]
  },
  {
   "cell_type": "code",
   "execution_count": 39,
   "metadata": {},
   "outputs": [
    {
     "name": "stdout",
     "output_type": "stream",
     "text": [
      "\n",
      "Chi-square Test: Urban/Rural vs High Severity\n",
      "\n",
      "Contingency Table:\n",
      "high_severity       0       1\n",
      "urban_rural                  \n",
      "Rural          412854  101946\n",
      "Urban          160554   43928\n",
      "\n",
      "Chi-square statistic: 255.2454\n",
      "p-value: 0.000000\n",
      "\n",
      "Mann-Whitney U Test: Urban vs Rural POI Count\n",
      "Mann-Whitney U statistic: 60648501118\n",
      "p-value: 0.000000\n",
      "\n",
      "POI Descriptive Statistics:\n",
      "Urban - Median POI: 0.00, Mean: 0.61\n",
      "Rural - Median POI: 0.00, Mean: 0.34\n"
     ]
    }
   ],
   "source": [
    "\n",
    "# Chi-square test for urban/rural vs high severity\n",
    "print(\"\\nChi-square Test: Urban/Rural vs High Severity\")\n",
    "\n",
    "contingency_urban = pd.crosstab(stats_df['urban_rural'], stats_df['high_severity'])\n",
    "print(\"\\nContingency Table:\")\n",
    "print(contingency_urban)\n",
    "\n",
    "chi2_urban, p_urban, dof_urban, expected_urban = chi2_contingency(contingency_urban)\n",
    "\n",
    "print(f\"\\nChi-square statistic: {chi2_urban:.4f}\")\n",
    "print(f\"p-value: {p_urban:.6f}\")\n",
    "\n",
    "# Compare POI distribution between urban and rural\n",
    "print(\"\\nMann-Whitney U Test: Urban vs Rural POI Count\")\n",
    "\n",
    "urban_poi = stats_df[stats_df['urban_rural'] == 'Urban']['poi_count']\n",
    "rural_poi = stats_df[stats_df['urban_rural'] == 'Rural']['poi_count']\n",
    "\n",
    "u_poi, p_poi_urban = mannwhitneyu(urban_poi, rural_poi, alternative='two-sided')\n",
    "\n",
    "print(f\"Mann-Whitney U statistic: {u_poi:.0f}\")\n",
    "print(f\"p-value: {p_poi_urban:.6f}\")\n",
    "print(f\"\\nPOI Descriptive Statistics:\")\n",
    "print(f\"Urban - Median POI: {urban_poi.median():.2f}, Mean: {urban_poi.mean():.2f}\")\n",
    "print(f\"Rural - Median POI: {rural_poi.median():.2f}, Mean: {rural_poi.mean():.2f}\")\n"
   ]
  },
  {
   "cell_type": "markdown",
   "metadata": {},
   "source": [
    "H3: Urban vs Rural\n",
    "- Chi-Square significant (p < 0.001)\n",
    "- POI Count differs significantly: Urban Mean = 0.61 vs Rural = 0.34"
   ]
  },
  {
   "cell_type": "code",
   "execution_count": 40,
   "metadata": {},
   "outputs": [
    {
     "name": "stdout",
     "output_type": "stream",
     "text": [
      "\n",
      "Contingency Analysis: Rush Hour / Traffic Control / High Severity\n",
      "\n",
      "Rush Hour / Traffic Control / High Severity:\n",
      "high_severity                       0      1\n",
      "rush_hour has_traffic_control               \n",
      "0         0                    292061  83742\n",
      "          1                     68458   7231\n",
      "1         0                    164601  50669\n",
      "          1                     48288   4232\n",
      "\n",
      "Non-Rush Hour:\n",
      "high_severity               0         1\n",
      "has_traffic_control                    \n",
      "0                    0.777165  0.222835\n",
      "1                    0.904464  0.095536\n",
      "\n",
      "Rush Hour:\n",
      "high_severity               0         1\n",
      "has_traffic_control                    \n",
      "0                    0.764626  0.235374\n",
      "1                    0.919421  0.080579\n"
     ]
    }
   ],
   "source": [
    "\n",
    "# Test rush hour interaction with infrastructure\n",
    "print(\"\\nContingency Analysis: Rush Hour / Traffic Control / High Severity\")\n",
    "\n",
    "# Create contingency table \n",
    "rush_control_severity = stats_df.groupby(['rush_hour', 'has_traffic_control', 'high_severity']).size().unstack(fill_value=0)\n",
    "print(\"\\nRush Hour / Traffic Control / High Severity:\")\n",
    "print(rush_control_severity)\n",
    "\n",
    "# Calculate proportions for interpretation\n",
    "for rush in [0, 1]:\n",
    "    print(f\"\\n{'Rush Hour' if rush == 1 else 'Non-Rush Hour'}:\")\n",
    "    subset = stats_df[stats_df['rush_hour'] == rush]\n",
    "    prop_table = pd.crosstab(subset['has_traffic_control'], subset['high_severity'], normalize='index')\n",
    "    print(prop_table)"
   ]
  },
  {
   "cell_type": "markdown",
   "metadata": {},
   "source": [
    "H4: Infrastructure & Time Interaction\n",
    "\n",
    "- Non-rush: Traffic control reduces high severity from 22% to 9.5%\n",
    "- Rush hour: Traffic control reduces it even further: 23.5% to 8%\n",
    "- Strong interaction effect, especially important for urban planning and stakeholders"
   ]
  },
  {
   "cell_type": "code",
   "execution_count": 41,
   "metadata": {},
   "outputs": [
    {
     "name": "stdout",
     "output_type": "stream",
     "text": [
      "\n",
      "🔗 Spearman Correlation Matrix (non-parametric, handles ordinal data):\n",
      "                     Severity  poi_count  weather_severity   hour  \\\n",
      "Severity                1.000     -0.121             0.035  0.020   \n",
      "poi_count              -0.121      1.000             0.001 -0.008   \n",
      "weather_severity        0.035      0.001             1.000 -0.049   \n",
      "hour                    0.020     -0.008            -0.049  1.000   \n",
      "Temperature(F)         -0.010      0.049            -0.168  0.195   \n",
      "Visibility(mi)         -0.012      0.037            -0.381  0.123   \n",
      "high_severity           0.981     -0.117             0.034  0.016   \n",
      "has_traffic_control    -0.137      0.754            -0.007 -0.015   \n",
      "\n",
      "                     Temperature(F)  Visibility(mi)  high_severity  \\\n",
      "Severity                     -0.010          -0.012          0.981   \n",
      "poi_count                     0.049           0.037         -0.117   \n",
      "weather_severity             -0.168          -0.381          0.034   \n",
      "hour                          0.195           0.123          0.016   \n",
      "Temperature(F)                1.000           0.220          0.002   \n",
      "Visibility(mi)                0.220           1.000         -0.009   \n",
      "high_severity                 0.002          -0.009          1.000   \n",
      "has_traffic_control           0.046           0.033         -0.131   \n",
      "\n",
      "                     has_traffic_control  \n",
      "Severity                          -0.137  \n",
      "poi_count                          0.754  \n",
      "weather_severity                  -0.007  \n",
      "hour                              -0.015  \n",
      "Temperature(F)                     0.046  \n",
      "Visibility(mi)                     0.033  \n",
      "high_severity                     -0.131  \n",
      "has_traffic_control                1.000  \n",
      "\n",
      "Key Correlations with Severity:\n",
      "  high_severity: +0.981 ***\n",
      "  has_traffic_control: -0.137 ***\n",
      "  poi_count: -0.121 ***\n"
     ]
    }
   ],
   "source": [
    "\n",
    "# Select numeric variables for correlation\n",
    "numeric_vars = ['Severity', 'poi_count', 'weather_severity', 'hour', \n",
    "                'Temperature(F)', 'Visibility(mi)', 'high_severity', 'has_traffic_control']\n",
    "\n",
    "corr_data = stats_df[numeric_vars]\n",
    "\n",
    "print(\"\\n🔗 Spearman Correlation Matrix (non-parametric, handles ordinal data):\")\n",
    "\n",
    "# Calculate Spearman correlations\n",
    "spearman_corr = corr_data.corr(method='spearman')\n",
    "print(spearman_corr.round(3))\n",
    "\n",
    "# Focus on severity correlations\n",
    "print(\"\\nKey Correlations with Severity:\")\n",
    "severity_corrs = spearman_corr['Severity'].abs().sort_values(ascending=False)\n",
    "for var, corr in severity_corrs.items():\n",
    "    if var != 'Severity' and builtins.abs(corr) > 0.05:\n",
    "        # Calculate significance\n",
    "        n = len(corr_data.dropna())\n",
    "        t_stat = corr * np.sqrt((n-2)/(1-corr**2))\n",
    "        p_val = 2 * (1 - stats.t.cdf(builtins.abs(t_stat), n-2))\n",
    "        significance = \"***\" if p_val < 0.001 else \"**\" if p_val < 0.01 else \"*\" if p_val < 0.05 else \"\"\n",
    "        print(f\"  {var}: {spearman_corr['Severity'][var]:+.3f} {significance}\")"
   ]
  },
  {
   "cell_type": "code",
   "execution_count": 42,
   "metadata": {},
   "outputs": [],
   "source": [
    "spark.stop()"
   ]
  },
  {
   "cell_type": "markdown",
   "metadata": {},
   "source": [
    "notable negative correlations:\n",
    "- has_traffic_control: -0.137\n",
    "- poi_count: -0.121\n",
    "\n",
    "Weather and time effects are weaker but still present."
   ]
  },
  {
   "cell_type": "markdown",
   "metadata": {},
   "source": [
    "This analysis provides important evidence for infrastructure interventions:\n",
    "- POI Infrastructure Impact: Strong negative correlation (-0.121) between POI count and severity, with significant association (p < 0.001, Cramér's V = 0.111)\n",
    "- Traffic Control Effectiveness: 14.7% reduction in severity with traffic control presence (rank-biserial = -0.147, p < 0.001)\n",
    "- Urban vs Rural Disparity: Rural areas show 22.2% high-severity rate vs 21.5% urban, despite lower infrastructure density\n",
    "- Rush Hour Amplification: Traffic control reduces high-severity accidents from 23.5% to 8.1% during rush hours\n"
   ]
  },
  {
   "cell_type": "markdown",
   "metadata": {},
   "source": [
    "## Evaluation\n",
    "\n",
    "### Business Insight/Recommendation 1"
   ]
  },
  {
   "cell_type": "markdown",
   "metadata": {},
   "source": [
    "### Strategic Traffic Control Infraestructure\n",
    "### Action\n",
    "Implement a data-driven traffic control installation program targeting high-accident corridors with low infrastructure density, prioritizing locations with POI counts ≤2 and no existing traffic control.\n",
    "\n",
    "### Statistical Justification\n",
    "- Traffic control presence reduces mean severity from 2.25 to 2.09 (7.1% improvement)\n",
    "- 86.5% reduction in high-severity accidents during rush hours (23.5% → 8.1%)\n",
    "- Areas without traffic control show 22.3% high-severity rate vs 8.9% with control\n",
    "- Logistic regression coefficient: -0.431 for POI count (OR = 0.65)\n",
    "\n",
    "### Impact \n",
    "- 15-20% reduction in high - severity accidents at intervened locations\n",
    "- 7% Overall severity reduction across interventened locations\n",
    "- Improved traffic flow and reduced congestion\n",
    "\n",
    "### Proposed Metrics\n",
    "- Severity Reduction: Target >15% decrease in high severity accidents \n",
    "- Frequency Reduction: Target >10% decrease in total accidents\n",
    "- Economic Impact: Calculate cost per severe accident prevented\n",
    "\n",
    "### Implementation Challenges\n",
    "- Funding and Budget\n",
    "- Site specific design\n",
    "- Community acceptance and public engagement\n",
    "- Maintenace and long-term operational costs associated"
   ]
  },
  {
   "cell_type": "markdown",
   "metadata": {},
   "source": [
    "### Business Insight/Recommendation 2"
   ]
  },
  {
   "cell_type": "markdown",
   "metadata": {},
   "source": [
    "### POI - Based Safety Corridor Development\n",
    "### Action\n",
    "Create an Integrated safety corridor by providing more POI around high accident areas to reduce speed and increase driver awareness. \n",
    "\n",
    "### Statistical Justification\n",
    "- Each additional POI reduces severity odds by 35% (OR = 0.65)\n",
    "- Areas with 3+ POIs show consistently lower severity rates\n",
    "- Urban areas with higher POI density (0.61 vs 0.34 rural) demonstrate better safety outcomes\n",
    "- Strong correlation between POI presence and traffic control (r = 0.754)\n",
    "\n",
    "### Impact\n",
    "- 25-30% reduction in severe accidents along developed corridors\n",
    "- Improved emergency response times with more landmarks\n",
    "\n",
    "### Proposed Metrics\n",
    "- POI Density: Achieve minimum 3 POIs per mile in target corridors\n",
    "- Accident Reduction: 25% decrease in high severity accidents \n",
    "- Community Safety: Measure pedestrian safety improvements\n",
    "\n",
    "### Implementation Challenges\n",
    "- Funding and Budget\n",
    "- Maintenance \n",
    "- Complex local goverments approval"
   ]
  },
  {
   "cell_type": "markdown",
   "metadata": {},
   "source": [
    "### Business Insight/Recommendation 3"
   ]
  },
  {
   "cell_type": "markdown",
   "metadata": {},
   "source": [
    "### Rush Hour Dynamic management system\n",
    "### Action\n",
    "Design and deploy an intelligent transportation system that adjust traffic control and warning during rush hours\n",
    "\n",
    "### Statistical Justification\n",
    "- Rush hour increases severity differences: 23.5% vs 8.1% high-severity rates without vs with traffic control\n",
    "- Time-based patterns show 20% higher accident rates during rush hours\n",
    "- Weather severity correlation (0.035) suggests environmental responsiveness needed\n",
    "- Poor visibility correlation (-0.109) indicates opportunity for adaptive lighting\n",
    "\n",
    "### Impact\n",
    "- 40% reduction in rush-hour severe accidents\n",
    "- 15% Improvements in traffic flow\n",
    "- Enhanced emergency response and coordination \n",
    "\n",
    "### Proposed Metrics\n",
    "Reduce severe accidents during peak hours by 35%\n",
    "Achieve <5 minute emergency response in equipped zones\n",
    "User Adoption 70% driver awareness of mobile alert systems\n",
    "\n",
    "### Implementation Challenges\n",
    "- Technology Cost\n",
    "- System integration and coordination across multiple technology platforms\n",
    "- Public Acceptance \n"
   ]
  },
  {
   "cell_type": "markdown",
   "metadata": {},
   "source": [
    "### Tableau Dashboard link\n",
    "https://public.tableau.com/views/USTrafficAccidents_17492550044260/Dashboard1?:language=en-US&:sid=&:redirect=auth&:display_count=n&:origin=viz_share_link\n"
   ]
  },
  {
   "cell_type": "markdown",
   "metadata": {},
   "source": [
    "## Conclusion and Next Steps\n",
    "These recommendations look to transform statistical insights into practical policy intervention that transportation agencies can implement, measure and refine based on real outcomes. Could even be the foundation for securing funding and community support by demostrating evidence approaches to this critical public safety issue. \n",
    "\n",
    "While the analysis offers strong evidence to support infrastructure-driven traffic safety interventions, it is essential to recognize its limitations and proactively address implementation risks. Statistical constraints such as correlation not implying causation and the need for geographic validation highlight the importance of piloting programs before scaling. Similarly, implementation success hinges on careful planning—phased rollouts with clear metrics.  Resilient technologies and community engagement are critical to building trust and ensuring sustainability. By acknowledging these challenges and integrating adaptive risk mitigation strategies, the proposed recommendations offer a balanced, actionable roadmap for improving traffic safety outcomes in diverse contexts.\n"
   ]
  }
 ],
 "metadata": {
  "kernelspec": {
   "display_name": "spark_env",
   "language": "python",
   "name": "python3"
  },
  "language_info": {
   "codemirror_mode": {
    "name": "ipython",
    "version": 3
   },
   "file_extension": ".py",
   "mimetype": "text/x-python",
   "name": "python",
   "nbconvert_exporter": "python",
   "pygments_lexer": "ipython3",
   "version": "3.10.13"
  }
 },
 "nbformat": 4,
 "nbformat_minor": 4
}
